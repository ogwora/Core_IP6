{
  "nbformat": 4,
  "nbformat_minor": 0,
  "metadata": {
    "colab": {
      "name": "Moringa_Core_IP_W9_Lawrence_Ondieki_KNN_Classification.ipynb",
      "provenance": [],
      "collapsed_sections": [],
      "include_colab_link": true
    },
    "kernelspec": {
      "display_name": "Python 3",
      "language": "python",
      "name": "python3"
    },
    "language_info": {
      "codemirror_mode": {
        "name": "ipython",
        "version": 3
      },
      "file_extension": ".py",
      "mimetype": "text/x-python",
      "name": "python",
      "nbconvert_exporter": "python",
      "pygments_lexer": "ipython3",
      "version": "3.8.5"
    }
  },
  "cells": [
    {
      "cell_type": "markdown",
      "metadata": {
        "id": "view-in-github",
        "colab_type": "text"
      },
      "source": [
        "<a href=\"https://colab.research.google.com/github/ogwora/Core_IP6/blob/master/Moringa_Core_IP_W9_Lawrence_Ondieki_KNN_Classification.ipynb\" target=\"_parent\"><img src=\"https://colab.research.google.com/assets/colab-badge.svg\" alt=\"Open In Colab\"/></a>"
      ]
    },
    {
      "cell_type": "markdown",
      "metadata": {
        "id": "CdUucS-k7Uu0"
      },
      "source": [
        "# The Titanic KNN Data Analysis"
      ]
    },
    {
      "cell_type": "markdown",
      "metadata": {
        "id": "KK0jgKeykCFu"
      },
      "source": [
        "# 1. 0 The Research Question\n"
      ]
    },
    {
      "cell_type": "markdown",
      "metadata": {
        "id": "30aAJYTulq2F"
      },
      "source": [
        "Predicting if a passenger in the Titanic survived when it sank in 1912."
      ]
    },
    {
      "cell_type": "markdown",
      "metadata": {
        "id": "2InbHWkBoTFI"
      },
      "source": [
        "# 1.1 Metrics of success\n"
      ]
    },
    {
      "cell_type": "markdown",
      "metadata": {
        "id": "JquBidfcobkR"
      },
      "source": [
        "Doing  a Exploratory data analysis that will help understand the provided data, also create K nearest neighbour classification model that is able to predict if a passenger in the titanic would survive an accident or not"
      ]
    },
    {
      "cell_type": "markdown",
      "metadata": {
        "id": "XGzzh-XzqkSt"
      },
      "source": [
        "# 1.2 Recording the Experimental Design"
      ]
    },
    {
      "cell_type": "markdown",
      "metadata": {
        "id": "6ZAKOeyvqwe4"
      },
      "source": [
        "The following steps will be followed:\n",
        "\n",
        "1.2.1 Loading the dataset <br>\n",
        "1.2.2 Data understanding <br>\n",
        "1.2.3 Data cleaning and manipulation <br>\n",
        "1.2.4 Exploratory Data analysis <br>\n",
        "1.2.5 Predictive analysis <br>\n",
        "1.2.6 Implementing the solution <br>\n"
      ]
    },
    {
      "cell_type": "markdown",
      "metadata": {
        "id": "xTsvDWFPsYTT"
      },
      "source": [
        "# 1.3 Understanding the context"
      ]
    },
    {
      "cell_type": "markdown",
      "metadata": {
        "id": "3hi4QT3rsjFp"
      },
      "source": [
        "The RMS Titanic was a British passenger liner that sank in the North Atlantic Ocean in 15 April 1912, after it collided with an iceberg during its maiden voyage from Southampton to New York City. There were an estimated 2,224 passengers and crew aboard the ship, and more than 1,500 died, including Thomas Andrews, her architect."
      ]
    },
    {
      "cell_type": "markdown",
      "metadata": {
        "id": "mjrp_tNhrKIz"
      },
      "source": [
        "# 1.4 Data relevance"
      ]
    },
    {
      "cell_type": "markdown",
      "metadata": {
        "id": "jRCbheU9rMW1"
      },
      "source": [
        "Pclass Passenger Class (1 = 1st; 2 = 2nd; 3 = 3rd)\n",
        "\n",
        "survival Survival (0 = No; 1 = Yes)\n",
        "name Name\n",
        "\n",
        "sex Sex\n",
        "\n",
        "age Age\n",
        "\n",
        "sibsp Number of Siblings/Spouses Aboard\n",
        "\n",
        "parch Number of Parents/Children Aboard\n",
        "\n",
        "ticket Ticket Number\n",
        "\n",
        "fare Passenger Fare (British pound)\n",
        "\n",
        "cabin Cabin\n",
        "\n",
        "embarked Port of Embarkation (C = Cherbourg; Q = Queenstown; S = Southampton)\n",
        "\n",
        "boat Lifeboat\n",
        "\n",
        "body Body Identification Number\n",
        "\n",
        "home.dest Home/Destination"
      ]
    },
    {
      "cell_type": "markdown",
      "metadata": {
        "id": "yQmkT4cw9Nbh"
      },
      "source": [
        "# 2.0 Data Cleaning"
      ]
    },
    {
      "cell_type": "markdown",
      "metadata": {
        "id": "rQRXX8Eu9QHH"
      },
      "source": [
        "## 2.1 Import and load the Libraries"
      ]
    },
    {
      "cell_type": "code",
      "metadata": {
        "id": "WvMDzjc2TxIe"
      },
      "source": [
        "## import libraries\n",
        "import pandas as pd\n",
        "import numpy as np\n",
        "import matplotlib.pyplot as plt\n",
        "import seaborn as sns\n",
        "import warnings\n",
        "warnings.simplefilter(action='ignore', category=FutureWarning)"
      ],
      "execution_count": 3,
      "outputs": []
    },
    {
      "cell_type": "markdown",
      "metadata": {
        "id": "czm3YVbO9Ym7"
      },
      "source": [
        "## 2.2 Load the datasets"
      ]
    },
    {
      "cell_type": "code",
      "metadata": {
        "id": "Hdf2s6xEU-L5"
      },
      "source": [
        "### getting the datasets\n",
        "train=pd.read_csv('train_5.csv',index_col='PassengerId')\n",
        "test=pd.read_csv('test_1.csv',index_col='PassengerId')"
      ],
      "execution_count": 19,
      "outputs": []
    },
    {
      "cell_type": "code",
      "metadata": {
        "colab": {
          "base_uri": "https://localhost:8080/",
          "height": 235
        },
        "id": "sHZxfwVQVW85",
        "outputId": "92dbb80f-f69d-4c8a-e168-2d8ae25bbe2c"
      },
      "source": [
        "### train data\n",
        "train.head()"
      ],
      "execution_count": 20,
      "outputs": [
        {
          "output_type": "execute_result",
          "data": {
            "text/html": [
              "<div>\n",
              "<style scoped>\n",
              "    .dataframe tbody tr th:only-of-type {\n",
              "        vertical-align: middle;\n",
              "    }\n",
              "\n",
              "    .dataframe tbody tr th {\n",
              "        vertical-align: top;\n",
              "    }\n",
              "\n",
              "    .dataframe thead th {\n",
              "        text-align: right;\n",
              "    }\n",
              "</style>\n",
              "<table border=\"1\" class=\"dataframe\">\n",
              "  <thead>\n",
              "    <tr style=\"text-align: right;\">\n",
              "      <th></th>\n",
              "      <th>Survived</th>\n",
              "      <th>Pclass</th>\n",
              "      <th>Name</th>\n",
              "      <th>Sex</th>\n",
              "      <th>Age</th>\n",
              "      <th>SibSp</th>\n",
              "      <th>Parch</th>\n",
              "      <th>Ticket</th>\n",
              "      <th>Fare</th>\n",
              "      <th>Cabin</th>\n",
              "      <th>Embarked</th>\n",
              "    </tr>\n",
              "    <tr>\n",
              "      <th>PassengerId</th>\n",
              "      <th></th>\n",
              "      <th></th>\n",
              "      <th></th>\n",
              "      <th></th>\n",
              "      <th></th>\n",
              "      <th></th>\n",
              "      <th></th>\n",
              "      <th></th>\n",
              "      <th></th>\n",
              "      <th></th>\n",
              "      <th></th>\n",
              "    </tr>\n",
              "  </thead>\n",
              "  <tbody>\n",
              "    <tr>\n",
              "      <th>1</th>\n",
              "      <td>0</td>\n",
              "      <td>3</td>\n",
              "      <td>Braund, Mr. Owen Harris</td>\n",
              "      <td>male</td>\n",
              "      <td>22.0</td>\n",
              "      <td>1</td>\n",
              "      <td>0</td>\n",
              "      <td>A/5 21171</td>\n",
              "      <td>7.2500</td>\n",
              "      <td>NaN</td>\n",
              "      <td>S</td>\n",
              "    </tr>\n",
              "    <tr>\n",
              "      <th>2</th>\n",
              "      <td>1</td>\n",
              "      <td>1</td>\n",
              "      <td>Cumings, Mrs. John Bradley (Florence Briggs Th...</td>\n",
              "      <td>female</td>\n",
              "      <td>38.0</td>\n",
              "      <td>1</td>\n",
              "      <td>0</td>\n",
              "      <td>PC 17599</td>\n",
              "      <td>71.2833</td>\n",
              "      <td>C85</td>\n",
              "      <td>C</td>\n",
              "    </tr>\n",
              "    <tr>\n",
              "      <th>3</th>\n",
              "      <td>1</td>\n",
              "      <td>3</td>\n",
              "      <td>Heikkinen, Miss. Laina</td>\n",
              "      <td>female</td>\n",
              "      <td>26.0</td>\n",
              "      <td>0</td>\n",
              "      <td>0</td>\n",
              "      <td>STON/O2. 3101282</td>\n",
              "      <td>7.9250</td>\n",
              "      <td>NaN</td>\n",
              "      <td>S</td>\n",
              "    </tr>\n",
              "    <tr>\n",
              "      <th>4</th>\n",
              "      <td>1</td>\n",
              "      <td>1</td>\n",
              "      <td>Futrelle, Mrs. Jacques Heath (Lily May Peel)</td>\n",
              "      <td>female</td>\n",
              "      <td>35.0</td>\n",
              "      <td>1</td>\n",
              "      <td>0</td>\n",
              "      <td>113803</td>\n",
              "      <td>53.1000</td>\n",
              "      <td>C123</td>\n",
              "      <td>S</td>\n",
              "    </tr>\n",
              "    <tr>\n",
              "      <th>5</th>\n",
              "      <td>0</td>\n",
              "      <td>3</td>\n",
              "      <td>Allen, Mr. William Henry</td>\n",
              "      <td>male</td>\n",
              "      <td>35.0</td>\n",
              "      <td>0</td>\n",
              "      <td>0</td>\n",
              "      <td>373450</td>\n",
              "      <td>8.0500</td>\n",
              "      <td>NaN</td>\n",
              "      <td>S</td>\n",
              "    </tr>\n",
              "  </tbody>\n",
              "</table>\n",
              "</div>"
            ],
            "text/plain": [
              "             Survived  Pclass  ... Cabin Embarked\n",
              "PassengerId                    ...               \n",
              "1                   0       3  ...   NaN        S\n",
              "2                   1       1  ...   C85        C\n",
              "3                   1       3  ...   NaN        S\n",
              "4                   1       1  ...  C123        S\n",
              "5                   0       3  ...   NaN        S\n",
              "\n",
              "[5 rows x 11 columns]"
            ]
          },
          "metadata": {
            "tags": []
          },
          "execution_count": 20
        }
      ]
    },
    {
      "cell_type": "code",
      "metadata": {
        "colab": {
          "base_uri": "https://localhost:8080/",
          "height": 235
        },
        "id": "QRZ-xbTdVi5Y",
        "outputId": "71b84375-a860-433a-92d6-a6fce733d71c"
      },
      "source": [
        "## test data\n",
        "test.head()"
      ],
      "execution_count": 21,
      "outputs": [
        {
          "output_type": "execute_result",
          "data": {
            "text/html": [
              "<div>\n",
              "<style scoped>\n",
              "    .dataframe tbody tr th:only-of-type {\n",
              "        vertical-align: middle;\n",
              "    }\n",
              "\n",
              "    .dataframe tbody tr th {\n",
              "        vertical-align: top;\n",
              "    }\n",
              "\n",
              "    .dataframe thead th {\n",
              "        text-align: right;\n",
              "    }\n",
              "</style>\n",
              "<table border=\"1\" class=\"dataframe\">\n",
              "  <thead>\n",
              "    <tr style=\"text-align: right;\">\n",
              "      <th></th>\n",
              "      <th>Pclass</th>\n",
              "      <th>Name</th>\n",
              "      <th>Sex</th>\n",
              "      <th>Age</th>\n",
              "      <th>SibSp</th>\n",
              "      <th>Parch</th>\n",
              "      <th>Ticket</th>\n",
              "      <th>Fare</th>\n",
              "      <th>Cabin</th>\n",
              "      <th>Embarked</th>\n",
              "    </tr>\n",
              "    <tr>\n",
              "      <th>PassengerId</th>\n",
              "      <th></th>\n",
              "      <th></th>\n",
              "      <th></th>\n",
              "      <th></th>\n",
              "      <th></th>\n",
              "      <th></th>\n",
              "      <th></th>\n",
              "      <th></th>\n",
              "      <th></th>\n",
              "      <th></th>\n",
              "    </tr>\n",
              "  </thead>\n",
              "  <tbody>\n",
              "    <tr>\n",
              "      <th>892</th>\n",
              "      <td>3</td>\n",
              "      <td>Kelly, Mr. James</td>\n",
              "      <td>male</td>\n",
              "      <td>34.5</td>\n",
              "      <td>0</td>\n",
              "      <td>0</td>\n",
              "      <td>330911</td>\n",
              "      <td>7.8292</td>\n",
              "      <td>NaN</td>\n",
              "      <td>Q</td>\n",
              "    </tr>\n",
              "    <tr>\n",
              "      <th>893</th>\n",
              "      <td>3</td>\n",
              "      <td>Wilkes, Mrs. James (Ellen Needs)</td>\n",
              "      <td>female</td>\n",
              "      <td>47.0</td>\n",
              "      <td>1</td>\n",
              "      <td>0</td>\n",
              "      <td>363272</td>\n",
              "      <td>7.0000</td>\n",
              "      <td>NaN</td>\n",
              "      <td>S</td>\n",
              "    </tr>\n",
              "    <tr>\n",
              "      <th>894</th>\n",
              "      <td>2</td>\n",
              "      <td>Myles, Mr. Thomas Francis</td>\n",
              "      <td>male</td>\n",
              "      <td>62.0</td>\n",
              "      <td>0</td>\n",
              "      <td>0</td>\n",
              "      <td>240276</td>\n",
              "      <td>9.6875</td>\n",
              "      <td>NaN</td>\n",
              "      <td>Q</td>\n",
              "    </tr>\n",
              "    <tr>\n",
              "      <th>895</th>\n",
              "      <td>3</td>\n",
              "      <td>Wirz, Mr. Albert</td>\n",
              "      <td>male</td>\n",
              "      <td>27.0</td>\n",
              "      <td>0</td>\n",
              "      <td>0</td>\n",
              "      <td>315154</td>\n",
              "      <td>8.6625</td>\n",
              "      <td>NaN</td>\n",
              "      <td>S</td>\n",
              "    </tr>\n",
              "    <tr>\n",
              "      <th>896</th>\n",
              "      <td>3</td>\n",
              "      <td>Hirvonen, Mrs. Alexander (Helga E Lindqvist)</td>\n",
              "      <td>female</td>\n",
              "      <td>22.0</td>\n",
              "      <td>1</td>\n",
              "      <td>1</td>\n",
              "      <td>3101298</td>\n",
              "      <td>12.2875</td>\n",
              "      <td>NaN</td>\n",
              "      <td>S</td>\n",
              "    </tr>\n",
              "  </tbody>\n",
              "</table>\n",
              "</div>"
            ],
            "text/plain": [
              "             Pclass  ... Embarked\n",
              "PassengerId          ...         \n",
              "892               3  ...        Q\n",
              "893               3  ...        S\n",
              "894               2  ...        Q\n",
              "895               3  ...        S\n",
              "896               3  ...        S\n",
              "\n",
              "[5 rows x 10 columns]"
            ]
          },
          "metadata": {
            "tags": []
          },
          "execution_count": 21
        }
      ]
    },
    {
      "cell_type": "code",
      "metadata": {
        "colab": {
          "base_uri": "https://localhost:8080/"
        },
        "id": "-m1SobICW7EZ",
        "outputId": "069426ed-35da-44be-ae63-98d426ff7ab1"
      },
      "source": [
        "### train number of columns and rows\n",
        "train.shape"
      ],
      "execution_count": 22,
      "outputs": [
        {
          "output_type": "execute_result",
          "data": {
            "text/plain": [
              "(891, 11)"
            ]
          },
          "metadata": {
            "tags": []
          },
          "execution_count": 22
        }
      ]
    },
    {
      "cell_type": "code",
      "metadata": {
        "colab": {
          "base_uri": "https://localhost:8080/"
        },
        "id": "m_dmonMQXHBH",
        "outputId": "5d52d3d7-8f59-49c7-eac4-e8e0a97e4292"
      },
      "source": [
        "### test number of columns and rows\n",
        "test.shape"
      ],
      "execution_count": 23,
      "outputs": [
        {
          "output_type": "execute_result",
          "data": {
            "text/plain": [
              "(418, 10)"
            ]
          },
          "metadata": {
            "tags": []
          },
          "execution_count": 23
        }
      ]
    },
    {
      "cell_type": "markdown",
      "metadata": {
        "id": "FY2KuMj4XPqm"
      },
      "source": [
        "The 'survived' column will be the target."
      ]
    },
    {
      "cell_type": "code",
      "metadata": {
        "colab": {
          "base_uri": "https://localhost:8080/"
        },
        "id": "R4OLp5u1Xa4N",
        "outputId": "63e2a6f9-6928-4eb4-f683-9e491eeccf6c"
      },
      "source": [
        "### data info\n",
        "train.info()"
      ],
      "execution_count": 24,
      "outputs": [
        {
          "output_type": "stream",
          "text": [
            "<class 'pandas.core.frame.DataFrame'>\n",
            "Int64Index: 891 entries, 1 to 891\n",
            "Data columns (total 11 columns):\n",
            " #   Column    Non-Null Count  Dtype  \n",
            "---  ------    --------------  -----  \n",
            " 0   Survived  891 non-null    int64  \n",
            " 1   Pclass    891 non-null    int64  \n",
            " 2   Name      891 non-null    object \n",
            " 3   Sex       891 non-null    object \n",
            " 4   Age       714 non-null    float64\n",
            " 5   SibSp     891 non-null    int64  \n",
            " 6   Parch     891 non-null    int64  \n",
            " 7   Ticket    891 non-null    object \n",
            " 8   Fare      891 non-null    float64\n",
            " 9   Cabin     204 non-null    object \n",
            " 10  Embarked  889 non-null    object \n",
            "dtypes: float64(2), int64(4), object(5)\n",
            "memory usage: 83.5+ KB\n"
          ],
          "name": "stdout"
        }
      ]
    },
    {
      "cell_type": "code",
      "metadata": {
        "colab": {
          "base_uri": "https://localhost:8080/"
        },
        "id": "wUpgpCqSGFHF",
        "outputId": "a83b3139-0af7-4e54-86e1-2cac78c60655"
      },
      "source": [
        "### data info\n",
        "test.info()"
      ],
      "execution_count": 25,
      "outputs": [
        {
          "output_type": "stream",
          "text": [
            "<class 'pandas.core.frame.DataFrame'>\n",
            "Int64Index: 418 entries, 892 to 1309\n",
            "Data columns (total 10 columns):\n",
            " #   Column    Non-Null Count  Dtype  \n",
            "---  ------    --------------  -----  \n",
            " 0   Pclass    418 non-null    int64  \n",
            " 1   Name      418 non-null    object \n",
            " 2   Sex       418 non-null    object \n",
            " 3   Age       332 non-null    float64\n",
            " 4   SibSp     418 non-null    int64  \n",
            " 5   Parch     418 non-null    int64  \n",
            " 6   Ticket    418 non-null    object \n",
            " 7   Fare      417 non-null    float64\n",
            " 8   Cabin     91 non-null     object \n",
            " 9   Embarked  418 non-null    object \n",
            "dtypes: float64(2), int64(3), object(5)\n",
            "memory usage: 35.9+ KB\n"
          ],
          "name": "stdout"
        }
      ]
    },
    {
      "cell_type": "markdown",
      "metadata": {
        "id": "mG4ymmFc9UAZ"
      },
      "source": [
        "## 2.3 Data Cleaning and preparation"
      ]
    },
    {
      "cell_type": "code",
      "metadata": {
        "colab": {
          "base_uri": "https://localhost:8080/"
        },
        "id": "5GIfEGlD9TkS",
        "outputId": "f27ae66c-43db-4b67-ccaa-89b1889a290c"
      },
      "source": [
        "# Dropping the columns we dont need'\n",
        "test.head()\n",
        "test=test.drop(['Name','Ticket'],axis=1)\n",
        "train=train.drop(['Name','Ticket'],axis=1)\n",
        "print(test)\n",
        "print(train)"
      ],
      "execution_count": 26,
      "outputs": [
        {
          "output_type": "stream",
          "text": [
            "             Pclass     Sex   Age  SibSp  Parch      Fare Cabin Embarked\n",
            "PassengerId                                                             \n",
            "892               3    male  34.5      0      0    7.8292   NaN        Q\n",
            "893               3  female  47.0      1      0    7.0000   NaN        S\n",
            "894               2    male  62.0      0      0    9.6875   NaN        Q\n",
            "895               3    male  27.0      0      0    8.6625   NaN        S\n",
            "896               3  female  22.0      1      1   12.2875   NaN        S\n",
            "...             ...     ...   ...    ...    ...       ...   ...      ...\n",
            "1305              3    male   NaN      0      0    8.0500   NaN        S\n",
            "1306              1  female  39.0      0      0  108.9000  C105        C\n",
            "1307              3    male  38.5      0      0    7.2500   NaN        S\n",
            "1308              3    male   NaN      0      0    8.0500   NaN        S\n",
            "1309              3    male   NaN      1      1   22.3583   NaN        C\n",
            "\n",
            "[418 rows x 8 columns]\n",
            "             Survived  Pclass     Sex   Age  ...  Parch     Fare  Cabin Embarked\n",
            "PassengerId                                  ...                                \n",
            "1                   0       3    male  22.0  ...      0   7.2500    NaN        S\n",
            "2                   1       1  female  38.0  ...      0  71.2833    C85        C\n",
            "3                   1       3  female  26.0  ...      0   7.9250    NaN        S\n",
            "4                   1       1  female  35.0  ...      0  53.1000   C123        S\n",
            "5                   0       3    male  35.0  ...      0   8.0500    NaN        S\n",
            "...               ...     ...     ...   ...  ...    ...      ...    ...      ...\n",
            "887                 0       2    male  27.0  ...      0  13.0000    NaN        S\n",
            "888                 1       1  female  19.0  ...      0  30.0000    B42        S\n",
            "889                 0       3  female   NaN  ...      2  23.4500    NaN        S\n",
            "890                 1       1    male  26.0  ...      0  30.0000   C148        C\n",
            "891                 0       3    male  32.0  ...      0   7.7500    NaN        Q\n",
            "\n",
            "[891 rows x 9 columns]\n"
          ],
          "name": "stdout"
        }
      ]
    },
    {
      "cell_type": "code",
      "metadata": {
        "colab": {
          "base_uri": "https://localhost:8080/"
        },
        "id": "l6stXHhCAb-j",
        "outputId": "8b23bfe1-ef52-4d87-9bfd-3e7bdbe03cf6"
      },
      "source": [
        "##### looking for  missing  values\n",
        "train.isnull().sum()"
      ],
      "execution_count": 27,
      "outputs": [
        {
          "output_type": "execute_result",
          "data": {
            "text/plain": [
              "Survived      0\n",
              "Pclass        0\n",
              "Sex           0\n",
              "Age         177\n",
              "SibSp         0\n",
              "Parch         0\n",
              "Fare          0\n",
              "Cabin       687\n",
              "Embarked      2\n",
              "dtype: int64"
            ]
          },
          "metadata": {
            "tags": []
          },
          "execution_count": 27
        }
      ]
    },
    {
      "cell_type": "code",
      "metadata": {
        "colab": {
          "base_uri": "https://localhost:8080/"
        },
        "id": "6d-HA2exBo6-",
        "outputId": "3943e386-2232-4b40-fcce-b007eb1339b5"
      },
      "source": [
        "#### looking for missing values\n",
        "test.isnull().sum()"
      ],
      "execution_count": 28,
      "outputs": [
        {
          "output_type": "execute_result",
          "data": {
            "text/plain": [
              "Pclass        0\n",
              "Sex           0\n",
              "Age          86\n",
              "SibSp         0\n",
              "Parch         0\n",
              "Fare          1\n",
              "Cabin       327\n",
              "Embarked      0\n",
              "dtype: int64"
            ]
          },
          "metadata": {
            "tags": []
          },
          "execution_count": 28
        }
      ]
    },
    {
      "cell_type": "markdown",
      "metadata": {
        "id": "kD9IPvYgCOnS"
      },
      "source": [
        "Cabin a have alot of missing values from both train and test datasets hence I will drop it, then we will impute age with the  mean."
      ]
    },
    {
      "cell_type": "code",
      "metadata": {
        "id": "sm9tSplJCG-m"
      },
      "source": [
        "### dropping cabin in both  cabin in both datas\n",
        "train=train.drop('Cabin',1)\n",
        "test=test.drop('Cabin',1)"
      ],
      "execution_count": 29,
      "outputs": []
    },
    {
      "cell_type": "code",
      "metadata": {
        "colab": {
          "base_uri": "https://localhost:8080/"
        },
        "id": "uM_E4t11TYCX",
        "outputId": "dbf99b57-9366-4293-abe1-dc6beab11df4"
      },
      "source": [
        "train['Embarked'].unique()"
      ],
      "execution_count": 30,
      "outputs": [
        {
          "output_type": "execute_result",
          "data": {
            "text/plain": [
              "array(['S', 'C', 'Q', nan], dtype=object)"
            ]
          },
          "metadata": {
            "tags": []
          },
          "execution_count": 30
        }
      ]
    },
    {
      "cell_type": "code",
      "metadata": {
        "id": "I9cKJNimGdwn"
      },
      "source": [
        "### imputing the age  with the mean\n",
        "from sklearn.impute import SimpleImputer\n",
        "impt=SimpleImputer(missing_values=np.NaN,strategy='mean')\n",
        "train[['Age','Fare']]=impt.fit_transform(train[['Age','Fare']])\n",
        "test[['Age','Fare']]=impt.fit_transform(test[['Age','Fare']])"
      ],
      "execution_count": 31,
      "outputs": []
    },
    {
      "cell_type": "code",
      "metadata": {
        "colab": {
          "base_uri": "https://localhost:8080/"
        },
        "id": "s5nss6--Q4KH",
        "outputId": "93701c76-b72e-47e7-cfab-996a16a200a1"
      },
      "source": [
        "#### dropNA in Embarked\n",
        "train=train.dropna()\n",
        "print(train.shape)\n",
        "print(test.shape)\n",
        "print(train.isnull().sum())\n",
        "print(test.isnull().sum())"
      ],
      "execution_count": 32,
      "outputs": [
        {
          "output_type": "stream",
          "text": [
            "(889, 8)\n",
            "(418, 7)\n",
            "Survived    0\n",
            "Pclass      0\n",
            "Sex         0\n",
            "Age         0\n",
            "SibSp       0\n",
            "Parch       0\n",
            "Fare        0\n",
            "Embarked    0\n",
            "dtype: int64\n",
            "Pclass      0\n",
            "Sex         0\n",
            "Age         0\n",
            "SibSp       0\n",
            "Parch       0\n",
            "Fare        0\n",
            "Embarked    0\n",
            "dtype: int64\n"
          ],
          "name": "stdout"
        }
      ]
    },
    {
      "cell_type": "code",
      "metadata": {
        "colab": {
          "base_uri": "https://localhost:8080/"
        },
        "id": "ZuI5vlubVuB2",
        "outputId": "69e284c9-db2f-4800-f5ca-1f6c047054b5"
      },
      "source": [
        "### looking for duplicates\n",
        "print('any duplicates in train dataset?:-',train.duplicated().any())\n",
        "print('any duplicates in test dataset?:-',test.duplicated().any())"
      ],
      "execution_count": 33,
      "outputs": [
        {
          "output_type": "stream",
          "text": [
            "any duplicates in train dataset?:- True\n",
            "any duplicates in test dataset?:- True\n"
          ],
          "name": "stdout"
        }
      ]
    },
    {
      "cell_type": "code",
      "metadata": {
        "colab": {
          "base_uri": "https://localhost:8080/",
          "height": 450
        },
        "id": "WsjpoJ60VXTA",
        "outputId": "20eee032-e977-42dc-b665-fd129227e492"
      },
      "source": [
        "### dropping the the duplicates\n",
        "train.drop_duplicates()\n",
        "test.drop_duplicates()"
      ],
      "execution_count": 34,
      "outputs": [
        {
          "output_type": "execute_result",
          "data": {
            "text/html": [
              "<div>\n",
              "<style scoped>\n",
              "    .dataframe tbody tr th:only-of-type {\n",
              "        vertical-align: middle;\n",
              "    }\n",
              "\n",
              "    .dataframe tbody tr th {\n",
              "        vertical-align: top;\n",
              "    }\n",
              "\n",
              "    .dataframe thead th {\n",
              "        text-align: right;\n",
              "    }\n",
              "</style>\n",
              "<table border=\"1\" class=\"dataframe\">\n",
              "  <thead>\n",
              "    <tr style=\"text-align: right;\">\n",
              "      <th></th>\n",
              "      <th>Pclass</th>\n",
              "      <th>Sex</th>\n",
              "      <th>Age</th>\n",
              "      <th>SibSp</th>\n",
              "      <th>Parch</th>\n",
              "      <th>Fare</th>\n",
              "      <th>Embarked</th>\n",
              "    </tr>\n",
              "    <tr>\n",
              "      <th>PassengerId</th>\n",
              "      <th></th>\n",
              "      <th></th>\n",
              "      <th></th>\n",
              "      <th></th>\n",
              "      <th></th>\n",
              "      <th></th>\n",
              "      <th></th>\n",
              "    </tr>\n",
              "  </thead>\n",
              "  <tbody>\n",
              "    <tr>\n",
              "      <th>892</th>\n",
              "      <td>3</td>\n",
              "      <td>male</td>\n",
              "      <td>34.50000</td>\n",
              "      <td>0</td>\n",
              "      <td>0</td>\n",
              "      <td>7.8292</td>\n",
              "      <td>Q</td>\n",
              "    </tr>\n",
              "    <tr>\n",
              "      <th>893</th>\n",
              "      <td>3</td>\n",
              "      <td>female</td>\n",
              "      <td>47.00000</td>\n",
              "      <td>1</td>\n",
              "      <td>0</td>\n",
              "      <td>7.0000</td>\n",
              "      <td>S</td>\n",
              "    </tr>\n",
              "    <tr>\n",
              "      <th>894</th>\n",
              "      <td>2</td>\n",
              "      <td>male</td>\n",
              "      <td>62.00000</td>\n",
              "      <td>0</td>\n",
              "      <td>0</td>\n",
              "      <td>9.6875</td>\n",
              "      <td>Q</td>\n",
              "    </tr>\n",
              "    <tr>\n",
              "      <th>895</th>\n",
              "      <td>3</td>\n",
              "      <td>male</td>\n",
              "      <td>27.00000</td>\n",
              "      <td>0</td>\n",
              "      <td>0</td>\n",
              "      <td>8.6625</td>\n",
              "      <td>S</td>\n",
              "    </tr>\n",
              "    <tr>\n",
              "      <th>896</th>\n",
              "      <td>3</td>\n",
              "      <td>female</td>\n",
              "      <td>22.00000</td>\n",
              "      <td>1</td>\n",
              "      <td>1</td>\n",
              "      <td>12.2875</td>\n",
              "      <td>S</td>\n",
              "    </tr>\n",
              "    <tr>\n",
              "      <th>...</th>\n",
              "      <td>...</td>\n",
              "      <td>...</td>\n",
              "      <td>...</td>\n",
              "      <td>...</td>\n",
              "      <td>...</td>\n",
              "      <td>...</td>\n",
              "      <td>...</td>\n",
              "    </tr>\n",
              "    <tr>\n",
              "      <th>1303</th>\n",
              "      <td>1</td>\n",
              "      <td>female</td>\n",
              "      <td>37.00000</td>\n",
              "      <td>1</td>\n",
              "      <td>0</td>\n",
              "      <td>90.0000</td>\n",
              "      <td>Q</td>\n",
              "    </tr>\n",
              "    <tr>\n",
              "      <th>1304</th>\n",
              "      <td>3</td>\n",
              "      <td>female</td>\n",
              "      <td>28.00000</td>\n",
              "      <td>0</td>\n",
              "      <td>0</td>\n",
              "      <td>7.7750</td>\n",
              "      <td>S</td>\n",
              "    </tr>\n",
              "    <tr>\n",
              "      <th>1306</th>\n",
              "      <td>1</td>\n",
              "      <td>female</td>\n",
              "      <td>39.00000</td>\n",
              "      <td>0</td>\n",
              "      <td>0</td>\n",
              "      <td>108.9000</td>\n",
              "      <td>C</td>\n",
              "    </tr>\n",
              "    <tr>\n",
              "      <th>1307</th>\n",
              "      <td>3</td>\n",
              "      <td>male</td>\n",
              "      <td>38.50000</td>\n",
              "      <td>0</td>\n",
              "      <td>0</td>\n",
              "      <td>7.2500</td>\n",
              "      <td>S</td>\n",
              "    </tr>\n",
              "    <tr>\n",
              "      <th>1309</th>\n",
              "      <td>3</td>\n",
              "      <td>male</td>\n",
              "      <td>30.27259</td>\n",
              "      <td>1</td>\n",
              "      <td>1</td>\n",
              "      <td>22.3583</td>\n",
              "      <td>C</td>\n",
              "    </tr>\n",
              "  </tbody>\n",
              "</table>\n",
              "<p>380 rows × 7 columns</p>\n",
              "</div>"
            ],
            "text/plain": [
              "             Pclass     Sex       Age  SibSp  Parch      Fare Embarked\n",
              "PassengerId                                                           \n",
              "892               3    male  34.50000      0      0    7.8292        Q\n",
              "893               3  female  47.00000      1      0    7.0000        S\n",
              "894               2    male  62.00000      0      0    9.6875        Q\n",
              "895               3    male  27.00000      0      0    8.6625        S\n",
              "896               3  female  22.00000      1      1   12.2875        S\n",
              "...             ...     ...       ...    ...    ...       ...      ...\n",
              "1303              1  female  37.00000      1      0   90.0000        Q\n",
              "1304              3  female  28.00000      0      0    7.7750        S\n",
              "1306              1  female  39.00000      0      0  108.9000        C\n",
              "1307              3    male  38.50000      0      0    7.2500        S\n",
              "1309              3    male  30.27259      1      1   22.3583        C\n",
              "\n",
              "[380 rows x 7 columns]"
            ]
          },
          "metadata": {
            "tags": []
          },
          "execution_count": 34
        }
      ]
    },
    {
      "cell_type": "code",
      "metadata": {
        "colab": {
          "base_uri": "https://localhost:8080/"
        },
        "id": "7AxUNATraElw",
        "outputId": "c1581f89-9541-4951-d41b-3b9a3e3aa23e"
      },
      "source": [
        "### checking for outliers for train dataset\n",
        "q1=train.quantile(0.25)\n",
        "q3=train.quantile(0.75)\n",
        "iqr=q3-q3\n",
        "print('TRAIN DATASET:\\n',iqr)\n",
        "\n",
        "### checking for outliers in test dataset\n",
        "Q1=test.quantile(0.25)\n",
        "Q3=test.quantile(0.75)\n",
        "IQR=Q3-Q1\n",
        "print('\\nTEST DATASET:\\n',IQR)"
      ],
      "execution_count": 41,
      "outputs": [
        {
          "output_type": "stream",
          "text": [
            "TRAIN DATASET:\n",
            " Survived    0.0\n",
            "Pclass      0.0\n",
            "Age         0.0\n",
            "SibSp       0.0\n",
            "Parch       0.0\n",
            "Fare        0.0\n",
            "Name: 0.75, dtype: float64\n",
            "\n",
            "TEST DATASET:\n",
            " Pclass     2.0000\n",
            "Age       12.7500\n",
            "SibSp      1.0000\n",
            "Parch      0.0000\n",
            "Fare      23.6042\n",
            "dtype: float64\n"
          ],
          "name": "stdout"
        }
      ]
    },
    {
      "cell_type": "markdown",
      "metadata": {
        "id": "Ujpyk3wqc79k"
      },
      "source": [
        "__The train dataset does not have outliers but the test set have outliers.__"
      ]
    },
    {
      "cell_type": "code",
      "metadata": {
        "id": "LQg2iNBcc7ev"
      },
      "source": [
        "# dealing with outliers of test dataset\n",
        "df_test=test[~((test<(Q1-1.5*iqr))|(test>(Q3+1.5*IQR))).any(axis=1)]\n"
      ],
      "execution_count": 40,
      "outputs": []
    },
    {
      "cell_type": "code",
      "metadata": {
        "colab": {
          "base_uri": "https://localhost:8080/"
        },
        "id": "mMaGv-FpJ1ZJ",
        "outputId": "adc88961-b039-40cb-ab70-b19ef2c7a390"
      },
      "source": [
        "### checking for outliers in test dataset\n",
        "Q_1=df_test.quantile(0.25)\n",
        "Q_3=test.quantile(0.75)\n",
        "IQ_R=Q_3-Q_1\n",
        "print('\\nTEST DATASET:\\n',IQ_R)"
      ],
      "execution_count": 43,
      "outputs": [
        {
          "output_type": "stream",
          "text": [
            "\n",
            "TEST DATASET:\n",
            " Pclass     2.0\n",
            "Age        7.5\n",
            "SibSp      1.0\n",
            "Parch      0.0\n",
            "Fare      21.5\n",
            "dtype: float64\n"
          ],
          "name": "stdout"
        }
      ]
    },
    {
      "cell_type": "markdown",
      "metadata": {
        "id": "N89zZChTh3kW"
      },
      "source": [
        "We need to understand every column and what it represent and I can encode the data with the right representation for better visualization:\n",
        "\n",
        "dataset:\n",
        "\n",
        "Pclass Passenger Class (1 = 1st; 2 = 2nd; 3 = 3rd)\n",
        "\n",
        "survival Survival (0 = No; 1 = Yes)\n",
        "\n",
        "sex Sex\n",
        "age Age\n",
        "\n",
        "sibsp Number of Siblings/Spouses Aboard\n",
        "\n",
        "parch Number of Parents/Children Aboard\n",
        "\n",
        "fare Passenger Fare (British pound)\n",
        "\n",
        "\n",
        "embarked Port of Embarkation (C = Cherbourg; Q = Queenstown; S = Southampton)\n",
        "\n",
        "\n",
        "\n",
        "\n",
        "\n"
      ]
    },
    {
      "cell_type": "code",
      "metadata": {
        "id": "Nf-G_cKKjMkY"
      },
      "source": [
        "### Rename the columns\n",
        "train=train.rename(columns={'Pclass':'passenger class','SibSp':'No.sibling/spouse aboard','Parch':'No.parent/children aboard','Embarked':'embarked port'})\n",
        "test=df_test.rename(columns={'Pclass':'passenger class','SibSp':'No.sibling/spouse aboard','Parch':'No.parent/children aboard','Embarked':'embarked port'})"
      ],
      "execution_count": 44,
      "outputs": []
    },
    {
      "cell_type": "code",
      "metadata": {
        "id": "7ydqGRG6kfRp"
      },
      "source": [
        "### replacing for train data\n",
        "train['Survived']=train['Survived'].replace(0,'not survived').replace(1,'survived')\n",
        "train['passenger class']=train['passenger class'].replace(1,'first class').replace(2,'second class').replace(3,'third class')\n",
        "train['embarked port']=train['embarked port'].replace('S','Southampton').replace('Q','Queenstown').replace('C','Cherbourg')\n",
        "### replacing for test data\n",
        "test['passenger class']=test['passenger class'].replace(1,'first class').replace(2,'second class').replace(3,'third class')\n",
        "test['embarked port']=test['embarked port'].replace('S','Southampton').replace('Q','Queenstown').replace('C','Cherbourg')"
      ],
      "execution_count": 47,
      "outputs": []
    },
    {
      "cell_type": "code",
      "metadata": {
        "colab": {
          "base_uri": "https://localhost:8080/",
          "height": 235
        },
        "id": "REtdSY3kneDu",
        "outputId": "45c844e3-ecff-4c9e-cb1f-2e0d3d5084fb"
      },
      "source": [
        "### our transformed data set for EDA\n",
        "train.head()\n"
      ],
      "execution_count": 48,
      "outputs": [
        {
          "output_type": "execute_result",
          "data": {
            "text/html": [
              "<div>\n",
              "<style scoped>\n",
              "    .dataframe tbody tr th:only-of-type {\n",
              "        vertical-align: middle;\n",
              "    }\n",
              "\n",
              "    .dataframe tbody tr th {\n",
              "        vertical-align: top;\n",
              "    }\n",
              "\n",
              "    .dataframe thead th {\n",
              "        text-align: right;\n",
              "    }\n",
              "</style>\n",
              "<table border=\"1\" class=\"dataframe\">\n",
              "  <thead>\n",
              "    <tr style=\"text-align: right;\">\n",
              "      <th></th>\n",
              "      <th>Survived</th>\n",
              "      <th>passenger class</th>\n",
              "      <th>Sex</th>\n",
              "      <th>Age</th>\n",
              "      <th>No.sibling/spouse aboard</th>\n",
              "      <th>No.parent/children aboard</th>\n",
              "      <th>Fare</th>\n",
              "      <th>embarked port</th>\n",
              "    </tr>\n",
              "    <tr>\n",
              "      <th>PassengerId</th>\n",
              "      <th></th>\n",
              "      <th></th>\n",
              "      <th></th>\n",
              "      <th></th>\n",
              "      <th></th>\n",
              "      <th></th>\n",
              "      <th></th>\n",
              "      <th></th>\n",
              "    </tr>\n",
              "  </thead>\n",
              "  <tbody>\n",
              "    <tr>\n",
              "      <th>1</th>\n",
              "      <td>not survived</td>\n",
              "      <td>third class</td>\n",
              "      <td>male</td>\n",
              "      <td>22.0</td>\n",
              "      <td>1</td>\n",
              "      <td>0</td>\n",
              "      <td>7.2500</td>\n",
              "      <td>Southampton</td>\n",
              "    </tr>\n",
              "    <tr>\n",
              "      <th>2</th>\n",
              "      <td>survived</td>\n",
              "      <td>first class</td>\n",
              "      <td>female</td>\n",
              "      <td>38.0</td>\n",
              "      <td>1</td>\n",
              "      <td>0</td>\n",
              "      <td>71.2833</td>\n",
              "      <td>Cherbourg</td>\n",
              "    </tr>\n",
              "    <tr>\n",
              "      <th>3</th>\n",
              "      <td>survived</td>\n",
              "      <td>third class</td>\n",
              "      <td>female</td>\n",
              "      <td>26.0</td>\n",
              "      <td>0</td>\n",
              "      <td>0</td>\n",
              "      <td>7.9250</td>\n",
              "      <td>Southampton</td>\n",
              "    </tr>\n",
              "    <tr>\n",
              "      <th>4</th>\n",
              "      <td>survived</td>\n",
              "      <td>first class</td>\n",
              "      <td>female</td>\n",
              "      <td>35.0</td>\n",
              "      <td>1</td>\n",
              "      <td>0</td>\n",
              "      <td>53.1000</td>\n",
              "      <td>Southampton</td>\n",
              "    </tr>\n",
              "    <tr>\n",
              "      <th>5</th>\n",
              "      <td>not survived</td>\n",
              "      <td>third class</td>\n",
              "      <td>male</td>\n",
              "      <td>35.0</td>\n",
              "      <td>0</td>\n",
              "      <td>0</td>\n",
              "      <td>8.0500</td>\n",
              "      <td>Southampton</td>\n",
              "    </tr>\n",
              "  </tbody>\n",
              "</table>\n",
              "</div>"
            ],
            "text/plain": [
              "                 Survived passenger class  ...     Fare  embarked port\n",
              "PassengerId                                ...                        \n",
              "1            not survived     third class  ...   7.2500    Southampton\n",
              "2                survived     first class  ...  71.2833      Cherbourg\n",
              "3                survived     third class  ...   7.9250    Southampton\n",
              "4                survived     first class  ...  53.1000    Southampton\n",
              "5            not survived     third class  ...   8.0500    Southampton\n",
              "\n",
              "[5 rows x 8 columns]"
            ]
          },
          "metadata": {
            "tags": []
          },
          "execution_count": 48
        }
      ]
    },
    {
      "cell_type": "code",
      "metadata": {
        "colab": {
          "base_uri": "https://localhost:8080/",
          "height": 235
        },
        "id": "lhe9UU0Voht7",
        "outputId": "b56fe108-29c6-4477-e0bb-45c161ecf7c5"
      },
      "source": [
        "### tranformed test data\n",
        "test.head()"
      ],
      "execution_count": 49,
      "outputs": [
        {
          "output_type": "execute_result",
          "data": {
            "text/html": [
              "<div>\n",
              "<style scoped>\n",
              "    .dataframe tbody tr th:only-of-type {\n",
              "        vertical-align: middle;\n",
              "    }\n",
              "\n",
              "    .dataframe tbody tr th {\n",
              "        vertical-align: top;\n",
              "    }\n",
              "\n",
              "    .dataframe thead th {\n",
              "        text-align: right;\n",
              "    }\n",
              "</style>\n",
              "<table border=\"1\" class=\"dataframe\">\n",
              "  <thead>\n",
              "    <tr style=\"text-align: right;\">\n",
              "      <th></th>\n",
              "      <th>passenger class</th>\n",
              "      <th>Sex</th>\n",
              "      <th>Age</th>\n",
              "      <th>No.sibling/spouse aboard</th>\n",
              "      <th>No.parent/children aboard</th>\n",
              "      <th>Fare</th>\n",
              "      <th>embarked port</th>\n",
              "    </tr>\n",
              "    <tr>\n",
              "      <th>PassengerId</th>\n",
              "      <th></th>\n",
              "      <th></th>\n",
              "      <th></th>\n",
              "      <th></th>\n",
              "      <th></th>\n",
              "      <th></th>\n",
              "      <th></th>\n",
              "    </tr>\n",
              "  </thead>\n",
              "  <tbody>\n",
              "    <tr>\n",
              "      <th>895</th>\n",
              "      <td>third class</td>\n",
              "      <td>male</td>\n",
              "      <td>27.00000</td>\n",
              "      <td>0</td>\n",
              "      <td>0</td>\n",
              "      <td>8.6625</td>\n",
              "      <td>Southampton</td>\n",
              "    </tr>\n",
              "    <tr>\n",
              "      <th>902</th>\n",
              "      <td>third class</td>\n",
              "      <td>male</td>\n",
              "      <td>30.27259</td>\n",
              "      <td>0</td>\n",
              "      <td>0</td>\n",
              "      <td>7.8958</td>\n",
              "      <td>Southampton</td>\n",
              "    </tr>\n",
              "    <tr>\n",
              "      <th>903</th>\n",
              "      <td>first class</td>\n",
              "      <td>male</td>\n",
              "      <td>46.00000</td>\n",
              "      <td>0</td>\n",
              "      <td>0</td>\n",
              "      <td>26.0000</td>\n",
              "      <td>Southampton</td>\n",
              "    </tr>\n",
              "    <tr>\n",
              "      <th>906</th>\n",
              "      <td>first class</td>\n",
              "      <td>female</td>\n",
              "      <td>47.00000</td>\n",
              "      <td>1</td>\n",
              "      <td>0</td>\n",
              "      <td>61.1750</td>\n",
              "      <td>Southampton</td>\n",
              "    </tr>\n",
              "    <tr>\n",
              "      <th>907</th>\n",
              "      <td>second class</td>\n",
              "      <td>female</td>\n",
              "      <td>24.00000</td>\n",
              "      <td>1</td>\n",
              "      <td>0</td>\n",
              "      <td>27.7208</td>\n",
              "      <td>Cherbourg</td>\n",
              "    </tr>\n",
              "  </tbody>\n",
              "</table>\n",
              "</div>"
            ],
            "text/plain": [
              "            passenger class     Sex  ...     Fare  embarked port\n",
              "PassengerId                          ...                        \n",
              "895             third class    male  ...   8.6625    Southampton\n",
              "902             third class    male  ...   7.8958    Southampton\n",
              "903             first class    male  ...  26.0000    Southampton\n",
              "906             first class  female  ...  61.1750    Southampton\n",
              "907            second class  female  ...  27.7208      Cherbourg\n",
              "\n",
              "[5 rows x 7 columns]"
            ]
          },
          "metadata": {
            "tags": []
          },
          "execution_count": 49
        }
      ]
    },
    {
      "cell_type": "markdown",
      "metadata": {
        "id": "pgynrmsYfiKn"
      },
      "source": [
        "# Exploratory Data Analysis"
      ]
    },
    {
      "cell_type": "code",
      "metadata": {
        "colab": {
          "base_uri": "https://localhost:8080/",
          "height": 297
        },
        "id": "JpJ_QROnfqil",
        "outputId": "4601d59f-eb60-46f3-a478-ce7896498819"
      },
      "source": [
        "### statistical description of train and test data\n",
        "train.describe()"
      ],
      "execution_count": 50,
      "outputs": [
        {
          "output_type": "execute_result",
          "data": {
            "text/html": [
              "<div>\n",
              "<style scoped>\n",
              "    .dataframe tbody tr th:only-of-type {\n",
              "        vertical-align: middle;\n",
              "    }\n",
              "\n",
              "    .dataframe tbody tr th {\n",
              "        vertical-align: top;\n",
              "    }\n",
              "\n",
              "    .dataframe thead th {\n",
              "        text-align: right;\n",
              "    }\n",
              "</style>\n",
              "<table border=\"1\" class=\"dataframe\">\n",
              "  <thead>\n",
              "    <tr style=\"text-align: right;\">\n",
              "      <th></th>\n",
              "      <th>Age</th>\n",
              "      <th>No.sibling/spouse aboard</th>\n",
              "      <th>No.parent/children aboard</th>\n",
              "      <th>Fare</th>\n",
              "    </tr>\n",
              "  </thead>\n",
              "  <tbody>\n",
              "    <tr>\n",
              "      <th>count</th>\n",
              "      <td>889.000000</td>\n",
              "      <td>889.000000</td>\n",
              "      <td>889.000000</td>\n",
              "      <td>889.000000</td>\n",
              "    </tr>\n",
              "    <tr>\n",
              "      <th>mean</th>\n",
              "      <td>29.653446</td>\n",
              "      <td>0.524184</td>\n",
              "      <td>0.382452</td>\n",
              "      <td>32.096681</td>\n",
              "    </tr>\n",
              "    <tr>\n",
              "      <th>std</th>\n",
              "      <td>12.968366</td>\n",
              "      <td>1.103705</td>\n",
              "      <td>0.806761</td>\n",
              "      <td>49.697504</td>\n",
              "    </tr>\n",
              "    <tr>\n",
              "      <th>min</th>\n",
              "      <td>0.420000</td>\n",
              "      <td>0.000000</td>\n",
              "      <td>0.000000</td>\n",
              "      <td>0.000000</td>\n",
              "    </tr>\n",
              "    <tr>\n",
              "      <th>25%</th>\n",
              "      <td>22.000000</td>\n",
              "      <td>0.000000</td>\n",
              "      <td>0.000000</td>\n",
              "      <td>7.895800</td>\n",
              "    </tr>\n",
              "    <tr>\n",
              "      <th>50%</th>\n",
              "      <td>29.699118</td>\n",
              "      <td>0.000000</td>\n",
              "      <td>0.000000</td>\n",
              "      <td>14.454200</td>\n",
              "    </tr>\n",
              "    <tr>\n",
              "      <th>75%</th>\n",
              "      <td>35.000000</td>\n",
              "      <td>1.000000</td>\n",
              "      <td>0.000000</td>\n",
              "      <td>31.000000</td>\n",
              "    </tr>\n",
              "    <tr>\n",
              "      <th>max</th>\n",
              "      <td>80.000000</td>\n",
              "      <td>8.000000</td>\n",
              "      <td>6.000000</td>\n",
              "      <td>512.329200</td>\n",
              "    </tr>\n",
              "  </tbody>\n",
              "</table>\n",
              "</div>"
            ],
            "text/plain": [
              "              Age  ...        Fare\n",
              "count  889.000000  ...  889.000000\n",
              "mean    29.653446  ...   32.096681\n",
              "std     12.968366  ...   49.697504\n",
              "min      0.420000  ...    0.000000\n",
              "25%     22.000000  ...    7.895800\n",
              "50%     29.699118  ...   14.454200\n",
              "75%     35.000000  ...   31.000000\n",
              "max     80.000000  ...  512.329200\n",
              "\n",
              "[8 rows x 4 columns]"
            ]
          },
          "metadata": {
            "tags": []
          },
          "execution_count": 50
        }
      ]
    },
    {
      "cell_type": "code",
      "metadata": {
        "colab": {
          "base_uri": "https://localhost:8080/",
          "height": 297
        },
        "id": "7dl4VHPrhmoz",
        "outputId": "9ca2e255-233a-4a98-cc24-30071e8fd174"
      },
      "source": [
        "### statistical description of test set\n",
        "test.describe()"
      ],
      "execution_count": 52,
      "outputs": [
        {
          "output_type": "execute_result",
          "data": {
            "text/html": [
              "<div>\n",
              "<style scoped>\n",
              "    .dataframe tbody tr th:only-of-type {\n",
              "        vertical-align: middle;\n",
              "    }\n",
              "\n",
              "    .dataframe tbody tr th {\n",
              "        vertical-align: top;\n",
              "    }\n",
              "\n",
              "    .dataframe thead th {\n",
              "        text-align: right;\n",
              "    }\n",
              "</style>\n",
              "<table border=\"1\" class=\"dataframe\">\n",
              "  <thead>\n",
              "    <tr style=\"text-align: right;\">\n",
              "      <th></th>\n",
              "      <th>Age</th>\n",
              "      <th>No.sibling/spouse aboard</th>\n",
              "      <th>No.parent/children aboard</th>\n",
              "      <th>Fare</th>\n",
              "    </tr>\n",
              "  </thead>\n",
              "  <tbody>\n",
              "    <tr>\n",
              "      <th>count</th>\n",
              "      <td>143.000000</td>\n",
              "      <td>143.000000</td>\n",
              "      <td>143.0</td>\n",
              "      <td>143.000000</td>\n",
              "    </tr>\n",
              "    <tr>\n",
              "      <th>mean</th>\n",
              "      <td>32.666842</td>\n",
              "      <td>0.286713</td>\n",
              "      <td>0.0</td>\n",
              "      <td>20.490206</td>\n",
              "    </tr>\n",
              "    <tr>\n",
              "      <th>std</th>\n",
              "      <td>7.414205</td>\n",
              "      <td>0.512140</td>\n",
              "      <td>0.0</td>\n",
              "      <td>13.658390</td>\n",
              "    </tr>\n",
              "    <tr>\n",
              "      <th>min</th>\n",
              "      <td>23.000000</td>\n",
              "      <td>0.000000</td>\n",
              "      <td>0.0</td>\n",
              "      <td>7.895800</td>\n",
              "    </tr>\n",
              "    <tr>\n",
              "      <th>25%</th>\n",
              "      <td>28.250000</td>\n",
              "      <td>0.000000</td>\n",
              "      <td>0.0</td>\n",
              "      <td>10.000000</td>\n",
              "    </tr>\n",
              "    <tr>\n",
              "      <th>50%</th>\n",
              "      <td>30.272590</td>\n",
              "      <td>0.000000</td>\n",
              "      <td>0.0</td>\n",
              "      <td>15.033300</td>\n",
              "    </tr>\n",
              "    <tr>\n",
              "      <th>75%</th>\n",
              "      <td>36.000000</td>\n",
              "      <td>1.000000</td>\n",
              "      <td>0.0</td>\n",
              "      <td>26.275000</td>\n",
              "    </tr>\n",
              "    <tr>\n",
              "      <th>max</th>\n",
              "      <td>54.000000</td>\n",
              "      <td>2.000000</td>\n",
              "      <td>0.0</td>\n",
              "      <td>61.175000</td>\n",
              "    </tr>\n",
              "  </tbody>\n",
              "</table>\n",
              "</div>"
            ],
            "text/plain": [
              "              Age  ...        Fare\n",
              "count  143.000000  ...  143.000000\n",
              "mean    32.666842  ...   20.490206\n",
              "std      7.414205  ...   13.658390\n",
              "min     23.000000  ...    7.895800\n",
              "25%     28.250000  ...   10.000000\n",
              "50%     30.272590  ...   15.033300\n",
              "75%     36.000000  ...   26.275000\n",
              "max     54.000000  ...   61.175000\n",
              "\n",
              "[8 rows x 4 columns]"
            ]
          },
          "metadata": {
            "tags": []
          },
          "execution_count": 52
        }
      ]
    },
    {
      "cell_type": "markdown",
      "metadata": {
        "id": "2rA9DsyFxQD4"
      },
      "source": [
        "From the people in the ship, the mean age was 29 years, the oldest being 80 and youngest being less than 1 year.\n",
        "The highest number of siblings/ spouses on board was 8 and also there was a majority who did not have siblings/ spouses on board.\n",
        "The Highest number of parent/child  on board was 6."
      ]
    },
    {
      "cell_type": "code",
      "metadata": {
        "colab": {
          "base_uri": "https://localhost:8080/",
          "height": 677
        },
        "id": "Vj8ayrowi703",
        "outputId": "7596f9e0-b0d4-4c6c-8ffc-b13e9a99ae81"
      },
      "source": [
        "### the count of those that survived\n",
        "fig,ax=plt.subplots(figsize=(16,10))\n",
        "sns.set_style('dark')\n",
        "plt.suptitle('The number of people who survied per passager class',fontsize=(10))\n",
        "ax=sns.countplot('Survived',hue='passenger class',data=train,palette='Set2',edgecolor=\".6\")\n",
        "for p in ax.patches:\n",
        "  ax.annotate(format(p.get_height(), '.2f'), (p.get_x() + p.get_width() / 2., p.get_height()), ha = 'center', \n",
        "              va = 'center', xytext = (0, 10), textcoords = 'offset points')"
      ],
      "execution_count": 54,
      "outputs": [
        {
          "output_type": "display_data",
          "data": {
            "image/png": "[encoded data removed]",
            "text/plain": [
              "<Figure size 1152x720 with 1 Axes>"
            ]
          },
          "metadata": {
            "tags": []
          }
        }
      ]
    },
    {
      "cell_type": "markdown",
      "metadata": {
        "id": "QG-91Ttg5iKe"
      },
      "source": [
        "From the dataset we learn that the highest number of people who did not survive the accident were inthe third class and the lowest 1st class had the lowest number of casualities. On the flip side first class had the highest number of survivors.\n",
        "2nd class had lowest number of survivor"
      ]
    },
    {
      "cell_type": "code",
      "metadata": {
        "colab": {
          "base_uri": "https://localhost:8080/",
          "height": 382
        },
        "id": "CBXQLh676PU7",
        "outputId": "643a1dea-58a1-4a0a-e547-770569f65e84"
      },
      "source": [
        "#### number survivors  who were on board with their siblings or spouse\n",
        "sns.set_theme(style=\"ticks\")\n",
        "ax=sns.catplot(x='Survived',y='No.sibling/spouse aboard',col='passenger class',\n",
        "               data=train,kind='violin',palette='mako',aspect=0.8)\n",
        " "
      ],
      "execution_count": 55,
      "outputs": [
        {
          "output_type": "display_data",
          "data": {
            "image/png": "[encoded data removed]",
            "text/plain": [
              "<Figure size 864x360 with 3 Axes>"
            ]
          },
          "metadata": {
            "tags": []
          }
        }
      ]
    },
    {
      "cell_type": "markdown",
      "metadata": {
        "id": "FtB7f8kGB2x2"
      },
      "source": [
        "Alot of the people did not have  siblings in the ship, but we can see a few of them  had and did not survive, in  third class we had the highest number of people who did not survive.\n",
        "\n",
        "Since  third class was packed with people that is the main reason they have a high number of casualities"
      ]
    },
    {
      "cell_type": "code",
      "metadata": {
        "colab": {
          "base_uri": "https://localhost:8080/",
          "height": 382
        },
        "id": "y3x2O7iHEFT5",
        "outputId": "9622ad54-ff93-479f-9172-71eface496d7"
      },
      "source": [
        "#### number survivors  who were on board with their parents/children\n",
        "sns.set_theme(style=\"ticks\")\n",
        "ax=sns.catplot(x='Survived',y='No.parent/children aboard',col='passenger class',\n",
        "               data=train,palette='cubehelix',aspect=0.8)"
      ],
      "execution_count": 56,
      "outputs": [
        {
          "output_type": "display_data",
          "data": {
            "image/png": "[encoded data removed]",
            "text/plain": [
              "<Figure size 864x360 with 3 Axes>"
            ]
          },
          "metadata": {
            "tags": []
          }
        }
      ]
    },
    {
      "cell_type": "markdown",
      "metadata": {
        "id": "ZQEV2MG0F4TE"
      },
      "source": [
        "Third class still had the highest number of parents and childrens who did not survive. from the all classes we can the average number of parents and children who did not survive."
      ]
    },
    {
      "cell_type": "code",
      "metadata": {
        "colab": {
          "base_uri": "https://localhost:8080/",
          "height": 683
        },
        "id": "xGnQjgtuEOPo",
        "outputId": "4f692364-2df5-49b0-f29f-e572f761fa59"
      },
      "source": [
        "###\n",
        "### the count of those that survived\n",
        "fig,ax=plt.subplots(figsize=(16,10))\n",
        "sns.set_style('dark')\n",
        "plt.suptitle('The number of people who survied per destination',fontsize=(10))\n",
        "ax=sns.countplot('Survived',hue='embarked port',data=train,palette=\"YlOrBr\",edgecolor=\".6\",orient='h')\n",
        "for p in ax.patches:\n",
        "  ax.annotate(format(p.get_height(), '.2f'), (p.get_x() + p.get_width() / 2., p.get_height()), ha = 'center', \n",
        "              va = 'center', xytext = (0, 10), textcoords = 'offset points')"
      ],
      "execution_count": 58,
      "outputs": [
        {
          "output_type": "display_data",
          "data": {
            "image/png": "[encoded data removed]",
            "text/plain": [
              "<Figure size 1152x720 with 1 Axes>"
            ]
          },
          "metadata": {
            "tags": []
          }
        }
      ]
    },
    {
      "cell_type": "markdown",
      "metadata": {
        "id": "MMMmCzarKw0r"
      },
      "source": [
        "The highest of casualties had boarded the ship from port in Southampton, then followed by passengers from Cherbourg and Queenstown. \n",
        "\n",
        "Port of Southampton still had the highest number of survivors and Queenstown hard the least."
      ]
    },
    {
      "cell_type": "code",
      "metadata": {
        "colab": {
          "base_uri": "https://localhost:8080/",
          "height": 560
        },
        "id": "MUSy-zJPMiuy",
        "outputId": "d68a08a7-fc4a-4494-8a27-7e541876529e"
      },
      "source": [
        "#### age and sex that survived\n",
        "plt.figure(figsize=(16,8))\n",
        "plt.suptitle('Number of survivors by age and gender')\n",
        "sns.violinplot(x='Age',y='Survived',hue='Sex',\n",
        "               data=train,orient='h',palette='icefire',width=1,color='k')\n",
        "plt.show()"
      ],
      "execution_count": 60,
      "outputs": [
        {
          "output_type": "display_data",
          "data": {
            "image/png": "[encoded data removed]",
            "text/plain": [
              "<Figure size 1152x576 with 1 Axes>"
            ]
          },
          "metadata": {
            "tags": []
          }
        }
      ]
    },
    {
      "cell_type": "markdown",
      "metadata": {
        "id": "lMK9-2qMU724"
      },
      "source": [
        "Most of the passengers were between the age of 20 and 40 years. The highest number of survivors were male between age of 0 years to 80 years.Although there were fewer survivors than casualities."
      ]
    },
    {
      "cell_type": "markdown",
      "metadata": {
        "id": "EFNbkl9rYFvq"
      },
      "source": [
        "## 8.1 Correlation"
      ]
    },
    {
      "cell_type": "code",
      "metadata": {
        "id": "w8-Oe4JFYIim"
      },
      "source": [
        "#### encoding our train data set\n",
        "from sklearn.preprocessing import LabelEncoder\n",
        "ll=LabelEncoder()\n",
        "data=pd.DataFrame()\n",
        "for i in train.columns:\n",
        "  data[i]=ll.fit_transform(train[i])\n",
        "### encoding test dataset\n",
        "from sklearn.preprocessing import LabelEncoder\n",
        "ll=LabelEncoder()\n",
        "df=pd.DataFrame()\n",
        "for i in test.columns:\n",
        "  df[i]=ll.fit_transform(test[i])"
      ],
      "execution_count": 71,
      "outputs": []
    },
    {
      "cell_type": "code",
      "metadata": {
        "colab": {
          "base_uri": "https://localhost:8080/",
          "height": 733
        },
        "id": "aWQxAAruagDu",
        "outputId": "63be49ad-9bae-4a79-d037-cfd9f09e9194"
      },
      "source": [
        "## drawing our heatmaps\n",
        "fig,plt.figure(figsize=(14,10))\n",
        "ax=sns.heatmap(data.corr(),annot=True,color='Pink',vmax=1,vmin=0)"
      ],
      "execution_count": 73,
      "outputs": [
        {
          "output_type": "display_data",
          "data": {
            "image/png": "[encoded data removed]",
            "text/plain": [
              "<Figure size 1008x720 with 2 Axes>"
            ]
          },
          "metadata": {
            "tags": []
          }
        }
      ]
    },
    {
      "cell_type": "markdown",
      "metadata": {
        "id": "nOsIR0qtbcMe"
      },
      "source": [
        "There is a inverse correlation between  survivor and Sex, and survivor  the class of th passenger..\n",
        "\n",
        "A weak positive correlation between survivor and the fare spent..\n"
      ]
    },
    {
      "cell_type": "markdown",
      "metadata": {
        "id": "OERBbS9EcIsd"
      },
      "source": [
        "# 9. **Predictive Modelling**"
      ]
    },
    {
      "cell_type": "code",
      "metadata": {
        "id": "1aUTJLGcerHR"
      },
      "source": [
        "#### splitting our dataset into features and label\n",
        "x=data.drop('Survived',1)\n",
        "y=data['Survived']"
      ],
      "execution_count": 170,
      "outputs": []
    },
    {
      "cell_type": "code",
      "metadata": {
        "id": "MgP9crbqf3aA"
      },
      "source": [
        "##### standardizing the features\n",
        "from sklearn.preprocessing import StandardScaler\n",
        "ss=StandardScaler()\n",
        "x=ss.fit_transform(x)"
      ],
      "execution_count": 171,
      "outputs": []
    },
    {
      "cell_type": "markdown",
      "metadata": {
        "id": "yGWk2wLwWqMi"
      },
      "source": [
        "### The 80 - 20 Train - Test split."
      ]
    },
    {
      "cell_type": "code",
      "metadata": {
        "id": "ca4tJGqTghjj"
      },
      "source": [
        "#### splitting the data into 80 20 train and test set \n",
        "from sklearn.model_selection import train_test_split\n",
        "x_train,x_test,y_train,y_test=train_test_split(x,y,test_size=0.2,random_state=0)"
      ],
      "execution_count": 172,
      "outputs": []
    },
    {
      "cell_type": "markdown",
      "metadata": {
        "id": "ISkjjkfKcrsY"
      },
      "source": [
        "### Introduce KNN Classifier with GridSearch Hyperparameters"
      ]
    },
    {
      "cell_type": "code",
      "metadata": {
        "id": "CunYLq7shs28"
      },
      "source": [
        "#### performing KNN\n",
        "from sklearn.neighbors import KNeighborsClassifier\n",
        "from sklearn.model_selection import GridSearchCV\n",
        "\n",
        "grid_params = {\n",
        "    'n_neighbors':[3,7,11,15,19],\n",
        "    'weights':['uniform','distance'],\n",
        "    'metric': ['euclidean', 'manhattan']}\n",
        "\n",
        "knn_gs = GridSearchCV(\n",
        "    KNeighborsClassifier(),\n",
        "    grid_params,\n",
        "    verbose=1,\n",
        "    cv=5,\n",
        "    scoring='accuracy',\n",
        "    n_jobs=-1) "
      ],
      "execution_count": 177,
      "outputs": []
    },
    {
      "cell_type": "code",
      "metadata": {
        "colab": {
          "base_uri": "https://localhost:8080/"
        },
        "id": "I_UbI8WTPuJ0",
        "outputId": "ff56b0bd-9168-49c5-a23a-4fbd8779bd7d"
      },
      "source": [
        "knn_gs_results = knn_gs.fit(x_train,y_train)\n",
        "knn_gs_results"
      ],
      "execution_count": 178,
      "outputs": [
        {
          "output_type": "stream",
          "text": [
            "Fitting 5 folds for each of 20 candidates, totalling 100 fits\n"
          ],
          "name": "stdout"
        },
        {
          "output_type": "stream",
          "text": [
            "[Parallel(n_jobs=-1)]: Using backend LokyBackend with 2 concurrent workers.\n",
            "[Parallel(n_jobs=-1)]: Done 100 out of 100 | elapsed:    0.6s finished\n"
          ],
          "name": "stderr"
        },
        {
          "output_type": "execute_result",
          "data": {
            "text/plain": [
              "GridSearchCV(cv=5, error_score=nan,\n",
              "             estimator=KNeighborsClassifier(algorithm='auto', leaf_size=30,\n",
              "                                            metric='minkowski',\n",
              "                                            metric_params=None, n_jobs=None,\n",
              "                                            n_neighbors=5, p=2,\n",
              "                                            weights='uniform'),\n",
              "             iid='deprecated', n_jobs=-1,\n",
              "             param_grid={'metric': ['euclidean', 'manhattan'],\n",
              "                         'n_neighbors': [3, 7, 11, 15, 19],\n",
              "                         'weights': ['uniform', 'distance']},\n",
              "             pre_dispatch='2*n_jobs', refit=True, return_train_score=False,\n",
              "             scoring='accuracy', verbose=1)"
            ]
          },
          "metadata": {
            "tags": []
          },
          "execution_count": 178
        }
      ]
    },
    {
      "cell_type": "code",
      "metadata": {
        "colab": {
          "base_uri": "https://localhost:8080/",
          "height": 317
        },
        "id": "ATTIzYiLQX-t",
        "outputId": "ca087e10-3591-49d2-e6a1-bdf9891612bf"
      },
      "source": [
        "knn_df=pd.DataFrame(knn_gs_results.cv_results_)\n",
        "knn_df.describe()"
      ],
      "execution_count": 179,
      "outputs": [
        {
          "output_type": "execute_result",
          "data": {
            "text/html": [
              "<div>\n",
              "<style scoped>\n",
              "    .dataframe tbody tr th:only-of-type {\n",
              "        vertical-align: middle;\n",
              "    }\n",
              "\n",
              "    .dataframe tbody tr th {\n",
              "        vertical-align: top;\n",
              "    }\n",
              "\n",
              "    .dataframe thead th {\n",
              "        text-align: right;\n",
              "    }\n",
              "</style>\n",
              "<table border=\"1\" class=\"dataframe\">\n",
              "  <thead>\n",
              "    <tr style=\"text-align: right;\">\n",
              "      <th></th>\n",
              "      <th>mean_fit_time</th>\n",
              "      <th>std_fit_time</th>\n",
              "      <th>mean_score_time</th>\n",
              "      <th>std_score_time</th>\n",
              "      <th>split0_test_score</th>\n",
              "      <th>split1_test_score</th>\n",
              "      <th>split2_test_score</th>\n",
              "      <th>split3_test_score</th>\n",
              "      <th>split4_test_score</th>\n",
              "      <th>mean_test_score</th>\n",
              "      <th>std_test_score</th>\n",
              "      <th>rank_test_score</th>\n",
              "    </tr>\n",
              "  </thead>\n",
              "  <tbody>\n",
              "    <tr>\n",
              "      <th>count</th>\n",
              "      <td>20.000000</td>\n",
              "      <td>20.000000</td>\n",
              "      <td>20.000000</td>\n",
              "      <td>20.000000</td>\n",
              "      <td>20.000000</td>\n",
              "      <td>20.000000</td>\n",
              "      <td>20.000000</td>\n",
              "      <td>20.000000</td>\n",
              "      <td>20.000000</td>\n",
              "      <td>20.000000</td>\n",
              "      <td>20.000000</td>\n",
              "      <td>20.000000</td>\n",
              "    </tr>\n",
              "    <tr>\n",
              "      <th>mean</th>\n",
              "      <td>0.002039</td>\n",
              "      <td>0.000389</td>\n",
              "      <td>0.007948</td>\n",
              "      <td>0.001326</td>\n",
              "      <td>0.812937</td>\n",
              "      <td>0.877817</td>\n",
              "      <td>0.822535</td>\n",
              "      <td>0.778873</td>\n",
              "      <td>0.835211</td>\n",
              "      <td>0.825475</td>\n",
              "      <td>0.033389</td>\n",
              "      <td>10.350000</td>\n",
              "    </tr>\n",
              "    <tr>\n",
              "      <th>std</th>\n",
              "      <td>0.000403</td>\n",
              "      <td>0.000658</td>\n",
              "      <td>0.003563</td>\n",
              "      <td>0.001141</td>\n",
              "      <td>0.015534</td>\n",
              "      <td>0.009496</td>\n",
              "      <td>0.014378</td>\n",
              "      <td>0.014878</td>\n",
              "      <td>0.011960</td>\n",
              "      <td>0.007708</td>\n",
              "      <td>0.006040</td>\n",
              "      <td>6.054794</td>\n",
              "    </tr>\n",
              "    <tr>\n",
              "      <th>min</th>\n",
              "      <td>0.001733</td>\n",
              "      <td>0.000039</td>\n",
              "      <td>0.003495</td>\n",
              "      <td>0.000104</td>\n",
              "      <td>0.769231</td>\n",
              "      <td>0.859155</td>\n",
              "      <td>0.795775</td>\n",
              "      <td>0.739437</td>\n",
              "      <td>0.809859</td>\n",
              "      <td>0.811553</td>\n",
              "      <td>0.024430</td>\n",
              "      <td>1.000000</td>\n",
              "    </tr>\n",
              "    <tr>\n",
              "      <th>25%</th>\n",
              "      <td>0.001803</td>\n",
              "      <td>0.000064</td>\n",
              "      <td>0.004766</td>\n",
              "      <td>0.000464</td>\n",
              "      <td>0.804196</td>\n",
              "      <td>0.873239</td>\n",
              "      <td>0.816901</td>\n",
              "      <td>0.772887</td>\n",
              "      <td>0.830986</td>\n",
              "      <td>0.819642</td>\n",
              "      <td>0.030125</td>\n",
              "      <td>5.000000</td>\n",
              "    </tr>\n",
              "    <tr>\n",
              "      <th>50%</th>\n",
              "      <td>0.001888</td>\n",
              "      <td>0.000097</td>\n",
              "      <td>0.007879</td>\n",
              "      <td>0.001124</td>\n",
              "      <td>0.818182</td>\n",
              "      <td>0.880282</td>\n",
              "      <td>0.823944</td>\n",
              "      <td>0.781690</td>\n",
              "      <td>0.838028</td>\n",
              "      <td>0.828415</td>\n",
              "      <td>0.032294</td>\n",
              "      <td>10.500000</td>\n",
              "    </tr>\n",
              "    <tr>\n",
              "      <th>75%</th>\n",
              "      <td>0.001987</td>\n",
              "      <td>0.000193</td>\n",
              "      <td>0.010986</td>\n",
              "      <td>0.001656</td>\n",
              "      <td>0.818182</td>\n",
              "      <td>0.882042</td>\n",
              "      <td>0.830986</td>\n",
              "      <td>0.788732</td>\n",
              "      <td>0.845070</td>\n",
              "      <td>0.829834</td>\n",
              "      <td>0.035502</td>\n",
              "      <td>15.250000</td>\n",
              "    </tr>\n",
              "    <tr>\n",
              "      <th>max</th>\n",
              "      <td>0.003063</td>\n",
              "      <td>0.002101</td>\n",
              "      <td>0.012549</td>\n",
              "      <td>0.003770</td>\n",
              "      <td>0.832168</td>\n",
              "      <td>0.894366</td>\n",
              "      <td>0.852113</td>\n",
              "      <td>0.795775</td>\n",
              "      <td>0.852113</td>\n",
              "      <td>0.836876</td>\n",
              "      <td>0.045849</td>\n",
              "      <td>20.000000</td>\n",
              "    </tr>\n",
              "  </tbody>\n",
              "</table>\n",
              "</div>"
            ],
            "text/plain": [
              "       mean_fit_time  std_fit_time  ...  std_test_score  rank_test_score\n",
              "count      20.000000     20.000000  ...       20.000000        20.000000\n",
              "mean        0.002039      0.000389  ...        0.033389        10.350000\n",
              "std         0.000403      0.000658  ...        0.006040         6.054794\n",
              "min         0.001733      0.000039  ...        0.024430         1.000000\n",
              "25%         0.001803      0.000064  ...        0.030125         5.000000\n",
              "50%         0.001888      0.000097  ...        0.032294        10.500000\n",
              "75%         0.001987      0.000193  ...        0.035502        15.250000\n",
              "max         0.003063      0.002101  ...        0.045849        20.000000\n",
              "\n",
              "[8 rows x 12 columns]"
            ]
          },
          "metadata": {
            "tags": []
          },
          "execution_count": 179
        }
      ]
    },
    {
      "cell_type": "code",
      "metadata": {
        "colab": {
          "base_uri": "https://localhost:8080/"
        },
        "id": "4-vGWK-FQaDr",
        "outputId": "c848a0de-6b10-4094-bb34-e6dafdae453b"
      },
      "source": [
        "print(knn_gs_results.best_score_)\n",
        "print(knn_gs_results.best_estimator_)\n",
        "print(knn_gs_results.best_params_)"
      ],
      "execution_count": 180,
      "outputs": [
        {
          "output_type": "stream",
          "text": [
            "0.8368758002560821\n",
            "KNeighborsClassifier(algorithm='auto', leaf_size=30, metric='manhattan',\n",
            "                     metric_params=None, n_jobs=None, n_neighbors=7, p=2,\n",
            "                     weights='uniform')\n",
            "{'metric': 'manhattan', 'n_neighbors': 7, 'weights': 'uniform'}\n"
          ],
          "name": "stdout"
        }
      ]
    },
    {
      "cell_type": "code",
      "metadata": {
        "id": "fsefEW2tQyqq"
      },
      "source": [
        "# Train model using best model\n",
        "knn_best=knn_gs_results.best_estimator_\n",
        "knn_best.fit(x_train,y_train)\n",
        "\n",
        "# predicting\n",
        "y_pred_best=knn_best.predict(x_test)"
      ],
      "execution_count": 181,
      "outputs": []
    },
    {
      "cell_type": "code",
      "metadata": {
        "colab": {
          "base_uri": "https://localhost:8080/",
          "height": 297
        },
        "id": "GHjl_bPXQ7y-",
        "outputId": "50a2ffd1-e883-4694-e335-d71533efa1d5"
      },
      "source": [
        "best_pred=pd.DataFrame({'actual':y_test,'predicted':y_pred_best})\n",
        "best_pred.describe()"
      ],
      "execution_count": 182,
      "outputs": [
        {
          "output_type": "execute_result",
          "data": {
            "text/html": [
              "<div>\n",
              "<style scoped>\n",
              "    .dataframe tbody tr th:only-of-type {\n",
              "        vertical-align: middle;\n",
              "    }\n",
              "\n",
              "    .dataframe tbody tr th {\n",
              "        vertical-align: top;\n",
              "    }\n",
              "\n",
              "    .dataframe thead th {\n",
              "        text-align: right;\n",
              "    }\n",
              "</style>\n",
              "<table border=\"1\" class=\"dataframe\">\n",
              "  <thead>\n",
              "    <tr style=\"text-align: right;\">\n",
              "      <th></th>\n",
              "      <th>actual</th>\n",
              "      <th>predicted</th>\n",
              "    </tr>\n",
              "  </thead>\n",
              "  <tbody>\n",
              "    <tr>\n",
              "      <th>count</th>\n",
              "      <td>178.000000</td>\n",
              "      <td>178.000000</td>\n",
              "    </tr>\n",
              "    <tr>\n",
              "      <th>mean</th>\n",
              "      <td>0.410112</td>\n",
              "      <td>0.359551</td>\n",
              "    </tr>\n",
              "    <tr>\n",
              "      <th>std</th>\n",
              "      <td>0.493241</td>\n",
              "      <td>0.481222</td>\n",
              "    </tr>\n",
              "    <tr>\n",
              "      <th>min</th>\n",
              "      <td>0.000000</td>\n",
              "      <td>0.000000</td>\n",
              "    </tr>\n",
              "    <tr>\n",
              "      <th>25%</th>\n",
              "      <td>0.000000</td>\n",
              "      <td>0.000000</td>\n",
              "    </tr>\n",
              "    <tr>\n",
              "      <th>50%</th>\n",
              "      <td>0.000000</td>\n",
              "      <td>0.000000</td>\n",
              "    </tr>\n",
              "    <tr>\n",
              "      <th>75%</th>\n",
              "      <td>1.000000</td>\n",
              "      <td>1.000000</td>\n",
              "    </tr>\n",
              "    <tr>\n",
              "      <th>max</th>\n",
              "      <td>1.000000</td>\n",
              "      <td>1.000000</td>\n",
              "    </tr>\n",
              "  </tbody>\n",
              "</table>\n",
              "</div>"
            ],
            "text/plain": [
              "           actual   predicted\n",
              "count  178.000000  178.000000\n",
              "mean     0.410112    0.359551\n",
              "std      0.493241    0.481222\n",
              "min      0.000000    0.000000\n",
              "25%      0.000000    0.000000\n",
              "50%      0.000000    0.000000\n",
              "75%      1.000000    1.000000\n",
              "max      1.000000    1.000000"
            ]
          },
          "metadata": {
            "tags": []
          },
          "execution_count": 182
        }
      ]
    },
    {
      "cell_type": "code",
      "metadata": {
        "colab": {
          "base_uri": "https://localhost:8080/"
        },
        "id": "zlb02npdQ-p1",
        "outputId": "154e005f-7fdf-45cb-8eeb-5cc55dac2e46"
      },
      "source": [
        "# checking the model accuracy\n",
        "from  sklearn.metrics import accuracy_score,confusion_matrix,classification_report\n",
        "print('accuracy score: \\t',accuracy_score(y_test,y_pred_best))\n",
        "print('_______________________________________')\n",
        "print('confusion matrix:\\n',confusion_matrix(y_test,y_pred_best))\n",
        "print('_____________________________________')\n",
        "print('classification report:\\n',classification_report(y_test,y_pred_best))"
      ],
      "execution_count": 153,
      "outputs": [
        {
          "output_type": "stream",
          "text": [
            "accuracy score: \t 0.7471910112359551\n",
            "_______________________________________\n",
            "confusion matrix:\n",
            " [[87 18]\n",
            " [27 46]]\n",
            "_____________________________________\n",
            "classification report:\n",
            "               precision    recall  f1-score   support\n",
            "\n",
            "           0       0.76      0.83      0.79       105\n",
            "           1       0.72      0.63      0.67        73\n",
            "\n",
            "    accuracy                           0.75       178\n",
            "   macro avg       0.74      0.73      0.73       178\n",
            "weighted avg       0.74      0.75      0.74       178\n",
            "\n"
          ],
          "name": "stdout"
        }
      ]
    },
    {
      "cell_type": "markdown",
      "metadata": {
        "id": "PZyScoiQWyrk"
      },
      "source": [
        "### The 70 - 30 Train - Test split."
      ]
    },
    {
      "cell_type": "code",
      "metadata": {
        "id": "Z4l5F6AdQ9yM"
      },
      "source": [
        "x_train,x_test,y_train,y_test=train_test_split(x,y,test_size=0.3,random_state=0)"
      ],
      "execution_count": 154,
      "outputs": []
    },
    {
      "cell_type": "code",
      "metadata": {
        "colab": {
          "base_uri": "https://localhost:8080/"
        },
        "id": "jWqLn-YDQWDs",
        "outputId": "49333d5a-2d02-4598-fa94-f4ed34a1a16b"
      },
      "source": [
        "knn_gs_results = knn_gs.fit(x_train,y_train)\n",
        "knn_gs_results"
      ],
      "execution_count": 155,
      "outputs": [
        {
          "output_type": "stream",
          "text": [
            "Fitting 5 folds for each of 20 candidates, totalling 100 fits\n"
          ],
          "name": "stdout"
        },
        {
          "output_type": "stream",
          "text": [
            "[Parallel(n_jobs=-1)]: Using backend LokyBackend with 2 concurrent workers.\n",
            "[Parallel(n_jobs=-1)]: Done 100 out of 100 | elapsed:    0.6s finished\n"
          ],
          "name": "stderr"
        },
        {
          "output_type": "execute_result",
          "data": {
            "text/plain": [
              "GridSearchCV(cv=5, error_score=nan,\n",
              "             estimator=KNeighborsClassifier(algorithm='auto', leaf_size=30,\n",
              "                                            metric='minkowski',\n",
              "                                            metric_params=None, n_jobs=None,\n",
              "                                            n_neighbors=5, p=2,\n",
              "                                            weights='uniform'),\n",
              "             iid='deprecated', n_jobs=-1,\n",
              "             param_grid={'metric': ['euclidean', 'manhattan'],\n",
              "                         'n_neighbors': [3, 7, 11, 15, 19],\n",
              "                         'weights': ['uniform', 'distance']},\n",
              "             pre_dispatch='2*n_jobs', refit=True, return_train_score=False,\n",
              "             scoring='accuracy', verbose=1)"
            ]
          },
          "metadata": {
            "tags": []
          },
          "execution_count": 155
        }
      ]
    },
    {
      "cell_type": "code",
      "metadata": {
        "colab": {
          "base_uri": "https://localhost:8080/",
          "height": 317
        },
        "id": "wuXOez-BRPTd",
        "outputId": "40914973-340f-46eb-db1e-6f5dc06bc3ec"
      },
      "source": [
        "knn_df=pd.DataFrame(knn_gs_results.cv_results_)\n",
        "knn_df.describe()"
      ],
      "execution_count": 157,
      "outputs": [
        {
          "output_type": "execute_result",
          "data": {
            "text/html": [
              "<div>\n",
              "<style scoped>\n",
              "    .dataframe tbody tr th:only-of-type {\n",
              "        vertical-align: middle;\n",
              "    }\n",
              "\n",
              "    .dataframe tbody tr th {\n",
              "        vertical-align: top;\n",
              "    }\n",
              "\n",
              "    .dataframe thead th {\n",
              "        text-align: right;\n",
              "    }\n",
              "</style>\n",
              "<table border=\"1\" class=\"dataframe\">\n",
              "  <thead>\n",
              "    <tr style=\"text-align: right;\">\n",
              "      <th></th>\n",
              "      <th>mean_fit_time</th>\n",
              "      <th>std_fit_time</th>\n",
              "      <th>mean_score_time</th>\n",
              "      <th>std_score_time</th>\n",
              "      <th>split0_test_score</th>\n",
              "      <th>split1_test_score</th>\n",
              "      <th>split2_test_score</th>\n",
              "      <th>split3_test_score</th>\n",
              "      <th>split4_test_score</th>\n",
              "      <th>mean_test_score</th>\n",
              "      <th>std_test_score</th>\n",
              "      <th>rank_test_score</th>\n",
              "    </tr>\n",
              "  </thead>\n",
              "  <tbody>\n",
              "    <tr>\n",
              "      <th>count</th>\n",
              "      <td>20.000000</td>\n",
              "      <td>20.000000</td>\n",
              "      <td>20.000000</td>\n",
              "      <td>20.000000</td>\n",
              "      <td>20.000000</td>\n",
              "      <td>20.000000</td>\n",
              "      <td>20.000000</td>\n",
              "      <td>20.000000</td>\n",
              "      <td>20.000000</td>\n",
              "      <td>20.000000</td>\n",
              "      <td>20.000000</td>\n",
              "      <td>20.000000</td>\n",
              "    </tr>\n",
              "    <tr>\n",
              "      <th>mean</th>\n",
              "      <td>0.002056</td>\n",
              "      <td>0.000493</td>\n",
              "      <td>0.007278</td>\n",
              "      <td>0.001043</td>\n",
              "      <td>0.814000</td>\n",
              "      <td>0.803600</td>\n",
              "      <td>0.804839</td>\n",
              "      <td>0.791935</td>\n",
              "      <td>0.839516</td>\n",
              "      <td>0.810778</td>\n",
              "      <td>0.020037</td>\n",
              "      <td>10.450000</td>\n",
              "    </tr>\n",
              "    <tr>\n",
              "      <th>std</th>\n",
              "      <td>0.000435</td>\n",
              "      <td>0.000775</td>\n",
              "      <td>0.003460</td>\n",
              "      <td>0.001024</td>\n",
              "      <td>0.018513</td>\n",
              "      <td>0.014091</td>\n",
              "      <td>0.018052</td>\n",
              "      <td>0.019334</td>\n",
              "      <td>0.016936</td>\n",
              "      <td>0.011486</td>\n",
              "      <td>0.004482</td>\n",
              "      <td>5.906954</td>\n",
              "    </tr>\n",
              "    <tr>\n",
              "      <th>min</th>\n",
              "      <td>0.001681</td>\n",
              "      <td>0.000036</td>\n",
              "      <td>0.003153</td>\n",
              "      <td>0.000093</td>\n",
              "      <td>0.776000</td>\n",
              "      <td>0.776000</td>\n",
              "      <td>0.782258</td>\n",
              "      <td>0.741935</td>\n",
              "      <td>0.806452</td>\n",
              "      <td>0.784542</td>\n",
              "      <td>0.009471</td>\n",
              "      <td>1.000000</td>\n",
              "    </tr>\n",
              "    <tr>\n",
              "      <th>25%</th>\n",
              "      <td>0.001817</td>\n",
              "      <td>0.000072</td>\n",
              "      <td>0.003980</td>\n",
              "      <td>0.000276</td>\n",
              "      <td>0.798000</td>\n",
              "      <td>0.800000</td>\n",
              "      <td>0.790323</td>\n",
              "      <td>0.782258</td>\n",
              "      <td>0.828629</td>\n",
              "      <td>0.806290</td>\n",
              "      <td>0.017428</td>\n",
              "      <td>5.750000</td>\n",
              "    </tr>\n",
              "    <tr>\n",
              "      <th>50%</th>\n",
              "      <td>0.001852</td>\n",
              "      <td>0.000100</td>\n",
              "      <td>0.007384</td>\n",
              "      <td>0.000420</td>\n",
              "      <td>0.824000</td>\n",
              "      <td>0.800000</td>\n",
              "      <td>0.802419</td>\n",
              "      <td>0.794355</td>\n",
              "      <td>0.846774</td>\n",
              "      <td>0.813542</td>\n",
              "      <td>0.020785</td>\n",
              "      <td>10.500000</td>\n",
              "    </tr>\n",
              "    <tr>\n",
              "      <th>75%</th>\n",
              "      <td>0.002237</td>\n",
              "      <td>0.000742</td>\n",
              "      <td>0.009828</td>\n",
              "      <td>0.001692</td>\n",
              "      <td>0.832000</td>\n",
              "      <td>0.808000</td>\n",
              "      <td>0.814516</td>\n",
              "      <td>0.806452</td>\n",
              "      <td>0.848790</td>\n",
              "      <td>0.817497</td>\n",
              "      <td>0.023020</td>\n",
              "      <td>15.250000</td>\n",
              "    </tr>\n",
              "    <tr>\n",
              "      <th>max</th>\n",
              "      <td>0.003373</td>\n",
              "      <td>0.002840</td>\n",
              "      <td>0.012469</td>\n",
              "      <td>0.003032</td>\n",
              "      <td>0.832000</td>\n",
              "      <td>0.832000</td>\n",
              "      <td>0.846774</td>\n",
              "      <td>0.822581</td>\n",
              "      <td>0.862903</td>\n",
              "      <td>0.826387</td>\n",
              "      <td>0.028063</td>\n",
              "      <td>20.000000</td>\n",
              "    </tr>\n",
              "  </tbody>\n",
              "</table>\n",
              "</div>"
            ],
            "text/plain": [
              "       mean_fit_time  std_fit_time  ...  std_test_score  rank_test_score\n",
              "count      20.000000     20.000000  ...       20.000000        20.000000\n",
              "mean        0.002056      0.000493  ...        0.020037        10.450000\n",
              "std         0.000435      0.000775  ...        0.004482         5.906954\n",
              "min         0.001681      0.000036  ...        0.009471         1.000000\n",
              "25%         0.001817      0.000072  ...        0.017428         5.750000\n",
              "50%         0.001852      0.000100  ...        0.020785        10.500000\n",
              "75%         0.002237      0.000742  ...        0.023020        15.250000\n",
              "max         0.003373      0.002840  ...        0.028063        20.000000\n",
              "\n",
              "[8 rows x 12 columns]"
            ]
          },
          "metadata": {
            "tags": []
          },
          "execution_count": 157
        }
      ]
    },
    {
      "cell_type": "code",
      "metadata": {
        "colab": {
          "base_uri": "https://localhost:8080/"
        },
        "id": "KSnuMIYIXTjP",
        "outputId": "824b218e-d020-419b-9a70-b15bfe97033b"
      },
      "source": [
        "print(knn_gs_results.best_score_)\n",
        "print(knn_gs_results.best_estimator_)\n",
        "print(knn_gs_results.best_params_)"
      ],
      "execution_count": 158,
      "outputs": [
        {
          "output_type": "stream",
          "text": [
            "0.8263870967741935\n",
            "KNeighborsClassifier(algorithm='auto', leaf_size=30, metric='manhattan',\n",
            "                     metric_params=None, n_jobs=None, n_neighbors=11, p=2,\n",
            "                     weights='uniform')\n",
            "{'metric': 'manhattan', 'n_neighbors': 11, 'weights': 'uniform'}\n"
          ],
          "name": "stdout"
        }
      ]
    },
    {
      "cell_type": "code",
      "metadata": {
        "id": "hmh9byt7Xarg"
      },
      "source": [
        "# Train model using best model\n",
        "knn_best=knn_gs_results.best_estimator_\n",
        "knn_best.fit(x_train,y_train)\n",
        "\n",
        "# predicting\n",
        "y_pred_best=knn_best.predict(x_test)"
      ],
      "execution_count": 159,
      "outputs": []
    },
    {
      "cell_type": "code",
      "metadata": {
        "colab": {
          "base_uri": "https://localhost:8080/",
          "height": 297
        },
        "id": "A86d-viiZRUi",
        "outputId": "705fb0a2-0013-45a1-e847-0028a5fadc1c"
      },
      "source": [
        "best_pred=pd.DataFrame({'actual':y_test,'predicted':y_pred_best})\n",
        "best_pred.describe()"
      ],
      "execution_count": 160,
      "outputs": [
        {
          "output_type": "execute_result",
          "data": {
            "text/html": [
              "<div>\n",
              "<style scoped>\n",
              "    .dataframe tbody tr th:only-of-type {\n",
              "        vertical-align: middle;\n",
              "    }\n",
              "\n",
              "    .dataframe tbody tr th {\n",
              "        vertical-align: top;\n",
              "    }\n",
              "\n",
              "    .dataframe thead th {\n",
              "        text-align: right;\n",
              "    }\n",
              "</style>\n",
              "<table border=\"1\" class=\"dataframe\">\n",
              "  <thead>\n",
              "    <tr style=\"text-align: right;\">\n",
              "      <th></th>\n",
              "      <th>actual</th>\n",
              "      <th>predicted</th>\n",
              "    </tr>\n",
              "  </thead>\n",
              "  <tbody>\n",
              "    <tr>\n",
              "      <th>count</th>\n",
              "      <td>267.000000</td>\n",
              "      <td>267.000000</td>\n",
              "    </tr>\n",
              "    <tr>\n",
              "      <th>mean</th>\n",
              "      <td>0.411985</td>\n",
              "      <td>0.348315</td>\n",
              "    </tr>\n",
              "    <tr>\n",
              "      <th>std</th>\n",
              "      <td>0.493117</td>\n",
              "      <td>0.477331</td>\n",
              "    </tr>\n",
              "    <tr>\n",
              "      <th>min</th>\n",
              "      <td>0.000000</td>\n",
              "      <td>0.000000</td>\n",
              "    </tr>\n",
              "    <tr>\n",
              "      <th>25%</th>\n",
              "      <td>0.000000</td>\n",
              "      <td>0.000000</td>\n",
              "    </tr>\n",
              "    <tr>\n",
              "      <th>50%</th>\n",
              "      <td>0.000000</td>\n",
              "      <td>0.000000</td>\n",
              "    </tr>\n",
              "    <tr>\n",
              "      <th>75%</th>\n",
              "      <td>1.000000</td>\n",
              "      <td>1.000000</td>\n",
              "    </tr>\n",
              "    <tr>\n",
              "      <th>max</th>\n",
              "      <td>1.000000</td>\n",
              "      <td>1.000000</td>\n",
              "    </tr>\n",
              "  </tbody>\n",
              "</table>\n",
              "</div>"
            ],
            "text/plain": [
              "           actual   predicted\n",
              "count  267.000000  267.000000\n",
              "mean     0.411985    0.348315\n",
              "std      0.493117    0.477331\n",
              "min      0.000000    0.000000\n",
              "25%      0.000000    0.000000\n",
              "50%      0.000000    0.000000\n",
              "75%      1.000000    1.000000\n",
              "max      1.000000    1.000000"
            ]
          },
          "metadata": {
            "tags": []
          },
          "execution_count": 160
        }
      ]
    },
    {
      "cell_type": "code",
      "metadata": {
        "colab": {
          "base_uri": "https://localhost:8080/"
        },
        "id": "9d0Gvbx6ZRSZ",
        "outputId": "d2d386ea-b544-4932-f271-45cca2feb548"
      },
      "source": [
        "# checking the model accuracy\n",
        "from  sklearn.metrics import accuracy_score,confusion_matrix,classification_report\n",
        "print('accuracy score: \\t',accuracy_score(y_test,y_pred_best))\n",
        "print('_______________________________________')\n",
        "print('confusion matrix:\\n',confusion_matrix(y_test,y_pred_best))\n",
        "print('_____________________________________')\n",
        "print('classification report:\\n',classification_report(y_test,y_pred_best))"
      ],
      "execution_count": 161,
      "outputs": [
        {
          "output_type": "stream",
          "text": [
            "accuracy score: \t 0.8089887640449438\n",
            "_______________________________________\n",
            "confusion matrix:\n",
            " [[140  17]\n",
            " [ 34  76]]\n",
            "_____________________________________\n",
            "classification report:\n",
            "               precision    recall  f1-score   support\n",
            "\n",
            "           0       0.80      0.89      0.85       157\n",
            "           1       0.82      0.69      0.75       110\n",
            "\n",
            "    accuracy                           0.81       267\n",
            "   macro avg       0.81      0.79      0.80       267\n",
            "weighted avg       0.81      0.81      0.81       267\n",
            "\n"
          ],
          "name": "stdout"
        }
      ]
    },
    {
      "cell_type": "markdown",
      "metadata": {
        "id": "_FyF-GRcaLbQ"
      },
      "source": [
        "### The 60 - 40 Train - Test split."
      ]
    },
    {
      "cell_type": "code",
      "metadata": {
        "id": "QH4ogfrwZRPY"
      },
      "source": [
        "x_train,x_test,y_train,y_test=train_test_split(x,y,test_size=0.4,random_state=0)"
      ],
      "execution_count": 162,
      "outputs": []
    },
    {
      "cell_type": "code",
      "metadata": {
        "colab": {
          "base_uri": "https://localhost:8080/"
        },
        "id": "cLyUVOzPZRMv",
        "outputId": "3abfc16c-1479-4e06-ee0f-f8c28b9942b8"
      },
      "source": [
        "knn_gs_results = knn_gs.fit(x_train,y_train)\n",
        "knn_gs_results"
      ],
      "execution_count": 163,
      "outputs": [
        {
          "output_type": "stream",
          "text": [
            "Fitting 5 folds for each of 20 candidates, totalling 100 fits\n"
          ],
          "name": "stdout"
        },
        {
          "output_type": "stream",
          "text": [
            "[Parallel(n_jobs=-1)]: Using backend LokyBackend with 2 concurrent workers.\n",
            "[Parallel(n_jobs=-1)]: Done 100 out of 100 | elapsed:    0.5s finished\n"
          ],
          "name": "stderr"
        },
        {
          "output_type": "execute_result",
          "data": {
            "text/plain": [
              "GridSearchCV(cv=5, error_score=nan,\n",
              "             estimator=KNeighborsClassifier(algorithm='auto', leaf_size=30,\n",
              "                                            metric='minkowski',\n",
              "                                            metric_params=None, n_jobs=None,\n",
              "                                            n_neighbors=5, p=2,\n",
              "                                            weights='uniform'),\n",
              "             iid='deprecated', n_jobs=-1,\n",
              "             param_grid={'metric': ['euclidean', 'manhattan'],\n",
              "                         'n_neighbors': [3, 7, 11, 15, 19],\n",
              "                         'weights': ['uniform', 'distance']},\n",
              "             pre_dispatch='2*n_jobs', refit=True, return_train_score=False,\n",
              "             scoring='accuracy', verbose=1)"
            ]
          },
          "metadata": {
            "tags": []
          },
          "execution_count": 163
        }
      ]
    },
    {
      "cell_type": "code",
      "metadata": {
        "colab": {
          "base_uri": "https://localhost:8080/",
          "height": 317
        },
        "id": "5ozm6R1sZRJ7",
        "outputId": "22f6ee9d-a594-4869-c2f8-a3dd8b5714c4"
      },
      "source": [
        "knn_df=pd.DataFrame(knn_gs_results.cv_results_)\n",
        "knn_df.describe()"
      ],
      "execution_count": 165,
      "outputs": [
        {
          "output_type": "execute_result",
          "data": {
            "text/html": [
              "<div>\n",
              "<style scoped>\n",
              "    .dataframe tbody tr th:only-of-type {\n",
              "        vertical-align: middle;\n",
              "    }\n",
              "\n",
              "    .dataframe tbody tr th {\n",
              "        vertical-align: top;\n",
              "    }\n",
              "\n",
              "    .dataframe thead th {\n",
              "        text-align: right;\n",
              "    }\n",
              "</style>\n",
              "<table border=\"1\" class=\"dataframe\">\n",
              "  <thead>\n",
              "    <tr style=\"text-align: right;\">\n",
              "      <th></th>\n",
              "      <th>mean_fit_time</th>\n",
              "      <th>std_fit_time</th>\n",
              "      <th>mean_score_time</th>\n",
              "      <th>std_score_time</th>\n",
              "      <th>split0_test_score</th>\n",
              "      <th>split1_test_score</th>\n",
              "      <th>split2_test_score</th>\n",
              "      <th>split3_test_score</th>\n",
              "      <th>split4_test_score</th>\n",
              "      <th>mean_test_score</th>\n",
              "      <th>std_test_score</th>\n",
              "      <th>rank_test_score</th>\n",
              "    </tr>\n",
              "  </thead>\n",
              "  <tbody>\n",
              "    <tr>\n",
              "      <th>count</th>\n",
              "      <td>20.000000</td>\n",
              "      <td>20.000000</td>\n",
              "      <td>20.000000</td>\n",
              "      <td>20.000000</td>\n",
              "      <td>20.000000</td>\n",
              "      <td>20.000000</td>\n",
              "      <td>20.000000</td>\n",
              "      <td>20.000000</td>\n",
              "      <td>20.000000</td>\n",
              "      <td>20.000000</td>\n",
              "      <td>20.000000</td>\n",
              "      <td>20.000000</td>\n",
              "    </tr>\n",
              "    <tr>\n",
              "      <th>mean</th>\n",
              "      <td>0.001985</td>\n",
              "      <td>0.000700</td>\n",
              "      <td>0.006770</td>\n",
              "      <td>0.001365</td>\n",
              "      <td>0.860280</td>\n",
              "      <td>0.801869</td>\n",
              "      <td>0.817290</td>\n",
              "      <td>0.795283</td>\n",
              "      <td>0.836792</td>\n",
              "      <td>0.822303</td>\n",
              "      <td>0.026321</td>\n",
              "      <td>10.350000</td>\n",
              "    </tr>\n",
              "    <tr>\n",
              "      <th>std</th>\n",
              "      <td>0.000694</td>\n",
              "      <td>0.001286</td>\n",
              "      <td>0.003402</td>\n",
              "      <td>0.001226</td>\n",
              "      <td>0.012675</td>\n",
              "      <td>0.016497</td>\n",
              "      <td>0.012307</td>\n",
              "      <td>0.017069</td>\n",
              "      <td>0.017341</td>\n",
              "      <td>0.006768</td>\n",
              "      <td>0.007411</td>\n",
              "      <td>5.760802</td>\n",
              "    </tr>\n",
              "    <tr>\n",
              "      <th>min</th>\n",
              "      <td>0.001564</td>\n",
              "      <td>0.000048</td>\n",
              "      <td>0.003018</td>\n",
              "      <td>0.000105</td>\n",
              "      <td>0.841121</td>\n",
              "      <td>0.775701</td>\n",
              "      <td>0.794393</td>\n",
              "      <td>0.764151</td>\n",
              "      <td>0.801887</td>\n",
              "      <td>0.810439</td>\n",
              "      <td>0.011878</td>\n",
              "      <td>1.000000</td>\n",
              "    </tr>\n",
              "    <tr>\n",
              "      <th>25%</th>\n",
              "      <td>0.001635</td>\n",
              "      <td>0.000072</td>\n",
              "      <td>0.003555</td>\n",
              "      <td>0.000297</td>\n",
              "      <td>0.850467</td>\n",
              "      <td>0.792056</td>\n",
              "      <td>0.813084</td>\n",
              "      <td>0.783019</td>\n",
              "      <td>0.827830</td>\n",
              "      <td>0.817060</td>\n",
              "      <td>0.021376</td>\n",
              "      <td>5.750000</td>\n",
              "    </tr>\n",
              "    <tr>\n",
              "      <th>50%</th>\n",
              "      <td>0.001702</td>\n",
              "      <td>0.000090</td>\n",
              "      <td>0.006330</td>\n",
              "      <td>0.000873</td>\n",
              "      <td>0.859813</td>\n",
              "      <td>0.803738</td>\n",
              "      <td>0.817757</td>\n",
              "      <td>0.792453</td>\n",
              "      <td>0.839623</td>\n",
              "      <td>0.821751</td>\n",
              "      <td>0.026698</td>\n",
              "      <td>10.500000</td>\n",
              "    </tr>\n",
              "    <tr>\n",
              "      <th>75%</th>\n",
              "      <td>0.001904</td>\n",
              "      <td>0.000473</td>\n",
              "      <td>0.009597</td>\n",
              "      <td>0.002208</td>\n",
              "      <td>0.869159</td>\n",
              "      <td>0.813084</td>\n",
              "      <td>0.822430</td>\n",
              "      <td>0.811321</td>\n",
              "      <td>0.849057</td>\n",
              "      <td>0.827879</td>\n",
              "      <td>0.030304</td>\n",
              "      <td>15.250000</td>\n",
              "    </tr>\n",
              "    <tr>\n",
              "      <th>max</th>\n",
              "      <td>0.004094</td>\n",
              "      <td>0.004392</td>\n",
              "      <td>0.013224</td>\n",
              "      <td>0.004446</td>\n",
              "      <td>0.887850</td>\n",
              "      <td>0.822430</td>\n",
              "      <td>0.841121</td>\n",
              "      <td>0.820755</td>\n",
              "      <td>0.858491</td>\n",
              "      <td>0.833028</td>\n",
              "      <td>0.038656</td>\n",
              "      <td>20.000000</td>\n",
              "    </tr>\n",
              "  </tbody>\n",
              "</table>\n",
              "</div>"
            ],
            "text/plain": [
              "       mean_fit_time  std_fit_time  ...  std_test_score  rank_test_score\n",
              "count      20.000000     20.000000  ...       20.000000        20.000000\n",
              "mean        0.001985      0.000700  ...        0.026321        10.350000\n",
              "std         0.000694      0.001286  ...        0.007411         5.760802\n",
              "min         0.001564      0.000048  ...        0.011878         1.000000\n",
              "25%         0.001635      0.000072  ...        0.021376         5.750000\n",
              "50%         0.001702      0.000090  ...        0.026698        10.500000\n",
              "75%         0.001904      0.000473  ...        0.030304        15.250000\n",
              "max         0.004094      0.004392  ...        0.038656        20.000000\n",
              "\n",
              "[8 rows x 12 columns]"
            ]
          },
          "metadata": {
            "tags": []
          },
          "execution_count": 165
        }
      ]
    },
    {
      "cell_type": "code",
      "metadata": {
        "colab": {
          "base_uri": "https://localhost:8080/"
        },
        "id": "tjwytxHOZRFy",
        "outputId": "14efb865-d896-4820-bfa2-57f13f0c8fa3"
      },
      "source": [
        "print(knn_gs_results.best_score_)\n",
        "print(knn_gs_results.best_estimator_)\n",
        "print(knn_gs_results.best_params_)"
      ],
      "execution_count": 166,
      "outputs": [
        {
          "output_type": "stream",
          "text": [
            "0.8330276847116911\n",
            "KNeighborsClassifier(algorithm='auto', leaf_size=30, metric='euclidean',\n",
            "                     metric_params=None, n_jobs=None, n_neighbors=11, p=2,\n",
            "                     weights='uniform')\n",
            "{'metric': 'euclidean', 'n_neighbors': 11, 'weights': 'uniform'}\n"
          ],
          "name": "stdout"
        }
      ]
    },
    {
      "cell_type": "code",
      "metadata": {
        "id": "To4zEWLRaql2"
      },
      "source": [
        "# Train model using best model\n",
        "knn_best=knn_gs_results.best_estimator_\n",
        "knn_best.fit(x_train,y_train)\n",
        "\n",
        "# predicting\n",
        "y_pred_best=knn_best.predict(x_test)"
      ],
      "execution_count": 167,
      "outputs": []
    },
    {
      "cell_type": "code",
      "metadata": {
        "colab": {
          "base_uri": "https://localhost:8080/",
          "height": 297
        },
        "id": "daDyeMFKaqjh",
        "outputId": "227e5a86-d43b-42b0-c090-f0f01aae10c6"
      },
      "source": [
        "best_pred=pd.DataFrame({'actual':y_test,'predicted':y_pred_best})\n",
        "best_pred.describe()"
      ],
      "execution_count": 168,
      "outputs": [
        {
          "output_type": "execute_result",
          "data": {
            "text/html": [
              "<div>\n",
              "<style scoped>\n",
              "    .dataframe tbody tr th:only-of-type {\n",
              "        vertical-align: middle;\n",
              "    }\n",
              "\n",
              "    .dataframe tbody tr th {\n",
              "        vertical-align: top;\n",
              "    }\n",
              "\n",
              "    .dataframe thead th {\n",
              "        text-align: right;\n",
              "    }\n",
              "</style>\n",
              "<table border=\"1\" class=\"dataframe\">\n",
              "  <thead>\n",
              "    <tr style=\"text-align: right;\">\n",
              "      <th></th>\n",
              "      <th>actual</th>\n",
              "      <th>predicted</th>\n",
              "    </tr>\n",
              "  </thead>\n",
              "  <tbody>\n",
              "    <tr>\n",
              "      <th>count</th>\n",
              "      <td>356.000000</td>\n",
              "      <td>356.000000</td>\n",
              "    </tr>\n",
              "    <tr>\n",
              "      <th>mean</th>\n",
              "      <td>0.393258</td>\n",
              "      <td>0.334270</td>\n",
              "    </tr>\n",
              "    <tr>\n",
              "      <th>std</th>\n",
              "      <td>0.489161</td>\n",
              "      <td>0.472398</td>\n",
              "    </tr>\n",
              "    <tr>\n",
              "      <th>min</th>\n",
              "      <td>0.000000</td>\n",
              "      <td>0.000000</td>\n",
              "    </tr>\n",
              "    <tr>\n",
              "      <th>25%</th>\n",
              "      <td>0.000000</td>\n",
              "      <td>0.000000</td>\n",
              "    </tr>\n",
              "    <tr>\n",
              "      <th>50%</th>\n",
              "      <td>0.000000</td>\n",
              "      <td>0.000000</td>\n",
              "    </tr>\n",
              "    <tr>\n",
              "      <th>75%</th>\n",
              "      <td>1.000000</td>\n",
              "      <td>1.000000</td>\n",
              "    </tr>\n",
              "    <tr>\n",
              "      <th>max</th>\n",
              "      <td>1.000000</td>\n",
              "      <td>1.000000</td>\n",
              "    </tr>\n",
              "  </tbody>\n",
              "</table>\n",
              "</div>"
            ],
            "text/plain": [
              "           actual   predicted\n",
              "count  356.000000  356.000000\n",
              "mean     0.393258    0.334270\n",
              "std      0.489161    0.472398\n",
              "min      0.000000    0.000000\n",
              "25%      0.000000    0.000000\n",
              "50%      0.000000    0.000000\n",
              "75%      1.000000    1.000000\n",
              "max      1.000000    1.000000"
            ]
          },
          "metadata": {
            "tags": []
          },
          "execution_count": 168
        }
      ]
    },
    {
      "cell_type": "code",
      "metadata": {
        "colab": {
          "base_uri": "https://localhost:8080/"
        },
        "id": "lTh12_iDaqgU",
        "outputId": "afe92a6f-0acd-486f-9683-a6724a6e310b"
      },
      "source": [
        "# checking the model accuracy\n",
        "from  sklearn.metrics import accuracy_score,confusion_matrix,classification_report\n",
        "print('accuracy score: \\t',accuracy_score(y_test,y_pred_best))\n",
        "print('_______________________________________')\n",
        "print('confusion matrix:\\n',confusion_matrix(y_test,y_pred_best))\n",
        "print('_____________________________________')\n",
        "print('classification report:\\n',classification_report(y_test,y_pred_best))"
      ],
      "execution_count": 169,
      "outputs": [
        {
          "output_type": "stream",
          "text": [
            "accuracy score: \t 0.7949438202247191\n",
            "_______________________________________\n",
            "confusion matrix:\n",
            " [[190  26]\n",
            " [ 47  93]]\n",
            "_____________________________________\n",
            "classification report:\n",
            "               precision    recall  f1-score   support\n",
            "\n",
            "           0       0.80      0.88      0.84       216\n",
            "           1       0.78      0.66      0.72       140\n",
            "\n",
            "    accuracy                           0.79       356\n",
            "   macro avg       0.79      0.77      0.78       356\n",
            "weighted avg       0.79      0.79      0.79       356\n",
            "\n"
          ],
          "name": "stdout"
        }
      ]
    },
    {
      "cell_type": "markdown",
      "metadata": {
        "id": "rzGNkQn5TnfD"
      },
      "source": [
        "# **Conclusion**\n",
        "\n",
        "<hr>\n",
        "\n",
        "> __a.)Split 80 - 20__ <br>\n",
        "Best_Score: 83.69% <br>\n",
        "Accuracy Score: 74.72% <br>\n",
        "\n",
        "<hr>\n",
        "\n",
        "> __b.)Split 70 - 30__ <br>\n",
        "Best_Score: 82.64% <br>\n",
        "Accuracy Score: 80.90% <br>\n",
        "\n",
        "<hr>\n",
        "\n",
        "> __c.)Split 60 - 40__ <br>\n",
        "Best_Score: 83.30% <br>\n",
        "Accuracy Score: 79.49% <br>\n",
        "\n",
        "__For this dataset, a 70 - 30 split gives best result of 80.90 accuracy score of predicting the people who survived the Titanic.__"
      ]
    },
    {
      "cell_type": "markdown",
      "metadata": {
        "id": "O1KHSO7EjytB"
      },
      "source": [
        "# Follow-up Questions"
      ]
    },
    {
      "cell_type": "markdown",
      "metadata": {
        "id": "YC67qPEyuAAe"
      },
      "source": [
        "a) Do we need other data to answer the research question"
      ]
    },
    {
      "cell_type": "markdown",
      "metadata": {
        "id": "GP5O1B-LuG1N"
      },
      "source": [
        "Yes.The data on test should have Label column. This would have made the test dataset more useful. "
      ]
    }
  ]
}