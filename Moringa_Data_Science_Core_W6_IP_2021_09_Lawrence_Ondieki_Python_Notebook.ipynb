{
  "nbformat": 4,
  "nbformat_minor": 0,
  "metadata": {
    "colab": {
      "name": "Moringa_Data_Science_Core_W6_IP_2021_09_Lawrence_Ondieki_Python_Notebook.ipynb",
      "provenance": [],
      "collapsed_sections": [],
      "include_colab_link": true
    },
    "kernelspec": {
      "name": "python3",
      "display_name": "Python 3"
    }
  },
  "cells": [
    {
      "cell_type": "markdown",
      "metadata": {
        "id": "view-in-github",
        "colab_type": "text"
      },
      "source": [
        "<a href=\"https://colab.research.google.com/github/ogwora/Core_IP6/blob/master/Moringa_Data_Science_Core_W6_IP_2021_09_Lawrence_Ondieki_Python_Notebook.ipynb\" target=\"_parent\"><img src=\"https://colab.research.google.com/assets/colab-badge.svg\" alt=\"Open In Colab\"/></a>"
      ]
    },
    {
      "cell_type": "markdown",
      "metadata": {
        "id": "2kZNnjoL0B33"
      },
      "source": [
        "  # MCHEZOPESA LTD\n",
        "  \n",
        "  ## 1. Formulate Question\n",
        "  \n",
        "  A Prediction result of a game between two teams; team A and team B, based on whether the game was played in the home, away or on a neutral venue."
      ]
    },
    {
      "cell_type": "markdown",
      "metadata": {
        "id": "pV9eh-dHzi7J"
      },
      "source": [
        "## 1.1. Metric of Success"
      ]
    },
    {
      "cell_type": "markdown",
      "metadata": {
        "id": "An47nl6D-oKw"
      },
      "source": [
        "Optimal and reliable prediction Model:\n",
        "\n",
        "Accuracy - 85% and above"
      ]
    },
    {
      "cell_type": "markdown",
      "metadata": {
        "id": "P2YpOngczoJs"
      },
      "source": [
        "## 1.2. CONTEXT"
      ]
    },
    {
      "cell_type": "markdown",
      "metadata": {
        "id": "ZJLzM5v9-yk3"
      },
      "source": [
        "The game prediction for Mchezopesa will be based on FIFA Ranking. The FIFA rankings give an indication of how good a team is compared to the rest of teams that have participated in past tournaments sanctioned by FIFA."
      ]
    },
    {
      "cell_type": "markdown",
      "metadata": {
        "id": "WuboLxs_zshE"
      },
      "source": [
        "## 1.3 Experimental Design"
      ]
    },
    {
      "cell_type": "markdown",
      "metadata": {
        "id": "sl8oY7bi98q6"
      },
      "source": [
        "This project was carried out with: - \n",
        "1. Exploratory Data Analysis (EDA).\n",
        "2. Clean up the data.\n",
        "3. Buils a model\n",
        "4. Train the model and use it for predictions.\n",
        "5. Check the accuracy of the model."
      ]
    },
    {
      "cell_type": "markdown",
      "metadata": {
        "id": "iXZRAoQz1k-q"
      },
      "source": [
        "## 2. Importing libraries"
      ]
    },
    {
      "cell_type": "code",
      "metadata": {
        "id": "0Z5Wbw371uM3"
      },
      "source": [
        "# Import libraries\n",
        "import pandas as pd\n",
        "import numpy as np\n",
        "import matplotlib.pyplot as plt\n",
        "import seaborn as sns\n",
        "\n",
        "%matplotlib inline"
      ],
      "execution_count": 167,
      "outputs": []
    },
    {
      "cell_type": "markdown",
      "metadata": {
        "id": "u4m69Y3k12Oe"
      },
      "source": [
        "## 2.1. Loading the data from the FIFA dataset"
      ]
    },
    {
      "cell_type": "code",
      "metadata": {
        "id": "15dmxEv_z5QR"
      },
      "source": [
        "# Loading Ranking dataset\n",
        "ranking=pd.read_csv('fifa_ranking.csv')"
      ],
      "execution_count": 168,
      "outputs": []
    },
    {
      "cell_type": "code",
      "metadata": {
        "colab": {
          "base_uri": "https://localhost:8080/",
          "height": 305
        },
        "id": "EDsgBxeojK5b",
        "outputId": "13e06f81-195e-41e1-f8d1-9c9cac801cd5"
      },
      "source": [
        "#Preview ranking dataframe\n",
        "ranking.head()"
      ],
      "execution_count": 169,
      "outputs": [
        {
          "output_type": "execute_result",
          "data": {
            "text/html": [
              "<div>\n",
              "<style scoped>\n",
              "    .dataframe tbody tr th:only-of-type {\n",
              "        vertical-align: middle;\n",
              "    }\n",
              "\n",
              "    .dataframe tbody tr th {\n",
              "        vertical-align: top;\n",
              "    }\n",
              "\n",
              "    .dataframe thead th {\n",
              "        text-align: right;\n",
              "    }\n",
              "</style>\n",
              "<table border=\"1\" class=\"dataframe\">\n",
              "  <thead>\n",
              "    <tr style=\"text-align: right;\">\n",
              "      <th></th>\n",
              "      <th>rank</th>\n",
              "      <th>country_full</th>\n",
              "      <th>country_abrv</th>\n",
              "      <th>total_points</th>\n",
              "      <th>previous_points</th>\n",
              "      <th>rank_change</th>\n",
              "      <th>cur_year_avg</th>\n",
              "      <th>cur_year_avg_weighted</th>\n",
              "      <th>last_year_avg</th>\n",
              "      <th>last_year_avg_weighted</th>\n",
              "      <th>two_year_ago_avg</th>\n",
              "      <th>two_year_ago_weighted</th>\n",
              "      <th>three_year_ago_avg</th>\n",
              "      <th>three_year_ago_weighted</th>\n",
              "      <th>confederation</th>\n",
              "      <th>rank_date</th>\n",
              "    </tr>\n",
              "  </thead>\n",
              "  <tbody>\n",
              "    <tr>\n",
              "      <th>0</th>\n",
              "      <td>1</td>\n",
              "      <td>Germany</td>\n",
              "      <td>GER</td>\n",
              "      <td>0.0</td>\n",
              "      <td>57</td>\n",
              "      <td>0</td>\n",
              "      <td>0.0</td>\n",
              "      <td>0.0</td>\n",
              "      <td>0.0</td>\n",
              "      <td>0.0</td>\n",
              "      <td>0.0</td>\n",
              "      <td>0.0</td>\n",
              "      <td>0.0</td>\n",
              "      <td>0.0</td>\n",
              "      <td>UEFA</td>\n",
              "      <td>1993-08-08</td>\n",
              "    </tr>\n",
              "    <tr>\n",
              "      <th>1</th>\n",
              "      <td>2</td>\n",
              "      <td>Italy</td>\n",
              "      <td>ITA</td>\n",
              "      <td>0.0</td>\n",
              "      <td>57</td>\n",
              "      <td>0</td>\n",
              "      <td>0.0</td>\n",
              "      <td>0.0</td>\n",
              "      <td>0.0</td>\n",
              "      <td>0.0</td>\n",
              "      <td>0.0</td>\n",
              "      <td>0.0</td>\n",
              "      <td>0.0</td>\n",
              "      <td>0.0</td>\n",
              "      <td>UEFA</td>\n",
              "      <td>1993-08-08</td>\n",
              "    </tr>\n",
              "    <tr>\n",
              "      <th>2</th>\n",
              "      <td>3</td>\n",
              "      <td>Switzerland</td>\n",
              "      <td>SUI</td>\n",
              "      <td>0.0</td>\n",
              "      <td>50</td>\n",
              "      <td>9</td>\n",
              "      <td>0.0</td>\n",
              "      <td>0.0</td>\n",
              "      <td>0.0</td>\n",
              "      <td>0.0</td>\n",
              "      <td>0.0</td>\n",
              "      <td>0.0</td>\n",
              "      <td>0.0</td>\n",
              "      <td>0.0</td>\n",
              "      <td>UEFA</td>\n",
              "      <td>1993-08-08</td>\n",
              "    </tr>\n",
              "    <tr>\n",
              "      <th>3</th>\n",
              "      <td>4</td>\n",
              "      <td>Sweden</td>\n",
              "      <td>SWE</td>\n",
              "      <td>0.0</td>\n",
              "      <td>55</td>\n",
              "      <td>0</td>\n",
              "      <td>0.0</td>\n",
              "      <td>0.0</td>\n",
              "      <td>0.0</td>\n",
              "      <td>0.0</td>\n",
              "      <td>0.0</td>\n",
              "      <td>0.0</td>\n",
              "      <td>0.0</td>\n",
              "      <td>0.0</td>\n",
              "      <td>UEFA</td>\n",
              "      <td>1993-08-08</td>\n",
              "    </tr>\n",
              "    <tr>\n",
              "      <th>4</th>\n",
              "      <td>5</td>\n",
              "      <td>Argentina</td>\n",
              "      <td>ARG</td>\n",
              "      <td>0.0</td>\n",
              "      <td>51</td>\n",
              "      <td>5</td>\n",
              "      <td>0.0</td>\n",
              "      <td>0.0</td>\n",
              "      <td>0.0</td>\n",
              "      <td>0.0</td>\n",
              "      <td>0.0</td>\n",
              "      <td>0.0</td>\n",
              "      <td>0.0</td>\n",
              "      <td>0.0</td>\n",
              "      <td>CONMEBOL</td>\n",
              "      <td>1993-08-08</td>\n",
              "    </tr>\n",
              "  </tbody>\n",
              "</table>\n",
              "</div>"
            ],
            "text/plain": [
              "   rank country_full  ... confederation   rank_date\n",
              "0     1      Germany  ...          UEFA  1993-08-08\n",
              "1     2        Italy  ...          UEFA  1993-08-08\n",
              "2     3  Switzerland  ...          UEFA  1993-08-08\n",
              "3     4       Sweden  ...          UEFA  1993-08-08\n",
              "4     5    Argentina  ...      CONMEBOL  1993-08-08\n",
              "\n",
              "[5 rows x 16 columns]"
            ]
          },
          "metadata": {
            "tags": []
          },
          "execution_count": 169
        }
      ]
    },
    {
      "cell_type": "code",
      "metadata": {
        "colab": {
          "base_uri": "https://localhost:8080/"
        },
        "id": "GD25PjFpjprt",
        "outputId": "94649ad5-bc95-4507-8af9-db00b59cbfb3"
      },
      "source": [
        "ranking.info()"
      ],
      "execution_count": 170,
      "outputs": [
        {
          "output_type": "stream",
          "text": [
            "<class 'pandas.core.frame.DataFrame'>\n",
            "RangeIndex: 57793 entries, 0 to 57792\n",
            "Data columns (total 16 columns):\n",
            " #   Column                   Non-Null Count  Dtype  \n",
            "---  ------                   --------------  -----  \n",
            " 0   rank                     57793 non-null  int64  \n",
            " 1   country_full             57793 non-null  object \n",
            " 2   country_abrv             57793 non-null  object \n",
            " 3   total_points             57793 non-null  float64\n",
            " 4   previous_points          57793 non-null  int64  \n",
            " 5   rank_change              57793 non-null  int64  \n",
            " 6   cur_year_avg             57793 non-null  float64\n",
            " 7   cur_year_avg_weighted    57793 non-null  float64\n",
            " 8   last_year_avg            57793 non-null  float64\n",
            " 9   last_year_avg_weighted   57793 non-null  float64\n",
            " 10  two_year_ago_avg         57793 non-null  float64\n",
            " 11  two_year_ago_weighted    57793 non-null  float64\n",
            " 12  three_year_ago_avg       57793 non-null  float64\n",
            " 13  three_year_ago_weighted  57793 non-null  float64\n",
            " 14  confederation            57793 non-null  object \n",
            " 15  rank_date                57793 non-null  object \n",
            "dtypes: float64(9), int64(3), object(4)\n",
            "memory usage: 7.1+ MB\n"
          ],
          "name": "stdout"
        }
      ]
    },
    {
      "cell_type": "code",
      "metadata": {
        "id": "kHt2WUif1VCb"
      },
      "source": [
        "#Loading results dataset\n",
        "results=pd.read_csv('results.csv')"
      ],
      "execution_count": 171,
      "outputs": []
    },
    {
      "cell_type": "code",
      "metadata": {
        "colab": {
          "base_uri": "https://localhost:8080/",
          "height": 200
        },
        "id": "FGi1OLa6j4gM",
        "outputId": "0cf1a17c-ab6d-4383-f69b-87959070905a"
      },
      "source": [
        "#Preview dataframe\n",
        "results.head()"
      ],
      "execution_count": 172,
      "outputs": [
        {
          "output_type": "execute_result",
          "data": {
            "text/html": [
              "<div>\n",
              "<style scoped>\n",
              "    .dataframe tbody tr th:only-of-type {\n",
              "        vertical-align: middle;\n",
              "    }\n",
              "\n",
              "    .dataframe tbody tr th {\n",
              "        vertical-align: top;\n",
              "    }\n",
              "\n",
              "    .dataframe thead th {\n",
              "        text-align: right;\n",
              "    }\n",
              "</style>\n",
              "<table border=\"1\" class=\"dataframe\">\n",
              "  <thead>\n",
              "    <tr style=\"text-align: right;\">\n",
              "      <th></th>\n",
              "      <th>date</th>\n",
              "      <th>home_team</th>\n",
              "      <th>away_team</th>\n",
              "      <th>home_score</th>\n",
              "      <th>away_score</th>\n",
              "      <th>tournament</th>\n",
              "      <th>city</th>\n",
              "      <th>country</th>\n",
              "      <th>neutral</th>\n",
              "    </tr>\n",
              "  </thead>\n",
              "  <tbody>\n",
              "    <tr>\n",
              "      <th>0</th>\n",
              "      <td>1872-11-30</td>\n",
              "      <td>Scotland</td>\n",
              "      <td>England</td>\n",
              "      <td>0</td>\n",
              "      <td>0</td>\n",
              "      <td>Friendly</td>\n",
              "      <td>Glasgow</td>\n",
              "      <td>Scotland</td>\n",
              "      <td>False</td>\n",
              "    </tr>\n",
              "    <tr>\n",
              "      <th>1</th>\n",
              "      <td>1873-03-08</td>\n",
              "      <td>England</td>\n",
              "      <td>Scotland</td>\n",
              "      <td>4</td>\n",
              "      <td>2</td>\n",
              "      <td>Friendly</td>\n",
              "      <td>London</td>\n",
              "      <td>England</td>\n",
              "      <td>False</td>\n",
              "    </tr>\n",
              "    <tr>\n",
              "      <th>2</th>\n",
              "      <td>1874-03-07</td>\n",
              "      <td>Scotland</td>\n",
              "      <td>England</td>\n",
              "      <td>2</td>\n",
              "      <td>1</td>\n",
              "      <td>Friendly</td>\n",
              "      <td>Glasgow</td>\n",
              "      <td>Scotland</td>\n",
              "      <td>False</td>\n",
              "    </tr>\n",
              "    <tr>\n",
              "      <th>3</th>\n",
              "      <td>1875-03-06</td>\n",
              "      <td>England</td>\n",
              "      <td>Scotland</td>\n",
              "      <td>2</td>\n",
              "      <td>2</td>\n",
              "      <td>Friendly</td>\n",
              "      <td>London</td>\n",
              "      <td>England</td>\n",
              "      <td>False</td>\n",
              "    </tr>\n",
              "    <tr>\n",
              "      <th>4</th>\n",
              "      <td>1876-03-04</td>\n",
              "      <td>Scotland</td>\n",
              "      <td>England</td>\n",
              "      <td>3</td>\n",
              "      <td>0</td>\n",
              "      <td>Friendly</td>\n",
              "      <td>Glasgow</td>\n",
              "      <td>Scotland</td>\n",
              "      <td>False</td>\n",
              "    </tr>\n",
              "  </tbody>\n",
              "</table>\n",
              "</div>"
            ],
            "text/plain": [
              "         date home_team away_team  ...     city   country neutral\n",
              "0  1872-11-30  Scotland   England  ...  Glasgow  Scotland   False\n",
              "1  1873-03-08   England  Scotland  ...   London   England   False\n",
              "2  1874-03-07  Scotland   England  ...  Glasgow  Scotland   False\n",
              "3  1875-03-06   England  Scotland  ...   London   England   False\n",
              "4  1876-03-04  Scotland   England  ...  Glasgow  Scotland   False\n",
              "\n",
              "[5 rows x 9 columns]"
            ]
          },
          "metadata": {
            "tags": []
          },
          "execution_count": 172
        }
      ]
    },
    {
      "cell_type": "code",
      "metadata": {
        "colab": {
          "base_uri": "https://localhost:8080/"
        },
        "id": "oY8FyWUfj_s3",
        "outputId": "4558ae1e-9244-48ff-9bb3-cd1efe24b626"
      },
      "source": [
        "#Dataframe info\n",
        "results.info()"
      ],
      "execution_count": 173,
      "outputs": [
        {
          "output_type": "stream",
          "text": [
            "<class 'pandas.core.frame.DataFrame'>\n",
            "RangeIndex: 40839 entries, 0 to 40838\n",
            "Data columns (total 9 columns):\n",
            " #   Column      Non-Null Count  Dtype \n",
            "---  ------      --------------  ----- \n",
            " 0   date        40839 non-null  object\n",
            " 1   home_team   40839 non-null  object\n",
            " 2   away_team   40839 non-null  object\n",
            " 3   home_score  40839 non-null  int64 \n",
            " 4   away_score  40839 non-null  int64 \n",
            " 5   tournament  40839 non-null  object\n",
            " 6   city        40839 non-null  object\n",
            " 7   country     40839 non-null  object\n",
            " 8   neutral     40839 non-null  bool  \n",
            "dtypes: bool(1), int64(2), object(6)\n",
            "memory usage: 2.5+ MB\n"
          ],
          "name": "stdout"
        }
      ]
    },
    {
      "cell_type": "markdown",
      "metadata": {
        "id": "BQoniybvkcB7"
      },
      "source": [
        "Date names and formats in the two datasets are different. I will rename and give both same formats.\n"
      ]
    },
    {
      "cell_type": "code",
      "metadata": {
        "id": "lQa6ut9vkapG"
      },
      "source": [
        "# Renaming the rank_date column\n",
        "#\n",
        "ranking.rank_date = ranking.rename({'rank_date': 'date'}, axis = 1, inplace = True)"
      ],
      "execution_count": 174,
      "outputs": []
    },
    {
      "cell_type": "code",
      "metadata": {
        "id": "8fVuQStkoqEG"
      },
      "source": [
        "# Changing the date columns to be uniform in both dataframes.\n",
        "#\n",
        "results.date = results.date.apply(lambda x: x.replace('/', '-'))\n",
        "ranking.date = ranking.date.apply(lambda x: x.replace('/', '-'))"
      ],
      "execution_count": 175,
      "outputs": []
    },
    {
      "cell_type": "markdown",
      "metadata": {
        "id": "rZddZ6_AlLq2"
      },
      "source": [
        "The date columns in both data sets are object data type(string). I will change to datatime type.\n"
      ]
    },
    {
      "cell_type": "code",
      "metadata": {
        "id": "-Gh2mifqo0pi"
      },
      "source": [
        "# Changing the date columns to datetime objects\n",
        "#\n",
        "ranking.date = pd.to_datetime(ranking.date)\n",
        "results.date = pd.to_datetime(results.date)\n"
      ],
      "execution_count": 176,
      "outputs": []
    },
    {
      "cell_type": "markdown",
      "metadata": {
        "id": "JrQbKXbZliC0"
      },
      "source": [
        "To merge rankings and results dataframes, the dates need to be in the same format. \n",
        "\n",
        "These were also done in different months of diverse years. \n",
        "\n",
        "Merging will be done based on month and year\n"
      ]
    },
    {
      "cell_type": "code",
      "metadata": {
        "id": "dsSgUbZhl7IH"
      },
      "source": [
        "# Creating a year and month column from the datetime object\n",
        "#\n",
        "ranking['year'] = ranking.date.dt.year\n",
        "results['year'] = results.date.dt.year\n",
        "\n",
        "ranking['month'] = ranking.date.dt.month\n",
        "results['month'] = ranking.date.dt.month"
      ],
      "execution_count": 177,
      "outputs": []
    },
    {
      "cell_type": "code",
      "metadata": {
        "id": "psMGYL_ro7D2",
        "colab": {
          "base_uri": "https://localhost:8080/"
        },
        "outputId": "3fa9fa33-ac4f-4e33-a012-4d0a873d37ba"
      },
      "source": [
        "# Checking the unique years in the ranking dataset\n",
        "#\n",
        "ranking.year.unique()"
      ],
      "execution_count": 178,
      "outputs": [
        {
          "output_type": "execute_result",
          "data": {
            "text/plain": [
              "array([1993, 1994, 1995, 1996, 1997, 1998, 1999, 2000, 2001, 2002, 2003,\n",
              "       2004, 2005, 2006, 2007, 2008, 2009, 2010, 2011, 2012, 2013, 2014,\n",
              "       2015, 2016, 2017, 2018])"
            ]
          },
          "metadata": {
            "tags": []
          },
          "execution_count": 178
        }
      ]
    },
    {
      "cell_type": "code",
      "metadata": {
        "id": "vKhOO9Gko8Eg",
        "colab": {
          "base_uri": "https://localhost:8080/"
        },
        "outputId": "2e76f01a-9c9f-46a6-811f-dc8b57811ad1"
      },
      "source": [
        "# Checking the unique years in the results dataset\n",
        "#\n",
        "results.year.unique()"
      ],
      "execution_count": 179,
      "outputs": [
        {
          "output_type": "execute_result",
          "data": {
            "text/plain": [
              "array([1872, 1873, 1874, 1875, 1876, 1877, 1878, 1879, 1880, 1881, 1882,\n",
              "       1883, 1884, 1885, 1886, 1887, 1888, 1889, 1890, 1891, 1892, 1893,\n",
              "       1894, 1895, 1896, 1897, 1898, 1899, 1900, 1901, 1902, 1903, 1904,\n",
              "       1905, 1906, 1907, 1908, 1909, 1910, 1911, 1912, 1913, 1914, 1915,\n",
              "       1916, 1917, 1918, 1919, 1920, 1921, 1922, 1923, 1924, 1925, 1926,\n",
              "       1927, 1928, 1929, 1930, 1931, 1932, 1933, 1934, 1935, 1936, 1937,\n",
              "       1938, 1939, 1940, 1941, 1942, 1943, 1944, 1945, 1946, 1947, 1948,\n",
              "       1949, 1950, 1951, 1952, 1953, 1954, 1955, 1956, 1957, 1958, 1959,\n",
              "       1960, 1961, 1962, 1963, 1964, 1965, 1966, 1967, 1968, 1969, 1970,\n",
              "       1971, 1972, 1973, 1974, 1975, 1976, 1977, 1978, 1979, 1980, 1981,\n",
              "       1982, 1983, 1984, 1985, 1986, 1987, 1988, 1989, 1990, 1991, 1992,\n",
              "       1993, 1994, 1995, 1996, 1997, 1998, 1999, 2000, 2001, 2002, 2003,\n",
              "       2004, 2005, 2006, 2007, 2008, 2009, 2010, 2011, 2012, 2013, 2014,\n",
              "       2015, 2016, 2017, 2018, 2019])"
            ]
          },
          "metadata": {
            "tags": []
          },
          "execution_count": 179
        }
      ]
    },
    {
      "cell_type": "markdown",
      "metadata": {
        "id": "eRscVHtyn0SD"
      },
      "source": [
        "The results dataset has information from 1872 to 2019.\n",
        "The rankings dataset has information from 1993 to 2018.\n",
        "This will have a number of NaN in the years there were no rankings.\n",
        "\n",
        "Merging the two data set on both month and year"
      ]
    },
    {
      "cell_type": "code",
      "metadata": {
        "id": "1cqDrt3Oo62G",
        "colab": {
          "base_uri": "https://localhost:8080/",
          "height": 305
        },
        "outputId": "df8ba54c-7f46-4028-ccdd-7ce260a046c2"
      },
      "source": [
        "# Merging the results dataframe to the ranking dataframe on month and year\n",
        "#\n",
        "merged_df= pd.merge(results, ranking, how = 'left', left_on = ['year', 'month'], right_on = ['year', 'month'])\n",
        "merged_df.head()"
      ],
      "execution_count": 180,
      "outputs": [
        {
          "output_type": "execute_result",
          "data": {
            "text/html": [
              "<div>\n",
              "<style scoped>\n",
              "    .dataframe tbody tr th:only-of-type {\n",
              "        vertical-align: middle;\n",
              "    }\n",
              "\n",
              "    .dataframe tbody tr th {\n",
              "        vertical-align: top;\n",
              "    }\n",
              "\n",
              "    .dataframe thead th {\n",
              "        text-align: right;\n",
              "    }\n",
              "</style>\n",
              "<table border=\"1\" class=\"dataframe\">\n",
              "  <thead>\n",
              "    <tr style=\"text-align: right;\">\n",
              "      <th></th>\n",
              "      <th>date_x</th>\n",
              "      <th>home_team</th>\n",
              "      <th>away_team</th>\n",
              "      <th>home_score</th>\n",
              "      <th>away_score</th>\n",
              "      <th>tournament</th>\n",
              "      <th>city</th>\n",
              "      <th>country</th>\n",
              "      <th>neutral</th>\n",
              "      <th>year</th>\n",
              "      <th>month</th>\n",
              "      <th>rank</th>\n",
              "      <th>country_full</th>\n",
              "      <th>country_abrv</th>\n",
              "      <th>total_points</th>\n",
              "      <th>previous_points</th>\n",
              "      <th>rank_change</th>\n",
              "      <th>cur_year_avg</th>\n",
              "      <th>cur_year_avg_weighted</th>\n",
              "      <th>last_year_avg</th>\n",
              "      <th>last_year_avg_weighted</th>\n",
              "      <th>two_year_ago_avg</th>\n",
              "      <th>two_year_ago_weighted</th>\n",
              "      <th>three_year_ago_avg</th>\n",
              "      <th>three_year_ago_weighted</th>\n",
              "      <th>confederation</th>\n",
              "      <th>date_y</th>\n",
              "    </tr>\n",
              "  </thead>\n",
              "  <tbody>\n",
              "    <tr>\n",
              "      <th>0</th>\n",
              "      <td>1872-11-30</td>\n",
              "      <td>Scotland</td>\n",
              "      <td>England</td>\n",
              "      <td>0</td>\n",
              "      <td>0</td>\n",
              "      <td>Friendly</td>\n",
              "      <td>Glasgow</td>\n",
              "      <td>Scotland</td>\n",
              "      <td>False</td>\n",
              "      <td>1872</td>\n",
              "      <td>8</td>\n",
              "      <td>NaN</td>\n",
              "      <td>NaN</td>\n",
              "      <td>NaN</td>\n",
              "      <td>NaN</td>\n",
              "      <td>NaN</td>\n",
              "      <td>NaN</td>\n",
              "      <td>NaN</td>\n",
              "      <td>NaN</td>\n",
              "      <td>NaN</td>\n",
              "      <td>NaN</td>\n",
              "      <td>NaN</td>\n",
              "      <td>NaN</td>\n",
              "      <td>NaN</td>\n",
              "      <td>NaN</td>\n",
              "      <td>NaN</td>\n",
              "      <td>NaT</td>\n",
              "    </tr>\n",
              "    <tr>\n",
              "      <th>1</th>\n",
              "      <td>1873-03-08</td>\n",
              "      <td>England</td>\n",
              "      <td>Scotland</td>\n",
              "      <td>4</td>\n",
              "      <td>2</td>\n",
              "      <td>Friendly</td>\n",
              "      <td>London</td>\n",
              "      <td>England</td>\n",
              "      <td>False</td>\n",
              "      <td>1873</td>\n",
              "      <td>8</td>\n",
              "      <td>NaN</td>\n",
              "      <td>NaN</td>\n",
              "      <td>NaN</td>\n",
              "      <td>NaN</td>\n",
              "      <td>NaN</td>\n",
              "      <td>NaN</td>\n",
              "      <td>NaN</td>\n",
              "      <td>NaN</td>\n",
              "      <td>NaN</td>\n",
              "      <td>NaN</td>\n",
              "      <td>NaN</td>\n",
              "      <td>NaN</td>\n",
              "      <td>NaN</td>\n",
              "      <td>NaN</td>\n",
              "      <td>NaN</td>\n",
              "      <td>NaT</td>\n",
              "    </tr>\n",
              "    <tr>\n",
              "      <th>2</th>\n",
              "      <td>1874-03-07</td>\n",
              "      <td>Scotland</td>\n",
              "      <td>England</td>\n",
              "      <td>2</td>\n",
              "      <td>1</td>\n",
              "      <td>Friendly</td>\n",
              "      <td>Glasgow</td>\n",
              "      <td>Scotland</td>\n",
              "      <td>False</td>\n",
              "      <td>1874</td>\n",
              "      <td>8</td>\n",
              "      <td>NaN</td>\n",
              "      <td>NaN</td>\n",
              "      <td>NaN</td>\n",
              "      <td>NaN</td>\n",
              "      <td>NaN</td>\n",
              "      <td>NaN</td>\n",
              "      <td>NaN</td>\n",
              "      <td>NaN</td>\n",
              "      <td>NaN</td>\n",
              "      <td>NaN</td>\n",
              "      <td>NaN</td>\n",
              "      <td>NaN</td>\n",
              "      <td>NaN</td>\n",
              "      <td>NaN</td>\n",
              "      <td>NaN</td>\n",
              "      <td>NaT</td>\n",
              "    </tr>\n",
              "    <tr>\n",
              "      <th>3</th>\n",
              "      <td>1875-03-06</td>\n",
              "      <td>England</td>\n",
              "      <td>Scotland</td>\n",
              "      <td>2</td>\n",
              "      <td>2</td>\n",
              "      <td>Friendly</td>\n",
              "      <td>London</td>\n",
              "      <td>England</td>\n",
              "      <td>False</td>\n",
              "      <td>1875</td>\n",
              "      <td>8</td>\n",
              "      <td>NaN</td>\n",
              "      <td>NaN</td>\n",
              "      <td>NaN</td>\n",
              "      <td>NaN</td>\n",
              "      <td>NaN</td>\n",
              "      <td>NaN</td>\n",
              "      <td>NaN</td>\n",
              "      <td>NaN</td>\n",
              "      <td>NaN</td>\n",
              "      <td>NaN</td>\n",
              "      <td>NaN</td>\n",
              "      <td>NaN</td>\n",
              "      <td>NaN</td>\n",
              "      <td>NaN</td>\n",
              "      <td>NaN</td>\n",
              "      <td>NaT</td>\n",
              "    </tr>\n",
              "    <tr>\n",
              "      <th>4</th>\n",
              "      <td>1876-03-04</td>\n",
              "      <td>Scotland</td>\n",
              "      <td>England</td>\n",
              "      <td>3</td>\n",
              "      <td>0</td>\n",
              "      <td>Friendly</td>\n",
              "      <td>Glasgow</td>\n",
              "      <td>Scotland</td>\n",
              "      <td>False</td>\n",
              "      <td>1876</td>\n",
              "      <td>8</td>\n",
              "      <td>NaN</td>\n",
              "      <td>NaN</td>\n",
              "      <td>NaN</td>\n",
              "      <td>NaN</td>\n",
              "      <td>NaN</td>\n",
              "      <td>NaN</td>\n",
              "      <td>NaN</td>\n",
              "      <td>NaN</td>\n",
              "      <td>NaN</td>\n",
              "      <td>NaN</td>\n",
              "      <td>NaN</td>\n",
              "      <td>NaN</td>\n",
              "      <td>NaN</td>\n",
              "      <td>NaN</td>\n",
              "      <td>NaN</td>\n",
              "      <td>NaT</td>\n",
              "    </tr>\n",
              "  </tbody>\n",
              "</table>\n",
              "</div>"
            ],
            "text/plain": [
              "      date_x home_team away_team  ...  three_year_ago_weighted  confederation date_y\n",
              "0 1872-11-30  Scotland   England  ...                      NaN            NaN    NaT\n",
              "1 1873-03-08   England  Scotland  ...                      NaN            NaN    NaT\n",
              "2 1874-03-07  Scotland   England  ...                      NaN            NaN    NaT\n",
              "3 1875-03-06   England  Scotland  ...                      NaN            NaN    NaT\n",
              "4 1876-03-04  Scotland   England  ...                      NaN            NaN    NaT\n",
              "\n",
              "[5 rows x 27 columns]"
            ]
          },
          "metadata": {
            "tags": []
          },
          "execution_count": 180
        }
      ]
    },
    {
      "cell_type": "code",
      "metadata": {
        "id": "wwL-iSHvpHTq",
        "colab": {
          "base_uri": "https://localhost:8080/",
          "height": 305
        },
        "outputId": "71769651-53c3-487c-b911-14c0316a7400"
      },
      "source": [
        "# Ranking of home team\n",
        "#\n",
        "home_df = merged[merged.home_team == merged.country_full]\n",
        "\n",
        "home_df.head()"
      ],
      "execution_count": 181,
      "outputs": [
        {
          "output_type": "execute_result",
          "data": {
            "text/html": [
              "<div>\n",
              "<style scoped>\n",
              "    .dataframe tbody tr th:only-of-type {\n",
              "        vertical-align: middle;\n",
              "    }\n",
              "\n",
              "    .dataframe tbody tr th {\n",
              "        vertical-align: top;\n",
              "    }\n",
              "\n",
              "    .dataframe thead th {\n",
              "        text-align: right;\n",
              "    }\n",
              "</style>\n",
              "<table border=\"1\" class=\"dataframe\">\n",
              "  <thead>\n",
              "    <tr style=\"text-align: right;\">\n",
              "      <th></th>\n",
              "      <th>date_x</th>\n",
              "      <th>home_team</th>\n",
              "      <th>away_team</th>\n",
              "      <th>home_score</th>\n",
              "      <th>away_score</th>\n",
              "      <th>tournament</th>\n",
              "      <th>city</th>\n",
              "      <th>country</th>\n",
              "      <th>neutral</th>\n",
              "      <th>year</th>\n",
              "      <th>month</th>\n",
              "      <th>rank</th>\n",
              "      <th>country_full</th>\n",
              "      <th>country_abrv</th>\n",
              "      <th>total_points</th>\n",
              "      <th>previous_points</th>\n",
              "      <th>rank_change</th>\n",
              "      <th>cur_year_avg</th>\n",
              "      <th>cur_year_avg_weighted</th>\n",
              "      <th>last_year_avg</th>\n",
              "      <th>last_year_avg_weighted</th>\n",
              "      <th>two_year_ago_avg</th>\n",
              "      <th>two_year_ago_weighted</th>\n",
              "      <th>three_year_ago_avg</th>\n",
              "      <th>three_year_ago_weighted</th>\n",
              "      <th>confederation</th>\n",
              "      <th>date_y</th>\n",
              "    </tr>\n",
              "  </thead>\n",
              "  <tbody>\n",
              "    <tr>\n",
              "      <th>18192</th>\n",
              "      <td>1994-01-02</td>\n",
              "      <td>Barbados</td>\n",
              "      <td>Grenada</td>\n",
              "      <td>0</td>\n",
              "      <td>0</td>\n",
              "      <td>Friendly</td>\n",
              "      <td>Bridgetown</td>\n",
              "      <td>Barbados</td>\n",
              "      <td>False</td>\n",
              "      <td>1994</td>\n",
              "      <td>4</td>\n",
              "      <td>99.0</td>\n",
              "      <td>Barbados</td>\n",
              "      <td>BRB</td>\n",
              "      <td>0.0</td>\n",
              "      <td>13.0</td>\n",
              "      <td>2.0</td>\n",
              "      <td>0.0</td>\n",
              "      <td>0.0</td>\n",
              "      <td>0.0</td>\n",
              "      <td>0.0</td>\n",
              "      <td>0.0</td>\n",
              "      <td>0.0</td>\n",
              "      <td>0.0</td>\n",
              "      <td>0.0</td>\n",
              "      <td>CONCACAF</td>\n",
              "      <td>1994-04-19</td>\n",
              "    </tr>\n",
              "    <tr>\n",
              "      <th>18291</th>\n",
              "      <td>1994-01-02</td>\n",
              "      <td>Ghana</td>\n",
              "      <td>Egypt</td>\n",
              "      <td>2</td>\n",
              "      <td>1</td>\n",
              "      <td>Friendly</td>\n",
              "      <td>Accra</td>\n",
              "      <td>Ghana</td>\n",
              "      <td>False</td>\n",
              "      <td>1994</td>\n",
              "      <td>4</td>\n",
              "      <td>29.0</td>\n",
              "      <td>Ghana</td>\n",
              "      <td>GHA</td>\n",
              "      <td>0.0</td>\n",
              "      <td>41.0</td>\n",
              "      <td>2.0</td>\n",
              "      <td>0.0</td>\n",
              "      <td>0.0</td>\n",
              "      <td>0.0</td>\n",
              "      <td>0.0</td>\n",
              "      <td>0.0</td>\n",
              "      <td>0.0</td>\n",
              "      <td>0.0</td>\n",
              "      <td>0.0</td>\n",
              "      <td>CAF</td>\n",
              "      <td>1994-04-19</td>\n",
              "    </tr>\n",
              "    <tr>\n",
              "      <th>18479</th>\n",
              "      <td>1994-01-05</td>\n",
              "      <td>Mali</td>\n",
              "      <td>Burkina Faso</td>\n",
              "      <td>1</td>\n",
              "      <td>1</td>\n",
              "      <td>Friendly</td>\n",
              "      <td>Bamako</td>\n",
              "      <td>Mali</td>\n",
              "      <td>False</td>\n",
              "      <td>1994</td>\n",
              "      <td>4</td>\n",
              "      <td>48.0</td>\n",
              "      <td>Mali</td>\n",
              "      <td>MLI</td>\n",
              "      <td>0.0</td>\n",
              "      <td>31.0</td>\n",
              "      <td>9.0</td>\n",
              "      <td>0.0</td>\n",
              "      <td>0.0</td>\n",
              "      <td>0.0</td>\n",
              "      <td>0.0</td>\n",
              "      <td>0.0</td>\n",
              "      <td>0.0</td>\n",
              "      <td>0.0</td>\n",
              "      <td>0.0</td>\n",
              "      <td>CAF</td>\n",
              "      <td>1994-04-19</td>\n",
              "    </tr>\n",
              "    <tr>\n",
              "      <th>18747</th>\n",
              "      <td>1994-01-09</td>\n",
              "      <td>Mauritania</td>\n",
              "      <td>Mali</td>\n",
              "      <td>1</td>\n",
              "      <td>3</td>\n",
              "      <td>Friendly</td>\n",
              "      <td>Nouakchott</td>\n",
              "      <td>Mauritania</td>\n",
              "      <td>False</td>\n",
              "      <td>1994</td>\n",
              "      <td>4</td>\n",
              "      <td>147.0</td>\n",
              "      <td>Mauritania</td>\n",
              "      <td>MTN</td>\n",
              "      <td>0.0</td>\n",
              "      <td>3.0</td>\n",
              "      <td>-1.0</td>\n",
              "      <td>0.0</td>\n",
              "      <td>0.0</td>\n",
              "      <td>0.0</td>\n",
              "      <td>0.0</td>\n",
              "      <td>0.0</td>\n",
              "      <td>0.0</td>\n",
              "      <td>0.0</td>\n",
              "      <td>0.0</td>\n",
              "      <td>CAF</td>\n",
              "      <td>1994-04-19</td>\n",
              "    </tr>\n",
              "    <tr>\n",
              "      <th>18838</th>\n",
              "      <td>1994-01-11</td>\n",
              "      <td>Thailand</td>\n",
              "      <td>Nigeria</td>\n",
              "      <td>1</td>\n",
              "      <td>1</td>\n",
              "      <td>Friendly</td>\n",
              "      <td>Bangkok</td>\n",
              "      <td>Thailand</td>\n",
              "      <td>False</td>\n",
              "      <td>1994</td>\n",
              "      <td>4</td>\n",
              "      <td>69.0</td>\n",
              "      <td>Thailand</td>\n",
              "      <td>THA</td>\n",
              "      <td>0.0</td>\n",
              "      <td>25.0</td>\n",
              "      <td>1.0</td>\n",
              "      <td>0.0</td>\n",
              "      <td>0.0</td>\n",
              "      <td>0.0</td>\n",
              "      <td>0.0</td>\n",
              "      <td>0.0</td>\n",
              "      <td>0.0</td>\n",
              "      <td>0.0</td>\n",
              "      <td>0.0</td>\n",
              "      <td>AFC</td>\n",
              "      <td>1994-04-19</td>\n",
              "    </tr>\n",
              "  </tbody>\n",
              "</table>\n",
              "</div>"
            ],
            "text/plain": [
              "          date_x   home_team  ... confederation     date_y\n",
              "18192 1994-01-02    Barbados  ...      CONCACAF 1994-04-19\n",
              "18291 1994-01-02       Ghana  ...           CAF 1994-04-19\n",
              "18479 1994-01-05        Mali  ...           CAF 1994-04-19\n",
              "18747 1994-01-09  Mauritania  ...           CAF 1994-04-19\n",
              "18838 1994-01-11    Thailand  ...           AFC 1994-04-19\n",
              "\n",
              "[5 rows x 27 columns]"
            ]
          },
          "metadata": {
            "tags": []
          },
          "execution_count": 181
        }
      ]
    },
    {
      "cell_type": "code",
      "metadata": {
        "id": "p56fcoVypHG_",
        "colab": {
          "base_uri": "https://localhost:8080/"
        },
        "outputId": "54952e7c-f674-437a-8a25-6dbfbdf83225"
      },
      "source": [
        "#Confirm columns to be renamed\n",
        "#\n",
        "home_df.columns[11:-2]"
      ],
      "execution_count": 182,
      "outputs": [
        {
          "output_type": "execute_result",
          "data": {
            "text/plain": [
              "Index(['rank', 'country_full', 'country_abrv', 'total_points',\n",
              "       'previous_points', 'rank_change', 'cur_year_avg',\n",
              "       'cur_year_avg_weighted', 'last_year_avg', 'last_year_avg_weighted',\n",
              "       'two_year_ago_avg', 'two_year_ago_weighted', 'three_year_ago_avg',\n",
              "       'three_year_ago_weighted'],\n",
              "      dtype='object')"
            ]
          },
          "metadata": {
            "tags": []
          },
          "execution_count": 182
        }
      ]
    },
    {
      "cell_type": "code",
      "metadata": {
        "id": "KKFIpUpAqfYl",
        "colab": {
          "base_uri": "https://localhost:8080/"
        },
        "outputId": "5fbca4e5-9607-49a7-e5d3-e666f37920bf"
      },
      "source": [
        "# Renaming the selected home_df columns\n",
        "for x, y in zip(home_df.columns[11:-2], home_df.columns[11:-2]):\n",
        "  home_df.rename(columns = {x: y + '_home'}, inplace = True)\n",
        "  \n",
        "# Preview\n",
        "home_df.columns[11:-2]"
      ],
      "execution_count": 183,
      "outputs": [
        {
          "output_type": "execute_result",
          "data": {
            "text/plain": [
              "Index(['rank_home', 'country_full_home', 'country_abrv_home',\n",
              "       'total_points_home', 'previous_points_home', 'rank_change_home',\n",
              "       'cur_year_avg_home', 'cur_year_avg_weighted_home', 'last_year_avg_home',\n",
              "       'last_year_avg_weighted_home', 'two_year_ago_avg_home',\n",
              "       'two_year_ago_weighted_home', 'three_year_ago_avg_home',\n",
              "       'three_year_ago_weighted_home'],\n",
              "      dtype='object')"
            ]
          },
          "metadata": {
            "tags": []
          },
          "execution_count": 183
        }
      ]
    },
    {
      "cell_type": "code",
      "metadata": {
        "id": "pEAJ3Jj4qfUd",
        "colab": {
          "base_uri": "https://localhost:8080/",
          "height": 305
        },
        "outputId": "b25985be-5ea3-46ab-d940-ab94fc4ccc4a"
      },
      "source": [
        "# Away team ranking details \n",
        "away_df = merged[merged.away_team == merged.country_full]\n",
        "away_df.head()"
      ],
      "execution_count": 184,
      "outputs": [
        {
          "output_type": "execute_result",
          "data": {
            "text/html": [
              "<div>\n",
              "<style scoped>\n",
              "    .dataframe tbody tr th:only-of-type {\n",
              "        vertical-align: middle;\n",
              "    }\n",
              "\n",
              "    .dataframe tbody tr th {\n",
              "        vertical-align: top;\n",
              "    }\n",
              "\n",
              "    .dataframe thead th {\n",
              "        text-align: right;\n",
              "    }\n",
              "</style>\n",
              "<table border=\"1\" class=\"dataframe\">\n",
              "  <thead>\n",
              "    <tr style=\"text-align: right;\">\n",
              "      <th></th>\n",
              "      <th>date_x</th>\n",
              "      <th>home_team</th>\n",
              "      <th>away_team</th>\n",
              "      <th>home_score</th>\n",
              "      <th>away_score</th>\n",
              "      <th>tournament</th>\n",
              "      <th>city</th>\n",
              "      <th>country</th>\n",
              "      <th>neutral</th>\n",
              "      <th>year</th>\n",
              "      <th>month</th>\n",
              "      <th>rank</th>\n",
              "      <th>country_full</th>\n",
              "      <th>country_abrv</th>\n",
              "      <th>total_points</th>\n",
              "      <th>previous_points</th>\n",
              "      <th>rank_change</th>\n",
              "      <th>cur_year_avg</th>\n",
              "      <th>cur_year_avg_weighted</th>\n",
              "      <th>last_year_avg</th>\n",
              "      <th>last_year_avg_weighted</th>\n",
              "      <th>two_year_ago_avg</th>\n",
              "      <th>two_year_ago_weighted</th>\n",
              "      <th>three_year_ago_avg</th>\n",
              "      <th>three_year_ago_weighted</th>\n",
              "      <th>confederation</th>\n",
              "      <th>date_y</th>\n",
              "    </tr>\n",
              "  </thead>\n",
              "  <tbody>\n",
              "    <tr>\n",
              "      <th>18224</th>\n",
              "      <td>1994-01-02</td>\n",
              "      <td>Barbados</td>\n",
              "      <td>Grenada</td>\n",
              "      <td>0</td>\n",
              "      <td>0</td>\n",
              "      <td>Friendly</td>\n",
              "      <td>Bridgetown</td>\n",
              "      <td>Barbados</td>\n",
              "      <td>False</td>\n",
              "      <td>1994</td>\n",
              "      <td>4</td>\n",
              "      <td>131.0</td>\n",
              "      <td>Grenada</td>\n",
              "      <td>GRN</td>\n",
              "      <td>0.0</td>\n",
              "      <td>7.0</td>\n",
              "      <td>1.0</td>\n",
              "      <td>0.0</td>\n",
              "      <td>0.0</td>\n",
              "      <td>0.0</td>\n",
              "      <td>0.0</td>\n",
              "      <td>0.0</td>\n",
              "      <td>0.0</td>\n",
              "      <td>0.0</td>\n",
              "      <td>0.0</td>\n",
              "      <td>CONCACAF</td>\n",
              "      <td>1994-04-19</td>\n",
              "    </tr>\n",
              "    <tr>\n",
              "      <th>18286</th>\n",
              "      <td>1994-01-02</td>\n",
              "      <td>Ghana</td>\n",
              "      <td>Egypt</td>\n",
              "      <td>2</td>\n",
              "      <td>1</td>\n",
              "      <td>Friendly</td>\n",
              "      <td>Accra</td>\n",
              "      <td>Ghana</td>\n",
              "      <td>False</td>\n",
              "      <td>1994</td>\n",
              "      <td>4</td>\n",
              "      <td>24.0</td>\n",
              "      <td>Egypt</td>\n",
              "      <td>EGY</td>\n",
              "      <td>0.0</td>\n",
              "      <td>44.0</td>\n",
              "      <td>1.0</td>\n",
              "      <td>0.0</td>\n",
              "      <td>0.0</td>\n",
              "      <td>0.0</td>\n",
              "      <td>0.0</td>\n",
              "      <td>0.0</td>\n",
              "      <td>0.0</td>\n",
              "      <td>0.0</td>\n",
              "      <td>0.0</td>\n",
              "      <td>CAF</td>\n",
              "      <td>1994-04-19</td>\n",
              "    </tr>\n",
              "    <tr>\n",
              "      <th>18532</th>\n",
              "      <td>1994-01-05</td>\n",
              "      <td>Mali</td>\n",
              "      <td>Burkina Faso</td>\n",
              "      <td>1</td>\n",
              "      <td>1</td>\n",
              "      <td>Friendly</td>\n",
              "      <td>Bamako</td>\n",
              "      <td>Mali</td>\n",
              "      <td>False</td>\n",
              "      <td>1994</td>\n",
              "      <td>4</td>\n",
              "      <td>101.0</td>\n",
              "      <td>Burkina Faso</td>\n",
              "      <td>BFA</td>\n",
              "      <td>0.0</td>\n",
              "      <td>12.0</td>\n",
              "      <td>3.0</td>\n",
              "      <td>0.0</td>\n",
              "      <td>0.0</td>\n",
              "      <td>0.0</td>\n",
              "      <td>0.0</td>\n",
              "      <td>0.0</td>\n",
              "      <td>0.0</td>\n",
              "      <td>0.0</td>\n",
              "      <td>0.0</td>\n",
              "      <td>CAF</td>\n",
              "      <td>1994-04-19</td>\n",
              "    </tr>\n",
              "    <tr>\n",
              "      <th>18648</th>\n",
              "      <td>1994-01-09</td>\n",
              "      <td>Mauritania</td>\n",
              "      <td>Mali</td>\n",
              "      <td>1</td>\n",
              "      <td>3</td>\n",
              "      <td>Friendly</td>\n",
              "      <td>Nouakchott</td>\n",
              "      <td>Mauritania</td>\n",
              "      <td>False</td>\n",
              "      <td>1994</td>\n",
              "      <td>4</td>\n",
              "      <td>48.0</td>\n",
              "      <td>Mali</td>\n",
              "      <td>MLI</td>\n",
              "      <td>0.0</td>\n",
              "      <td>31.0</td>\n",
              "      <td>9.0</td>\n",
              "      <td>0.0</td>\n",
              "      <td>0.0</td>\n",
              "      <td>0.0</td>\n",
              "      <td>0.0</td>\n",
              "      <td>0.0</td>\n",
              "      <td>0.0</td>\n",
              "      <td>0.0</td>\n",
              "      <td>0.0</td>\n",
              "      <td>CAF</td>\n",
              "      <td>1994-04-19</td>\n",
              "    </tr>\n",
              "    <tr>\n",
              "      <th>18774</th>\n",
              "      <td>1994-01-11</td>\n",
              "      <td>Thailand</td>\n",
              "      <td>Nigeria</td>\n",
              "      <td>1</td>\n",
              "      <td>1</td>\n",
              "      <td>Friendly</td>\n",
              "      <td>Bangkok</td>\n",
              "      <td>Thailand</td>\n",
              "      <td>False</td>\n",
              "      <td>1994</td>\n",
              "      <td>4</td>\n",
              "      <td>5.0</td>\n",
              "      <td>Nigeria</td>\n",
              "      <td>NGA</td>\n",
              "      <td>0.0</td>\n",
              "      <td>49.0</td>\n",
              "      <td>13.0</td>\n",
              "      <td>0.0</td>\n",
              "      <td>0.0</td>\n",
              "      <td>0.0</td>\n",
              "      <td>0.0</td>\n",
              "      <td>0.0</td>\n",
              "      <td>0.0</td>\n",
              "      <td>0.0</td>\n",
              "      <td>0.0</td>\n",
              "      <td>CAF</td>\n",
              "      <td>1994-04-19</td>\n",
              "    </tr>\n",
              "  </tbody>\n",
              "</table>\n",
              "</div>"
            ],
            "text/plain": [
              "          date_x   home_team  ... confederation     date_y\n",
              "18224 1994-01-02    Barbados  ...      CONCACAF 1994-04-19\n",
              "18286 1994-01-02       Ghana  ...           CAF 1994-04-19\n",
              "18532 1994-01-05        Mali  ...           CAF 1994-04-19\n",
              "18648 1994-01-09  Mauritania  ...           CAF 1994-04-19\n",
              "18774 1994-01-11    Thailand  ...           CAF 1994-04-19\n",
              "\n",
              "[5 rows x 27 columns]"
            ]
          },
          "metadata": {
            "tags": []
          },
          "execution_count": 184
        }
      ]
    },
    {
      "cell_type": "code",
      "metadata": {
        "id": "E-LqVsK3qfNj",
        "colab": {
          "base_uri": "https://localhost:8080/"
        },
        "outputId": "19054a9a-59ca-4ae5-d46f-1dc13cf70867"
      },
      "source": [
        "# Columns to be renamed in the away_merged dataframe\n",
        "#\n",
        "away_df.columns[11:-2]"
      ],
      "execution_count": 185,
      "outputs": [
        {
          "output_type": "execute_result",
          "data": {
            "text/plain": [
              "Index(['rank', 'country_full', 'country_abrv', 'total_points',\n",
              "       'previous_points', 'rank_change', 'cur_year_avg',\n",
              "       'cur_year_avg_weighted', 'last_year_avg', 'last_year_avg_weighted',\n",
              "       'two_year_ago_avg', 'two_year_ago_weighted', 'three_year_ago_avg',\n",
              "       'three_year_ago_weighted'],\n",
              "      dtype='object')"
            ]
          },
          "metadata": {
            "tags": []
          },
          "execution_count": 185
        }
      ]
    },
    {
      "cell_type": "code",
      "metadata": {
        "id": "dDnHEQfvqfD5",
        "colab": {
          "base_uri": "https://localhost:8080/"
        },
        "outputId": "06aef760-5fed-4180-fca0-6cf4320256d8"
      },
      "source": [
        "# Renaming away_merged columns\n",
        "for x, y in zip(away_df.columns[11:-2], away_df.columns[11:-2]):\n",
        "  away_df.rename(columns = {x: y + '_away'}, inplace = True)\n",
        "  \n",
        "# Preview\n",
        "away_df.columns[11:-2]"
      ],
      "execution_count": 186,
      "outputs": [
        {
          "output_type": "execute_result",
          "data": {
            "text/plain": [
              "Index(['rank_away', 'country_full_away', 'country_abrv_away',\n",
              "       'total_points_away', 'previous_points_away', 'rank_change_away',\n",
              "       'cur_year_avg_away', 'cur_year_avg_weighted_away', 'last_year_avg_away',\n",
              "       'last_year_avg_weighted_away', 'two_year_ago_avg_away',\n",
              "       'two_year_ago_weighted_away', 'three_year_ago_avg_away',\n",
              "       'three_year_ago_weighted_away'],\n",
              "      dtype='object')"
            ]
          },
          "metadata": {
            "tags": []
          },
          "execution_count": 186
        }
      ]
    },
    {
      "cell_type": "code",
      "metadata": {
        "id": "xkTEyPOurp-T",
        "colab": {
          "base_uri": "https://localhost:8080/",
          "height": 237
        },
        "outputId": "0c73ceec-0de1-4770-b5a4-0ac4a6eaa6d0"
      },
      "source": [
        "# Select only the relevant columns in the away_merged dataframe\n",
        "#\n",
        "relevant_cols = list(away_df.columns[9:-2])\n",
        "relevant_cols.extend(['home_team', 'away_team'])\n",
        "\n",
        "away_df= away_df[relevant_cols]\n",
        "\n",
        "# Preview\n",
        "#\n",
        "away_df.head()"
      ],
      "execution_count": 187,
      "outputs": [
        {
          "output_type": "execute_result",
          "data": {
            "text/html": [
              "<div>\n",
              "<style scoped>\n",
              "    .dataframe tbody tr th:only-of-type {\n",
              "        vertical-align: middle;\n",
              "    }\n",
              "\n",
              "    .dataframe tbody tr th {\n",
              "        vertical-align: top;\n",
              "    }\n",
              "\n",
              "    .dataframe thead th {\n",
              "        text-align: right;\n",
              "    }\n",
              "</style>\n",
              "<table border=\"1\" class=\"dataframe\">\n",
              "  <thead>\n",
              "    <tr style=\"text-align: right;\">\n",
              "      <th></th>\n",
              "      <th>year</th>\n",
              "      <th>month</th>\n",
              "      <th>rank_away</th>\n",
              "      <th>country_full_away</th>\n",
              "      <th>country_abrv_away</th>\n",
              "      <th>total_points_away</th>\n",
              "      <th>previous_points_away</th>\n",
              "      <th>rank_change_away</th>\n",
              "      <th>cur_year_avg_away</th>\n",
              "      <th>cur_year_avg_weighted_away</th>\n",
              "      <th>last_year_avg_away</th>\n",
              "      <th>last_year_avg_weighted_away</th>\n",
              "      <th>two_year_ago_avg_away</th>\n",
              "      <th>two_year_ago_weighted_away</th>\n",
              "      <th>three_year_ago_avg_away</th>\n",
              "      <th>three_year_ago_weighted_away</th>\n",
              "      <th>home_team</th>\n",
              "      <th>away_team</th>\n",
              "    </tr>\n",
              "  </thead>\n",
              "  <tbody>\n",
              "    <tr>\n",
              "      <th>18224</th>\n",
              "      <td>1994</td>\n",
              "      <td>4</td>\n",
              "      <td>131.0</td>\n",
              "      <td>Grenada</td>\n",
              "      <td>GRN</td>\n",
              "      <td>0.0</td>\n",
              "      <td>7.0</td>\n",
              "      <td>1.0</td>\n",
              "      <td>0.0</td>\n",
              "      <td>0.0</td>\n",
              "      <td>0.0</td>\n",
              "      <td>0.0</td>\n",
              "      <td>0.0</td>\n",
              "      <td>0.0</td>\n",
              "      <td>0.0</td>\n",
              "      <td>0.0</td>\n",
              "      <td>Barbados</td>\n",
              "      <td>Grenada</td>\n",
              "    </tr>\n",
              "    <tr>\n",
              "      <th>18286</th>\n",
              "      <td>1994</td>\n",
              "      <td>4</td>\n",
              "      <td>24.0</td>\n",
              "      <td>Egypt</td>\n",
              "      <td>EGY</td>\n",
              "      <td>0.0</td>\n",
              "      <td>44.0</td>\n",
              "      <td>1.0</td>\n",
              "      <td>0.0</td>\n",
              "      <td>0.0</td>\n",
              "      <td>0.0</td>\n",
              "      <td>0.0</td>\n",
              "      <td>0.0</td>\n",
              "      <td>0.0</td>\n",
              "      <td>0.0</td>\n",
              "      <td>0.0</td>\n",
              "      <td>Ghana</td>\n",
              "      <td>Egypt</td>\n",
              "    </tr>\n",
              "    <tr>\n",
              "      <th>18532</th>\n",
              "      <td>1994</td>\n",
              "      <td>4</td>\n",
              "      <td>101.0</td>\n",
              "      <td>Burkina Faso</td>\n",
              "      <td>BFA</td>\n",
              "      <td>0.0</td>\n",
              "      <td>12.0</td>\n",
              "      <td>3.0</td>\n",
              "      <td>0.0</td>\n",
              "      <td>0.0</td>\n",
              "      <td>0.0</td>\n",
              "      <td>0.0</td>\n",
              "      <td>0.0</td>\n",
              "      <td>0.0</td>\n",
              "      <td>0.0</td>\n",
              "      <td>0.0</td>\n",
              "      <td>Mali</td>\n",
              "      <td>Burkina Faso</td>\n",
              "    </tr>\n",
              "    <tr>\n",
              "      <th>18648</th>\n",
              "      <td>1994</td>\n",
              "      <td>4</td>\n",
              "      <td>48.0</td>\n",
              "      <td>Mali</td>\n",
              "      <td>MLI</td>\n",
              "      <td>0.0</td>\n",
              "      <td>31.0</td>\n",
              "      <td>9.0</td>\n",
              "      <td>0.0</td>\n",
              "      <td>0.0</td>\n",
              "      <td>0.0</td>\n",
              "      <td>0.0</td>\n",
              "      <td>0.0</td>\n",
              "      <td>0.0</td>\n",
              "      <td>0.0</td>\n",
              "      <td>0.0</td>\n",
              "      <td>Mauritania</td>\n",
              "      <td>Mali</td>\n",
              "    </tr>\n",
              "    <tr>\n",
              "      <th>18774</th>\n",
              "      <td>1994</td>\n",
              "      <td>4</td>\n",
              "      <td>5.0</td>\n",
              "      <td>Nigeria</td>\n",
              "      <td>NGA</td>\n",
              "      <td>0.0</td>\n",
              "      <td>49.0</td>\n",
              "      <td>13.0</td>\n",
              "      <td>0.0</td>\n",
              "      <td>0.0</td>\n",
              "      <td>0.0</td>\n",
              "      <td>0.0</td>\n",
              "      <td>0.0</td>\n",
              "      <td>0.0</td>\n",
              "      <td>0.0</td>\n",
              "      <td>0.0</td>\n",
              "      <td>Thailand</td>\n",
              "      <td>Nigeria</td>\n",
              "    </tr>\n",
              "  </tbody>\n",
              "</table>\n",
              "</div>"
            ],
            "text/plain": [
              "       year  month  ...   home_team     away_team\n",
              "18224  1994      4  ...    Barbados       Grenada\n",
              "18286  1994      4  ...       Ghana         Egypt\n",
              "18532  1994      4  ...        Mali  Burkina Faso\n",
              "18648  1994      4  ...  Mauritania          Mali\n",
              "18774  1994      4  ...    Thailand       Nigeria\n",
              "\n",
              "[5 rows x 18 columns]"
            ]
          },
          "metadata": {
            "tags": []
          },
          "execution_count": 187
        }
      ]
    },
    {
      "cell_type": "code",
      "metadata": {
        "id": "dOlt8zZerpr9",
        "colab": {
          "base_uri": "https://localhost:8080/",
          "height": 305
        },
        "outputId": "3e18313c-6e43-46dd-9774-d225259da34f"
      },
      "source": [
        "# Merging dataframes to get a final one to use\n",
        "final_df = pd.merge(home_df, away_df, how = 'left' , left_on =['year', 'month', 'home_team', 'away_team'],\\\n",
        "                    right_on = ['year', 'month', 'home_team', 'away_team'])\n",
        "# Preview\n",
        "final_df.head()"
      ],
      "execution_count": 188,
      "outputs": [
        {
          "output_type": "execute_result",
          "data": {
            "text/html": [
              "<div>\n",
              "<style scoped>\n",
              "    .dataframe tbody tr th:only-of-type {\n",
              "        vertical-align: middle;\n",
              "    }\n",
              "\n",
              "    .dataframe tbody tr th {\n",
              "        vertical-align: top;\n",
              "    }\n",
              "\n",
              "    .dataframe thead th {\n",
              "        text-align: right;\n",
              "    }\n",
              "</style>\n",
              "<table border=\"1\" class=\"dataframe\">\n",
              "  <thead>\n",
              "    <tr style=\"text-align: right;\">\n",
              "      <th></th>\n",
              "      <th>date_x</th>\n",
              "      <th>home_team</th>\n",
              "      <th>away_team</th>\n",
              "      <th>home_score</th>\n",
              "      <th>away_score</th>\n",
              "      <th>tournament</th>\n",
              "      <th>city</th>\n",
              "      <th>country</th>\n",
              "      <th>neutral</th>\n",
              "      <th>year</th>\n",
              "      <th>month</th>\n",
              "      <th>rank_home</th>\n",
              "      <th>country_full_home</th>\n",
              "      <th>country_abrv_home</th>\n",
              "      <th>total_points_home</th>\n",
              "      <th>previous_points_home</th>\n",
              "      <th>rank_change_home</th>\n",
              "      <th>cur_year_avg_home</th>\n",
              "      <th>cur_year_avg_weighted_home</th>\n",
              "      <th>last_year_avg_home</th>\n",
              "      <th>last_year_avg_weighted_home</th>\n",
              "      <th>two_year_ago_avg_home</th>\n",
              "      <th>two_year_ago_weighted_home</th>\n",
              "      <th>three_year_ago_avg_home</th>\n",
              "      <th>three_year_ago_weighted_home</th>\n",
              "      <th>confederation</th>\n",
              "      <th>date_y</th>\n",
              "      <th>rank_away</th>\n",
              "      <th>country_full_away</th>\n",
              "      <th>country_abrv_away</th>\n",
              "      <th>total_points_away</th>\n",
              "      <th>previous_points_away</th>\n",
              "      <th>rank_change_away</th>\n",
              "      <th>cur_year_avg_away</th>\n",
              "      <th>cur_year_avg_weighted_away</th>\n",
              "      <th>last_year_avg_away</th>\n",
              "      <th>last_year_avg_weighted_away</th>\n",
              "      <th>two_year_ago_avg_away</th>\n",
              "      <th>two_year_ago_weighted_away</th>\n",
              "      <th>three_year_ago_avg_away</th>\n",
              "      <th>three_year_ago_weighted_away</th>\n",
              "    </tr>\n",
              "  </thead>\n",
              "  <tbody>\n",
              "    <tr>\n",
              "      <th>0</th>\n",
              "      <td>1994-01-02</td>\n",
              "      <td>Barbados</td>\n",
              "      <td>Grenada</td>\n",
              "      <td>0</td>\n",
              "      <td>0</td>\n",
              "      <td>Friendly</td>\n",
              "      <td>Bridgetown</td>\n",
              "      <td>Barbados</td>\n",
              "      <td>False</td>\n",
              "      <td>1994</td>\n",
              "      <td>4</td>\n",
              "      <td>99.0</td>\n",
              "      <td>Barbados</td>\n",
              "      <td>BRB</td>\n",
              "      <td>0.0</td>\n",
              "      <td>13.0</td>\n",
              "      <td>2.0</td>\n",
              "      <td>0.0</td>\n",
              "      <td>0.0</td>\n",
              "      <td>0.0</td>\n",
              "      <td>0.0</td>\n",
              "      <td>0.0</td>\n",
              "      <td>0.0</td>\n",
              "      <td>0.0</td>\n",
              "      <td>0.0</td>\n",
              "      <td>CONCACAF</td>\n",
              "      <td>1994-04-19</td>\n",
              "      <td>131.0</td>\n",
              "      <td>Grenada</td>\n",
              "      <td>GRN</td>\n",
              "      <td>0.0</td>\n",
              "      <td>7.0</td>\n",
              "      <td>1.0</td>\n",
              "      <td>0.0</td>\n",
              "      <td>0.0</td>\n",
              "      <td>0.0</td>\n",
              "      <td>0.0</td>\n",
              "      <td>0.0</td>\n",
              "      <td>0.0</td>\n",
              "      <td>0.0</td>\n",
              "      <td>0.0</td>\n",
              "    </tr>\n",
              "    <tr>\n",
              "      <th>1</th>\n",
              "      <td>1994-01-02</td>\n",
              "      <td>Barbados</td>\n",
              "      <td>Grenada</td>\n",
              "      <td>0</td>\n",
              "      <td>0</td>\n",
              "      <td>Friendly</td>\n",
              "      <td>Bridgetown</td>\n",
              "      <td>Barbados</td>\n",
              "      <td>False</td>\n",
              "      <td>1994</td>\n",
              "      <td>4</td>\n",
              "      <td>99.0</td>\n",
              "      <td>Barbados</td>\n",
              "      <td>BRB</td>\n",
              "      <td>0.0</td>\n",
              "      <td>13.0</td>\n",
              "      <td>2.0</td>\n",
              "      <td>0.0</td>\n",
              "      <td>0.0</td>\n",
              "      <td>0.0</td>\n",
              "      <td>0.0</td>\n",
              "      <td>0.0</td>\n",
              "      <td>0.0</td>\n",
              "      <td>0.0</td>\n",
              "      <td>0.0</td>\n",
              "      <td>CONCACAF</td>\n",
              "      <td>1994-04-19</td>\n",
              "      <td>131.0</td>\n",
              "      <td>Grenada</td>\n",
              "      <td>GRN</td>\n",
              "      <td>0.0</td>\n",
              "      <td>7.0</td>\n",
              "      <td>1.0</td>\n",
              "      <td>0.0</td>\n",
              "      <td>0.0</td>\n",
              "      <td>0.0</td>\n",
              "      <td>0.0</td>\n",
              "      <td>0.0</td>\n",
              "      <td>0.0</td>\n",
              "      <td>0.0</td>\n",
              "      <td>0.0</td>\n",
              "    </tr>\n",
              "    <tr>\n",
              "      <th>2</th>\n",
              "      <td>1994-01-02</td>\n",
              "      <td>Ghana</td>\n",
              "      <td>Egypt</td>\n",
              "      <td>2</td>\n",
              "      <td>1</td>\n",
              "      <td>Friendly</td>\n",
              "      <td>Accra</td>\n",
              "      <td>Ghana</td>\n",
              "      <td>False</td>\n",
              "      <td>1994</td>\n",
              "      <td>4</td>\n",
              "      <td>29.0</td>\n",
              "      <td>Ghana</td>\n",
              "      <td>GHA</td>\n",
              "      <td>0.0</td>\n",
              "      <td>41.0</td>\n",
              "      <td>2.0</td>\n",
              "      <td>0.0</td>\n",
              "      <td>0.0</td>\n",
              "      <td>0.0</td>\n",
              "      <td>0.0</td>\n",
              "      <td>0.0</td>\n",
              "      <td>0.0</td>\n",
              "      <td>0.0</td>\n",
              "      <td>0.0</td>\n",
              "      <td>CAF</td>\n",
              "      <td>1994-04-19</td>\n",
              "      <td>24.0</td>\n",
              "      <td>Egypt</td>\n",
              "      <td>EGY</td>\n",
              "      <td>0.0</td>\n",
              "      <td>44.0</td>\n",
              "      <td>1.0</td>\n",
              "      <td>0.0</td>\n",
              "      <td>0.0</td>\n",
              "      <td>0.0</td>\n",
              "      <td>0.0</td>\n",
              "      <td>0.0</td>\n",
              "      <td>0.0</td>\n",
              "      <td>0.0</td>\n",
              "      <td>0.0</td>\n",
              "    </tr>\n",
              "    <tr>\n",
              "      <th>3</th>\n",
              "      <td>1994-01-05</td>\n",
              "      <td>Mali</td>\n",
              "      <td>Burkina Faso</td>\n",
              "      <td>1</td>\n",
              "      <td>1</td>\n",
              "      <td>Friendly</td>\n",
              "      <td>Bamako</td>\n",
              "      <td>Mali</td>\n",
              "      <td>False</td>\n",
              "      <td>1994</td>\n",
              "      <td>4</td>\n",
              "      <td>48.0</td>\n",
              "      <td>Mali</td>\n",
              "      <td>MLI</td>\n",
              "      <td>0.0</td>\n",
              "      <td>31.0</td>\n",
              "      <td>9.0</td>\n",
              "      <td>0.0</td>\n",
              "      <td>0.0</td>\n",
              "      <td>0.0</td>\n",
              "      <td>0.0</td>\n",
              "      <td>0.0</td>\n",
              "      <td>0.0</td>\n",
              "      <td>0.0</td>\n",
              "      <td>0.0</td>\n",
              "      <td>CAF</td>\n",
              "      <td>1994-04-19</td>\n",
              "      <td>101.0</td>\n",
              "      <td>Burkina Faso</td>\n",
              "      <td>BFA</td>\n",
              "      <td>0.0</td>\n",
              "      <td>12.0</td>\n",
              "      <td>3.0</td>\n",
              "      <td>0.0</td>\n",
              "      <td>0.0</td>\n",
              "      <td>0.0</td>\n",
              "      <td>0.0</td>\n",
              "      <td>0.0</td>\n",
              "      <td>0.0</td>\n",
              "      <td>0.0</td>\n",
              "      <td>0.0</td>\n",
              "    </tr>\n",
              "    <tr>\n",
              "      <th>4</th>\n",
              "      <td>1994-01-09</td>\n",
              "      <td>Mauritania</td>\n",
              "      <td>Mali</td>\n",
              "      <td>1</td>\n",
              "      <td>3</td>\n",
              "      <td>Friendly</td>\n",
              "      <td>Nouakchott</td>\n",
              "      <td>Mauritania</td>\n",
              "      <td>False</td>\n",
              "      <td>1994</td>\n",
              "      <td>4</td>\n",
              "      <td>147.0</td>\n",
              "      <td>Mauritania</td>\n",
              "      <td>MTN</td>\n",
              "      <td>0.0</td>\n",
              "      <td>3.0</td>\n",
              "      <td>-1.0</td>\n",
              "      <td>0.0</td>\n",
              "      <td>0.0</td>\n",
              "      <td>0.0</td>\n",
              "      <td>0.0</td>\n",
              "      <td>0.0</td>\n",
              "      <td>0.0</td>\n",
              "      <td>0.0</td>\n",
              "      <td>0.0</td>\n",
              "      <td>CAF</td>\n",
              "      <td>1994-04-19</td>\n",
              "      <td>48.0</td>\n",
              "      <td>Mali</td>\n",
              "      <td>MLI</td>\n",
              "      <td>0.0</td>\n",
              "      <td>31.0</td>\n",
              "      <td>9.0</td>\n",
              "      <td>0.0</td>\n",
              "      <td>0.0</td>\n",
              "      <td>0.0</td>\n",
              "      <td>0.0</td>\n",
              "      <td>0.0</td>\n",
              "      <td>0.0</td>\n",
              "      <td>0.0</td>\n",
              "      <td>0.0</td>\n",
              "    </tr>\n",
              "  </tbody>\n",
              "</table>\n",
              "</div>"
            ],
            "text/plain": [
              "      date_x   home_team  ... three_year_ago_avg_away  three_year_ago_weighted_away\n",
              "0 1994-01-02    Barbados  ...                     0.0                           0.0\n",
              "1 1994-01-02    Barbados  ...                     0.0                           0.0\n",
              "2 1994-01-02       Ghana  ...                     0.0                           0.0\n",
              "3 1994-01-05        Mali  ...                     0.0                           0.0\n",
              "4 1994-01-09  Mauritania  ...                     0.0                           0.0\n",
              "\n",
              "[5 rows x 41 columns]"
            ]
          },
          "metadata": {
            "tags": []
          },
          "execution_count": 188
        }
      ]
    },
    {
      "cell_type": "code",
      "metadata": {
        "id": "q6vkLAnisX4J"
      },
      "source": [
        "# Remove irrelevant columns from the final dataframe\n",
        "\n",
        "drop_cols = ['country_full_home', 'country_abrv_home', 'date_y', 'country_full_away',\t'country_abrv_away']\n",
        "final_df.drop(drop_cols, axis = 1, inplace = True)"
      ],
      "execution_count": 189,
      "outputs": []
    },
    {
      "cell_type": "code",
      "metadata": {
        "id": "O4kGsluPsXuB",
        "colab": {
          "base_uri": "https://localhost:8080/"
        },
        "outputId": "0457508e-0487-45a1-b333-030e13ff6d97"
      },
      "source": [
        "# Checking for missing values\n",
        "#\n",
        "final_df.isnull().sum()"
      ],
      "execution_count": 190,
      "outputs": [
        {
          "output_type": "execute_result",
          "data": {
            "text/plain": [
              "date_x                             0\n",
              "home_team                          0\n",
              "away_team                          0\n",
              "home_score                         0\n",
              "away_score                         0\n",
              "tournament                         0\n",
              "city                               0\n",
              "country                            0\n",
              "neutral                            0\n",
              "year                               0\n",
              "month                              0\n",
              "rank_home                          0\n",
              "total_points_home                  0\n",
              "previous_points_home               0\n",
              "rank_change_home                   0\n",
              "cur_year_avg_home                  0\n",
              "cur_year_avg_weighted_home         0\n",
              "last_year_avg_home                 0\n",
              "last_year_avg_weighted_home        0\n",
              "two_year_ago_avg_home              0\n",
              "two_year_ago_weighted_home         0\n",
              "three_year_ago_avg_home            0\n",
              "three_year_ago_weighted_home       0\n",
              "confederation                      0\n",
              "rank_away                       1811\n",
              "total_points_away               1811\n",
              "previous_points_away            1811\n",
              "rank_change_away                1811\n",
              "cur_year_avg_away               1811\n",
              "cur_year_avg_weighted_away      1811\n",
              "last_year_avg_away              1811\n",
              "last_year_avg_weighted_away     1811\n",
              "two_year_ago_avg_away           1811\n",
              "two_year_ago_weighted_away      1811\n",
              "three_year_ago_avg_away         1811\n",
              "three_year_ago_weighted_away    1811\n",
              "dtype: int64"
            ]
          },
          "metadata": {
            "tags": []
          },
          "execution_count": 190
        }
      ]
    },
    {
      "cell_type": "code",
      "metadata": {
        "id": "_NYGnYizsvra"
      },
      "source": [
        "# Dropping missing values\n",
        "#\n",
        "final_df.dropna(inplace=True)"
      ],
      "execution_count": 191,
      "outputs": []
    },
    {
      "cell_type": "code",
      "metadata": {
        "id": "4mZSneQ1ribU"
      },
      "source": [
        "# Save the clean dataframe for later use.\n",
        "final_df.to_csv('clean_data.csv')"
      ],
      "execution_count": 192,
      "outputs": []
    },
    {
      "cell_type": "code",
      "metadata": {
        "id": "5zWlW4vUsAAq"
      },
      "source": [
        "#load clean data\n",
        "clean_df=pd.read_csv('clean_data.csv')"
      ],
      "execution_count": 193,
      "outputs": []
    },
    {
      "cell_type": "code",
      "metadata": {
        "id": "-rhVSQ9Bs-XC",
        "colab": {
          "base_uri": "https://localhost:8080/",
          "height": 322
        },
        "outputId": "40bf77e0-36c4-4077-883d-82330350091b"
      },
      "source": [
        "#Preview the clean dataframe\n",
        "#\n",
        "clean_df.head()"
      ],
      "execution_count": 194,
      "outputs": [
        {
          "output_type": "execute_result",
          "data": {
            "text/html": [
              "<div>\n",
              "<style scoped>\n",
              "    .dataframe tbody tr th:only-of-type {\n",
              "        vertical-align: middle;\n",
              "    }\n",
              "\n",
              "    .dataframe tbody tr th {\n",
              "        vertical-align: top;\n",
              "    }\n",
              "\n",
              "    .dataframe thead th {\n",
              "        text-align: right;\n",
              "    }\n",
              "</style>\n",
              "<table border=\"1\" class=\"dataframe\">\n",
              "  <thead>\n",
              "    <tr style=\"text-align: right;\">\n",
              "      <th></th>\n",
              "      <th>Unnamed: 0</th>\n",
              "      <th>date_x</th>\n",
              "      <th>home_team</th>\n",
              "      <th>away_team</th>\n",
              "      <th>home_score</th>\n",
              "      <th>away_score</th>\n",
              "      <th>tournament</th>\n",
              "      <th>city</th>\n",
              "      <th>country</th>\n",
              "      <th>neutral</th>\n",
              "      <th>year</th>\n",
              "      <th>month</th>\n",
              "      <th>rank_home</th>\n",
              "      <th>total_points_home</th>\n",
              "      <th>previous_points_home</th>\n",
              "      <th>rank_change_home</th>\n",
              "      <th>cur_year_avg_home</th>\n",
              "      <th>cur_year_avg_weighted_home</th>\n",
              "      <th>last_year_avg_home</th>\n",
              "      <th>last_year_avg_weighted_home</th>\n",
              "      <th>two_year_ago_avg_home</th>\n",
              "      <th>two_year_ago_weighted_home</th>\n",
              "      <th>three_year_ago_avg_home</th>\n",
              "      <th>three_year_ago_weighted_home</th>\n",
              "      <th>confederation</th>\n",
              "      <th>rank_away</th>\n",
              "      <th>total_points_away</th>\n",
              "      <th>previous_points_away</th>\n",
              "      <th>rank_change_away</th>\n",
              "      <th>cur_year_avg_away</th>\n",
              "      <th>cur_year_avg_weighted_away</th>\n",
              "      <th>last_year_avg_away</th>\n",
              "      <th>last_year_avg_weighted_away</th>\n",
              "      <th>two_year_ago_avg_away</th>\n",
              "      <th>two_year_ago_weighted_away</th>\n",
              "      <th>three_year_ago_avg_away</th>\n",
              "      <th>three_year_ago_weighted_away</th>\n",
              "    </tr>\n",
              "  </thead>\n",
              "  <tbody>\n",
              "    <tr>\n",
              "      <th>0</th>\n",
              "      <td>0</td>\n",
              "      <td>1994-01-02</td>\n",
              "      <td>Barbados</td>\n",
              "      <td>Grenada</td>\n",
              "      <td>0</td>\n",
              "      <td>0</td>\n",
              "      <td>Friendly</td>\n",
              "      <td>Bridgetown</td>\n",
              "      <td>Barbados</td>\n",
              "      <td>False</td>\n",
              "      <td>1994</td>\n",
              "      <td>4</td>\n",
              "      <td>99.0</td>\n",
              "      <td>0.0</td>\n",
              "      <td>13.0</td>\n",
              "      <td>2.0</td>\n",
              "      <td>0.0</td>\n",
              "      <td>0.0</td>\n",
              "      <td>0.0</td>\n",
              "      <td>0.0</td>\n",
              "      <td>0.0</td>\n",
              "      <td>0.0</td>\n",
              "      <td>0.0</td>\n",
              "      <td>0.0</td>\n",
              "      <td>CONCACAF</td>\n",
              "      <td>131.0</td>\n",
              "      <td>0.0</td>\n",
              "      <td>7.0</td>\n",
              "      <td>1.0</td>\n",
              "      <td>0.0</td>\n",
              "      <td>0.0</td>\n",
              "      <td>0.0</td>\n",
              "      <td>0.0</td>\n",
              "      <td>0.0</td>\n",
              "      <td>0.0</td>\n",
              "      <td>0.0</td>\n",
              "      <td>0.0</td>\n",
              "    </tr>\n",
              "    <tr>\n",
              "      <th>1</th>\n",
              "      <td>1</td>\n",
              "      <td>1994-01-02</td>\n",
              "      <td>Barbados</td>\n",
              "      <td>Grenada</td>\n",
              "      <td>0</td>\n",
              "      <td>0</td>\n",
              "      <td>Friendly</td>\n",
              "      <td>Bridgetown</td>\n",
              "      <td>Barbados</td>\n",
              "      <td>False</td>\n",
              "      <td>1994</td>\n",
              "      <td>4</td>\n",
              "      <td>99.0</td>\n",
              "      <td>0.0</td>\n",
              "      <td>13.0</td>\n",
              "      <td>2.0</td>\n",
              "      <td>0.0</td>\n",
              "      <td>0.0</td>\n",
              "      <td>0.0</td>\n",
              "      <td>0.0</td>\n",
              "      <td>0.0</td>\n",
              "      <td>0.0</td>\n",
              "      <td>0.0</td>\n",
              "      <td>0.0</td>\n",
              "      <td>CONCACAF</td>\n",
              "      <td>131.0</td>\n",
              "      <td>0.0</td>\n",
              "      <td>7.0</td>\n",
              "      <td>1.0</td>\n",
              "      <td>0.0</td>\n",
              "      <td>0.0</td>\n",
              "      <td>0.0</td>\n",
              "      <td>0.0</td>\n",
              "      <td>0.0</td>\n",
              "      <td>0.0</td>\n",
              "      <td>0.0</td>\n",
              "      <td>0.0</td>\n",
              "    </tr>\n",
              "    <tr>\n",
              "      <th>2</th>\n",
              "      <td>2</td>\n",
              "      <td>1994-01-02</td>\n",
              "      <td>Ghana</td>\n",
              "      <td>Egypt</td>\n",
              "      <td>2</td>\n",
              "      <td>1</td>\n",
              "      <td>Friendly</td>\n",
              "      <td>Accra</td>\n",
              "      <td>Ghana</td>\n",
              "      <td>False</td>\n",
              "      <td>1994</td>\n",
              "      <td>4</td>\n",
              "      <td>29.0</td>\n",
              "      <td>0.0</td>\n",
              "      <td>41.0</td>\n",
              "      <td>2.0</td>\n",
              "      <td>0.0</td>\n",
              "      <td>0.0</td>\n",
              "      <td>0.0</td>\n",
              "      <td>0.0</td>\n",
              "      <td>0.0</td>\n",
              "      <td>0.0</td>\n",
              "      <td>0.0</td>\n",
              "      <td>0.0</td>\n",
              "      <td>CAF</td>\n",
              "      <td>24.0</td>\n",
              "      <td>0.0</td>\n",
              "      <td>44.0</td>\n",
              "      <td>1.0</td>\n",
              "      <td>0.0</td>\n",
              "      <td>0.0</td>\n",
              "      <td>0.0</td>\n",
              "      <td>0.0</td>\n",
              "      <td>0.0</td>\n",
              "      <td>0.0</td>\n",
              "      <td>0.0</td>\n",
              "      <td>0.0</td>\n",
              "    </tr>\n",
              "    <tr>\n",
              "      <th>3</th>\n",
              "      <td>3</td>\n",
              "      <td>1994-01-05</td>\n",
              "      <td>Mali</td>\n",
              "      <td>Burkina Faso</td>\n",
              "      <td>1</td>\n",
              "      <td>1</td>\n",
              "      <td>Friendly</td>\n",
              "      <td>Bamako</td>\n",
              "      <td>Mali</td>\n",
              "      <td>False</td>\n",
              "      <td>1994</td>\n",
              "      <td>4</td>\n",
              "      <td>48.0</td>\n",
              "      <td>0.0</td>\n",
              "      <td>31.0</td>\n",
              "      <td>9.0</td>\n",
              "      <td>0.0</td>\n",
              "      <td>0.0</td>\n",
              "      <td>0.0</td>\n",
              "      <td>0.0</td>\n",
              "      <td>0.0</td>\n",
              "      <td>0.0</td>\n",
              "      <td>0.0</td>\n",
              "      <td>0.0</td>\n",
              "      <td>CAF</td>\n",
              "      <td>101.0</td>\n",
              "      <td>0.0</td>\n",
              "      <td>12.0</td>\n",
              "      <td>3.0</td>\n",
              "      <td>0.0</td>\n",
              "      <td>0.0</td>\n",
              "      <td>0.0</td>\n",
              "      <td>0.0</td>\n",
              "      <td>0.0</td>\n",
              "      <td>0.0</td>\n",
              "      <td>0.0</td>\n",
              "      <td>0.0</td>\n",
              "    </tr>\n",
              "    <tr>\n",
              "      <th>4</th>\n",
              "      <td>4</td>\n",
              "      <td>1994-01-09</td>\n",
              "      <td>Mauritania</td>\n",
              "      <td>Mali</td>\n",
              "      <td>1</td>\n",
              "      <td>3</td>\n",
              "      <td>Friendly</td>\n",
              "      <td>Nouakchott</td>\n",
              "      <td>Mauritania</td>\n",
              "      <td>False</td>\n",
              "      <td>1994</td>\n",
              "      <td>4</td>\n",
              "      <td>147.0</td>\n",
              "      <td>0.0</td>\n",
              "      <td>3.0</td>\n",
              "      <td>-1.0</td>\n",
              "      <td>0.0</td>\n",
              "      <td>0.0</td>\n",
              "      <td>0.0</td>\n",
              "      <td>0.0</td>\n",
              "      <td>0.0</td>\n",
              "      <td>0.0</td>\n",
              "      <td>0.0</td>\n",
              "      <td>0.0</td>\n",
              "      <td>CAF</td>\n",
              "      <td>48.0</td>\n",
              "      <td>0.0</td>\n",
              "      <td>31.0</td>\n",
              "      <td>9.0</td>\n",
              "      <td>0.0</td>\n",
              "      <td>0.0</td>\n",
              "      <td>0.0</td>\n",
              "      <td>0.0</td>\n",
              "      <td>0.0</td>\n",
              "      <td>0.0</td>\n",
              "      <td>0.0</td>\n",
              "      <td>0.0</td>\n",
              "    </tr>\n",
              "  </tbody>\n",
              "</table>\n",
              "</div>"
            ],
            "text/plain": [
              "   Unnamed: 0  ... three_year_ago_weighted_away\n",
              "0           0  ...                          0.0\n",
              "1           1  ...                          0.0\n",
              "2           2  ...                          0.0\n",
              "3           3  ...                          0.0\n",
              "4           4  ...                          0.0\n",
              "\n",
              "[5 rows x 37 columns]"
            ]
          },
          "metadata": {
            "tags": []
          },
          "execution_count": 194
        }
      ]
    },
    {
      "cell_type": "code",
      "metadata": {
        "id": "mye4ZJqWtW8x"
      },
      "source": [
        ""
      ],
      "execution_count": 194,
      "outputs": []
    },
    {
      "cell_type": "markdown",
      "metadata": {
        "id": "axUDyP53-CMW"
      },
      "source": [
        "## 3. EXPLORATORY DATA ANALYSIS\n",
        "\n",
        "Information which to be used in EDA: -\n",
        "- Country.\n",
        "- Rank.\n",
        "- City.\n",
        "- Home/Away/Neutral Team, \n",
        "- Home/Away Score.\n",
        "- Confederation.\n",
        "- Tournament."
      ]
    },
    {
      "cell_type": "code",
      "metadata": {
        "id": "DIwCv_O-nGvE",
        "colab": {
          "base_uri": "https://localhost:8080/"
        },
        "outputId": "51c7df12-2172-44be-b341-3031180a742a"
      },
      "source": [
        "clean_df.shape"
      ],
      "execution_count": 195,
      "outputs": [
        {
          "output_type": "execute_result",
          "data": {
            "text/plain": [
              "(18767, 37)"
            ]
          },
          "metadata": {
            "tags": []
          },
          "execution_count": 195
        }
      ]
    },
    {
      "cell_type": "code",
      "metadata": {
        "id": "1hfiA90SvBn3"
      },
      "source": [
        "#creating a new column called results that is computed by the home score - the away score\n",
        "\n",
        "clean_df['result'] = clean_df['home_score'] - clean_df['away_score']\n",
        "      "
      ],
      "execution_count": 196,
      "outputs": []
    },
    {
      "cell_type": "code",
      "metadata": {
        "id": "otiRtXwfziss"
      },
      "source": [
        "#creating a function for the win ,loss and draw\n",
        "\n",
        "def result(x):\n",
        "  if x >0:\n",
        "    return 'win'\n",
        "  elif x<0:\n",
        "    return 'loss'\n",
        "  else:\n",
        "    return 'draw'"
      ],
      "execution_count": 197,
      "outputs": []
    },
    {
      "cell_type": "code",
      "metadata": {
        "id": "Jh5OQJT_0B5r"
      },
      "source": [
        "#Implementing and applying our function\n",
        "\n",
        "clean_df['results']=clean_df.result.apply(lambda x: result(x))"
      ],
      "execution_count": 198,
      "outputs": []
    },
    {
      "cell_type": "code",
      "metadata": {
        "id": "TBsbHVDSzgBQ",
        "colab": {
          "base_uri": "https://localhost:8080/",
          "height": 322
        },
        "outputId": "2bea860d-0679-42df-f853-14c6fb1926a8"
      },
      "source": [
        "clean_df.head()"
      ],
      "execution_count": 199,
      "outputs": [
        {
          "output_type": "execute_result",
          "data": {
            "text/html": [
              "<div>\n",
              "<style scoped>\n",
              "    .dataframe tbody tr th:only-of-type {\n",
              "        vertical-align: middle;\n",
              "    }\n",
              "\n",
              "    .dataframe tbody tr th {\n",
              "        vertical-align: top;\n",
              "    }\n",
              "\n",
              "    .dataframe thead th {\n",
              "        text-align: right;\n",
              "    }\n",
              "</style>\n",
              "<table border=\"1\" class=\"dataframe\">\n",
              "  <thead>\n",
              "    <tr style=\"text-align: right;\">\n",
              "      <th></th>\n",
              "      <th>Unnamed: 0</th>\n",
              "      <th>date_x</th>\n",
              "      <th>home_team</th>\n",
              "      <th>away_team</th>\n",
              "      <th>home_score</th>\n",
              "      <th>away_score</th>\n",
              "      <th>tournament</th>\n",
              "      <th>city</th>\n",
              "      <th>country</th>\n",
              "      <th>neutral</th>\n",
              "      <th>year</th>\n",
              "      <th>month</th>\n",
              "      <th>rank_home</th>\n",
              "      <th>total_points_home</th>\n",
              "      <th>previous_points_home</th>\n",
              "      <th>rank_change_home</th>\n",
              "      <th>cur_year_avg_home</th>\n",
              "      <th>cur_year_avg_weighted_home</th>\n",
              "      <th>last_year_avg_home</th>\n",
              "      <th>last_year_avg_weighted_home</th>\n",
              "      <th>two_year_ago_avg_home</th>\n",
              "      <th>two_year_ago_weighted_home</th>\n",
              "      <th>three_year_ago_avg_home</th>\n",
              "      <th>three_year_ago_weighted_home</th>\n",
              "      <th>confederation</th>\n",
              "      <th>rank_away</th>\n",
              "      <th>total_points_away</th>\n",
              "      <th>previous_points_away</th>\n",
              "      <th>rank_change_away</th>\n",
              "      <th>cur_year_avg_away</th>\n",
              "      <th>cur_year_avg_weighted_away</th>\n",
              "      <th>last_year_avg_away</th>\n",
              "      <th>last_year_avg_weighted_away</th>\n",
              "      <th>two_year_ago_avg_away</th>\n",
              "      <th>two_year_ago_weighted_away</th>\n",
              "      <th>three_year_ago_avg_away</th>\n",
              "      <th>three_year_ago_weighted_away</th>\n",
              "      <th>result</th>\n",
              "      <th>results</th>\n",
              "    </tr>\n",
              "  </thead>\n",
              "  <tbody>\n",
              "    <tr>\n",
              "      <th>0</th>\n",
              "      <td>0</td>\n",
              "      <td>1994-01-02</td>\n",
              "      <td>Barbados</td>\n",
              "      <td>Grenada</td>\n",
              "      <td>0</td>\n",
              "      <td>0</td>\n",
              "      <td>Friendly</td>\n",
              "      <td>Bridgetown</td>\n",
              "      <td>Barbados</td>\n",
              "      <td>False</td>\n",
              "      <td>1994</td>\n",
              "      <td>4</td>\n",
              "      <td>99.0</td>\n",
              "      <td>0.0</td>\n",
              "      <td>13.0</td>\n",
              "      <td>2.0</td>\n",
              "      <td>0.0</td>\n",
              "      <td>0.0</td>\n",
              "      <td>0.0</td>\n",
              "      <td>0.0</td>\n",
              "      <td>0.0</td>\n",
              "      <td>0.0</td>\n",
              "      <td>0.0</td>\n",
              "      <td>0.0</td>\n",
              "      <td>CONCACAF</td>\n",
              "      <td>131.0</td>\n",
              "      <td>0.0</td>\n",
              "      <td>7.0</td>\n",
              "      <td>1.0</td>\n",
              "      <td>0.0</td>\n",
              "      <td>0.0</td>\n",
              "      <td>0.0</td>\n",
              "      <td>0.0</td>\n",
              "      <td>0.0</td>\n",
              "      <td>0.0</td>\n",
              "      <td>0.0</td>\n",
              "      <td>0.0</td>\n",
              "      <td>0</td>\n",
              "      <td>draw</td>\n",
              "    </tr>\n",
              "    <tr>\n",
              "      <th>1</th>\n",
              "      <td>1</td>\n",
              "      <td>1994-01-02</td>\n",
              "      <td>Barbados</td>\n",
              "      <td>Grenada</td>\n",
              "      <td>0</td>\n",
              "      <td>0</td>\n",
              "      <td>Friendly</td>\n",
              "      <td>Bridgetown</td>\n",
              "      <td>Barbados</td>\n",
              "      <td>False</td>\n",
              "      <td>1994</td>\n",
              "      <td>4</td>\n",
              "      <td>99.0</td>\n",
              "      <td>0.0</td>\n",
              "      <td>13.0</td>\n",
              "      <td>2.0</td>\n",
              "      <td>0.0</td>\n",
              "      <td>0.0</td>\n",
              "      <td>0.0</td>\n",
              "      <td>0.0</td>\n",
              "      <td>0.0</td>\n",
              "      <td>0.0</td>\n",
              "      <td>0.0</td>\n",
              "      <td>0.0</td>\n",
              "      <td>CONCACAF</td>\n",
              "      <td>131.0</td>\n",
              "      <td>0.0</td>\n",
              "      <td>7.0</td>\n",
              "      <td>1.0</td>\n",
              "      <td>0.0</td>\n",
              "      <td>0.0</td>\n",
              "      <td>0.0</td>\n",
              "      <td>0.0</td>\n",
              "      <td>0.0</td>\n",
              "      <td>0.0</td>\n",
              "      <td>0.0</td>\n",
              "      <td>0.0</td>\n",
              "      <td>0</td>\n",
              "      <td>draw</td>\n",
              "    </tr>\n",
              "    <tr>\n",
              "      <th>2</th>\n",
              "      <td>2</td>\n",
              "      <td>1994-01-02</td>\n",
              "      <td>Ghana</td>\n",
              "      <td>Egypt</td>\n",
              "      <td>2</td>\n",
              "      <td>1</td>\n",
              "      <td>Friendly</td>\n",
              "      <td>Accra</td>\n",
              "      <td>Ghana</td>\n",
              "      <td>False</td>\n",
              "      <td>1994</td>\n",
              "      <td>4</td>\n",
              "      <td>29.0</td>\n",
              "      <td>0.0</td>\n",
              "      <td>41.0</td>\n",
              "      <td>2.0</td>\n",
              "      <td>0.0</td>\n",
              "      <td>0.0</td>\n",
              "      <td>0.0</td>\n",
              "      <td>0.0</td>\n",
              "      <td>0.0</td>\n",
              "      <td>0.0</td>\n",
              "      <td>0.0</td>\n",
              "      <td>0.0</td>\n",
              "      <td>CAF</td>\n",
              "      <td>24.0</td>\n",
              "      <td>0.0</td>\n",
              "      <td>44.0</td>\n",
              "      <td>1.0</td>\n",
              "      <td>0.0</td>\n",
              "      <td>0.0</td>\n",
              "      <td>0.0</td>\n",
              "      <td>0.0</td>\n",
              "      <td>0.0</td>\n",
              "      <td>0.0</td>\n",
              "      <td>0.0</td>\n",
              "      <td>0.0</td>\n",
              "      <td>1</td>\n",
              "      <td>win</td>\n",
              "    </tr>\n",
              "    <tr>\n",
              "      <th>3</th>\n",
              "      <td>3</td>\n",
              "      <td>1994-01-05</td>\n",
              "      <td>Mali</td>\n",
              "      <td>Burkina Faso</td>\n",
              "      <td>1</td>\n",
              "      <td>1</td>\n",
              "      <td>Friendly</td>\n",
              "      <td>Bamako</td>\n",
              "      <td>Mali</td>\n",
              "      <td>False</td>\n",
              "      <td>1994</td>\n",
              "      <td>4</td>\n",
              "      <td>48.0</td>\n",
              "      <td>0.0</td>\n",
              "      <td>31.0</td>\n",
              "      <td>9.0</td>\n",
              "      <td>0.0</td>\n",
              "      <td>0.0</td>\n",
              "      <td>0.0</td>\n",
              "      <td>0.0</td>\n",
              "      <td>0.0</td>\n",
              "      <td>0.0</td>\n",
              "      <td>0.0</td>\n",
              "      <td>0.0</td>\n",
              "      <td>CAF</td>\n",
              "      <td>101.0</td>\n",
              "      <td>0.0</td>\n",
              "      <td>12.0</td>\n",
              "      <td>3.0</td>\n",
              "      <td>0.0</td>\n",
              "      <td>0.0</td>\n",
              "      <td>0.0</td>\n",
              "      <td>0.0</td>\n",
              "      <td>0.0</td>\n",
              "      <td>0.0</td>\n",
              "      <td>0.0</td>\n",
              "      <td>0.0</td>\n",
              "      <td>0</td>\n",
              "      <td>draw</td>\n",
              "    </tr>\n",
              "    <tr>\n",
              "      <th>4</th>\n",
              "      <td>4</td>\n",
              "      <td>1994-01-09</td>\n",
              "      <td>Mauritania</td>\n",
              "      <td>Mali</td>\n",
              "      <td>1</td>\n",
              "      <td>3</td>\n",
              "      <td>Friendly</td>\n",
              "      <td>Nouakchott</td>\n",
              "      <td>Mauritania</td>\n",
              "      <td>False</td>\n",
              "      <td>1994</td>\n",
              "      <td>4</td>\n",
              "      <td>147.0</td>\n",
              "      <td>0.0</td>\n",
              "      <td>3.0</td>\n",
              "      <td>-1.0</td>\n",
              "      <td>0.0</td>\n",
              "      <td>0.0</td>\n",
              "      <td>0.0</td>\n",
              "      <td>0.0</td>\n",
              "      <td>0.0</td>\n",
              "      <td>0.0</td>\n",
              "      <td>0.0</td>\n",
              "      <td>0.0</td>\n",
              "      <td>CAF</td>\n",
              "      <td>48.0</td>\n",
              "      <td>0.0</td>\n",
              "      <td>31.0</td>\n",
              "      <td>9.0</td>\n",
              "      <td>0.0</td>\n",
              "      <td>0.0</td>\n",
              "      <td>0.0</td>\n",
              "      <td>0.0</td>\n",
              "      <td>0.0</td>\n",
              "      <td>0.0</td>\n",
              "      <td>0.0</td>\n",
              "      <td>0.0</td>\n",
              "      <td>-2</td>\n",
              "      <td>loss</td>\n",
              "    </tr>\n",
              "  </tbody>\n",
              "</table>\n",
              "</div>"
            ],
            "text/plain": [
              "   Unnamed: 0      date_x  ... result results\n",
              "0           0  1994-01-02  ...      0    draw\n",
              "1           1  1994-01-02  ...      0    draw\n",
              "2           2  1994-01-02  ...      1     win\n",
              "3           3  1994-01-05  ...      0    draw\n",
              "4           4  1994-01-09  ...     -2    loss\n",
              "\n",
              "[5 rows x 39 columns]"
            ]
          },
          "metadata": {
            "tags": []
          },
          "execution_count": 199
        }
      ]
    },
    {
      "cell_type": "markdown",
      "metadata": {
        "id": "m9W5gl7rHslB"
      },
      "source": [
        "## 3.1 Univariate Analysis"
      ]
    },
    {
      "cell_type": "code",
      "metadata": {
        "id": "zZcmdV5vHy0V",
        "colab": {
          "base_uri": "https://localhost:8080/",
          "height": 432
        },
        "outputId": "63ee6e55-3af9-49e5-bc66-8c26e5ae4c36"
      },
      "source": [
        "#Plotting a bar graph of tournament\n",
        "\n",
        "clean_df['tournament'].value_counts().head(10).plot.bar()\n",
        "plt.show()"
      ],
      "execution_count": 200,
      "outputs": [
        {
          "output_type": "display_data",
          "data": {
            "image/png": "[encoded data removed]",
            "text/plain": [
              "<Figure size 432x288 with 1 Axes>"
            ]
          },
          "metadata": {
            "tags": [],
            "needs_background": "light"
          }
        }
      ]
    },
    {
      "cell_type": "markdown",
      "metadata": {
        "id": "BaMVqDLsAyfs"
      },
      "source": [
        "From the bar graph, friendly games were played more than any other kind of game."
      ]
    },
    {
      "cell_type": "code",
      "metadata": {
        "id": "_KTPsfuE6R27",
        "colab": {
          "base_uri": "https://localhost:8080/",
          "height": 280
        },
        "outputId": "731fbc25-dd97-4d35-c762-1e111f1b6985"
      },
      "source": [
        "#Plotting a bar graph for the results\n",
        "\n",
        "(clean_df['results'].value_counts().head(10)/len(merged)).plot.bar()\n",
        "plt.show()"
      ],
      "execution_count": 201,
      "outputs": [
        {
          "output_type": "display_data",
          "data": {
            "image/png": "[encoded data removed]",
            "text/plain": [
              "<Figure size 432x288 with 1 Axes>"
            ]
          },
          "metadata": {
            "tags": [],
            "needs_background": "light"
          }
        }
      ]
    },
    {
      "cell_type": "markdown",
      "metadata": {
        "id": "1FOukTdeBCvM"
      },
      "source": [
        "Majority of the games were won compared to draw or loss."
      ]
    },
    {
      "cell_type": "code",
      "metadata": {
        "id": "Ikg4lF3e_CAw",
        "colab": {
          "base_uri": "https://localhost:8080/",
          "height": 312
        },
        "outputId": "e95e4c91-77ad-4481-c4e7-5baaf81b5ff0"
      },
      "source": [
        "#plotting a bar graph for the confederation\n",
        "\n",
        "(clean_df['confederation'].value_counts().head(10)/len(merged)).plot.bar()\n",
        "plt.show()"
      ],
      "execution_count": 202,
      "outputs": [
        {
          "output_type": "display_data",
          "data": {
            "image/png": "[encoded data removed]",
            "text/plain": [
              "<Figure size 432x288 with 1 Axes>"
            ]
          },
          "metadata": {
            "tags": [],
            "needs_background": "light"
          }
        }
      ]
    },
    {
      "cell_type": "markdown",
      "metadata": {
        "id": "7VEDKKy8BbNT"
      },
      "source": [
        "UEFA organized majority of the matches while OFC organized the least."
      ]
    },
    {
      "cell_type": "markdown",
      "metadata": {
        "id": "hIZbjEpujTEa"
      },
      "source": [
        "## 4. Logistic Regression\n",
        "Logistic regression will be used to train the models and predict the outcome."
      ]
    },
    {
      "cell_type": "code",
      "metadata": {
        "id": "omxi0aft3aUF",
        "colab": {
          "base_uri": "https://localhost:8080/",
          "height": 322
        },
        "outputId": "52fa6e4f-80c4-4532-e8bd-d924301eed0a"
      },
      "source": [
        "#Previewing our dataset\n",
        "\n",
        "clean_df.head()"
      ],
      "execution_count": 203,
      "outputs": [
        {
          "output_type": "execute_result",
          "data": {
            "text/html": [
              "<div>\n",
              "<style scoped>\n",
              "    .dataframe tbody tr th:only-of-type {\n",
              "        vertical-align: middle;\n",
              "    }\n",
              "\n",
              "    .dataframe tbody tr th {\n",
              "        vertical-align: top;\n",
              "    }\n",
              "\n",
              "    .dataframe thead th {\n",
              "        text-align: right;\n",
              "    }\n",
              "</style>\n",
              "<table border=\"1\" class=\"dataframe\">\n",
              "  <thead>\n",
              "    <tr style=\"text-align: right;\">\n",
              "      <th></th>\n",
              "      <th>Unnamed: 0</th>\n",
              "      <th>date_x</th>\n",
              "      <th>home_team</th>\n",
              "      <th>away_team</th>\n",
              "      <th>home_score</th>\n",
              "      <th>away_score</th>\n",
              "      <th>tournament</th>\n",
              "      <th>city</th>\n",
              "      <th>country</th>\n",
              "      <th>neutral</th>\n",
              "      <th>year</th>\n",
              "      <th>month</th>\n",
              "      <th>rank_home</th>\n",
              "      <th>total_points_home</th>\n",
              "      <th>previous_points_home</th>\n",
              "      <th>rank_change_home</th>\n",
              "      <th>cur_year_avg_home</th>\n",
              "      <th>cur_year_avg_weighted_home</th>\n",
              "      <th>last_year_avg_home</th>\n",
              "      <th>last_year_avg_weighted_home</th>\n",
              "      <th>two_year_ago_avg_home</th>\n",
              "      <th>two_year_ago_weighted_home</th>\n",
              "      <th>three_year_ago_avg_home</th>\n",
              "      <th>three_year_ago_weighted_home</th>\n",
              "      <th>confederation</th>\n",
              "      <th>rank_away</th>\n",
              "      <th>total_points_away</th>\n",
              "      <th>previous_points_away</th>\n",
              "      <th>rank_change_away</th>\n",
              "      <th>cur_year_avg_away</th>\n",
              "      <th>cur_year_avg_weighted_away</th>\n",
              "      <th>last_year_avg_away</th>\n",
              "      <th>last_year_avg_weighted_away</th>\n",
              "      <th>two_year_ago_avg_away</th>\n",
              "      <th>two_year_ago_weighted_away</th>\n",
              "      <th>three_year_ago_avg_away</th>\n",
              "      <th>three_year_ago_weighted_away</th>\n",
              "      <th>result</th>\n",
              "      <th>results</th>\n",
              "    </tr>\n",
              "  </thead>\n",
              "  <tbody>\n",
              "    <tr>\n",
              "      <th>0</th>\n",
              "      <td>0</td>\n",
              "      <td>1994-01-02</td>\n",
              "      <td>Barbados</td>\n",
              "      <td>Grenada</td>\n",
              "      <td>0</td>\n",
              "      <td>0</td>\n",
              "      <td>Friendly</td>\n",
              "      <td>Bridgetown</td>\n",
              "      <td>Barbados</td>\n",
              "      <td>False</td>\n",
              "      <td>1994</td>\n",
              "      <td>4</td>\n",
              "      <td>99.0</td>\n",
              "      <td>0.0</td>\n",
              "      <td>13.0</td>\n",
              "      <td>2.0</td>\n",
              "      <td>0.0</td>\n",
              "      <td>0.0</td>\n",
              "      <td>0.0</td>\n",
              "      <td>0.0</td>\n",
              "      <td>0.0</td>\n",
              "      <td>0.0</td>\n",
              "      <td>0.0</td>\n",
              "      <td>0.0</td>\n",
              "      <td>CONCACAF</td>\n",
              "      <td>131.0</td>\n",
              "      <td>0.0</td>\n",
              "      <td>7.0</td>\n",
              "      <td>1.0</td>\n",
              "      <td>0.0</td>\n",
              "      <td>0.0</td>\n",
              "      <td>0.0</td>\n",
              "      <td>0.0</td>\n",
              "      <td>0.0</td>\n",
              "      <td>0.0</td>\n",
              "      <td>0.0</td>\n",
              "      <td>0.0</td>\n",
              "      <td>0</td>\n",
              "      <td>draw</td>\n",
              "    </tr>\n",
              "    <tr>\n",
              "      <th>1</th>\n",
              "      <td>1</td>\n",
              "      <td>1994-01-02</td>\n",
              "      <td>Barbados</td>\n",
              "      <td>Grenada</td>\n",
              "      <td>0</td>\n",
              "      <td>0</td>\n",
              "      <td>Friendly</td>\n",
              "      <td>Bridgetown</td>\n",
              "      <td>Barbados</td>\n",
              "      <td>False</td>\n",
              "      <td>1994</td>\n",
              "      <td>4</td>\n",
              "      <td>99.0</td>\n",
              "      <td>0.0</td>\n",
              "      <td>13.0</td>\n",
              "      <td>2.0</td>\n",
              "      <td>0.0</td>\n",
              "      <td>0.0</td>\n",
              "      <td>0.0</td>\n",
              "      <td>0.0</td>\n",
              "      <td>0.0</td>\n",
              "      <td>0.0</td>\n",
              "      <td>0.0</td>\n",
              "      <td>0.0</td>\n",
              "      <td>CONCACAF</td>\n",
              "      <td>131.0</td>\n",
              "      <td>0.0</td>\n",
              "      <td>7.0</td>\n",
              "      <td>1.0</td>\n",
              "      <td>0.0</td>\n",
              "      <td>0.0</td>\n",
              "      <td>0.0</td>\n",
              "      <td>0.0</td>\n",
              "      <td>0.0</td>\n",
              "      <td>0.0</td>\n",
              "      <td>0.0</td>\n",
              "      <td>0.0</td>\n",
              "      <td>0</td>\n",
              "      <td>draw</td>\n",
              "    </tr>\n",
              "    <tr>\n",
              "      <th>2</th>\n",
              "      <td>2</td>\n",
              "      <td>1994-01-02</td>\n",
              "      <td>Ghana</td>\n",
              "      <td>Egypt</td>\n",
              "      <td>2</td>\n",
              "      <td>1</td>\n",
              "      <td>Friendly</td>\n",
              "      <td>Accra</td>\n",
              "      <td>Ghana</td>\n",
              "      <td>False</td>\n",
              "      <td>1994</td>\n",
              "      <td>4</td>\n",
              "      <td>29.0</td>\n",
              "      <td>0.0</td>\n",
              "      <td>41.0</td>\n",
              "      <td>2.0</td>\n",
              "      <td>0.0</td>\n",
              "      <td>0.0</td>\n",
              "      <td>0.0</td>\n",
              "      <td>0.0</td>\n",
              "      <td>0.0</td>\n",
              "      <td>0.0</td>\n",
              "      <td>0.0</td>\n",
              "      <td>0.0</td>\n",
              "      <td>CAF</td>\n",
              "      <td>24.0</td>\n",
              "      <td>0.0</td>\n",
              "      <td>44.0</td>\n",
              "      <td>1.0</td>\n",
              "      <td>0.0</td>\n",
              "      <td>0.0</td>\n",
              "      <td>0.0</td>\n",
              "      <td>0.0</td>\n",
              "      <td>0.0</td>\n",
              "      <td>0.0</td>\n",
              "      <td>0.0</td>\n",
              "      <td>0.0</td>\n",
              "      <td>1</td>\n",
              "      <td>win</td>\n",
              "    </tr>\n",
              "    <tr>\n",
              "      <th>3</th>\n",
              "      <td>3</td>\n",
              "      <td>1994-01-05</td>\n",
              "      <td>Mali</td>\n",
              "      <td>Burkina Faso</td>\n",
              "      <td>1</td>\n",
              "      <td>1</td>\n",
              "      <td>Friendly</td>\n",
              "      <td>Bamako</td>\n",
              "      <td>Mali</td>\n",
              "      <td>False</td>\n",
              "      <td>1994</td>\n",
              "      <td>4</td>\n",
              "      <td>48.0</td>\n",
              "      <td>0.0</td>\n",
              "      <td>31.0</td>\n",
              "      <td>9.0</td>\n",
              "      <td>0.0</td>\n",
              "      <td>0.0</td>\n",
              "      <td>0.0</td>\n",
              "      <td>0.0</td>\n",
              "      <td>0.0</td>\n",
              "      <td>0.0</td>\n",
              "      <td>0.0</td>\n",
              "      <td>0.0</td>\n",
              "      <td>CAF</td>\n",
              "      <td>101.0</td>\n",
              "      <td>0.0</td>\n",
              "      <td>12.0</td>\n",
              "      <td>3.0</td>\n",
              "      <td>0.0</td>\n",
              "      <td>0.0</td>\n",
              "      <td>0.0</td>\n",
              "      <td>0.0</td>\n",
              "      <td>0.0</td>\n",
              "      <td>0.0</td>\n",
              "      <td>0.0</td>\n",
              "      <td>0.0</td>\n",
              "      <td>0</td>\n",
              "      <td>draw</td>\n",
              "    </tr>\n",
              "    <tr>\n",
              "      <th>4</th>\n",
              "      <td>4</td>\n",
              "      <td>1994-01-09</td>\n",
              "      <td>Mauritania</td>\n",
              "      <td>Mali</td>\n",
              "      <td>1</td>\n",
              "      <td>3</td>\n",
              "      <td>Friendly</td>\n",
              "      <td>Nouakchott</td>\n",
              "      <td>Mauritania</td>\n",
              "      <td>False</td>\n",
              "      <td>1994</td>\n",
              "      <td>4</td>\n",
              "      <td>147.0</td>\n",
              "      <td>0.0</td>\n",
              "      <td>3.0</td>\n",
              "      <td>-1.0</td>\n",
              "      <td>0.0</td>\n",
              "      <td>0.0</td>\n",
              "      <td>0.0</td>\n",
              "      <td>0.0</td>\n",
              "      <td>0.0</td>\n",
              "      <td>0.0</td>\n",
              "      <td>0.0</td>\n",
              "      <td>0.0</td>\n",
              "      <td>CAF</td>\n",
              "      <td>48.0</td>\n",
              "      <td>0.0</td>\n",
              "      <td>31.0</td>\n",
              "      <td>9.0</td>\n",
              "      <td>0.0</td>\n",
              "      <td>0.0</td>\n",
              "      <td>0.0</td>\n",
              "      <td>0.0</td>\n",
              "      <td>0.0</td>\n",
              "      <td>0.0</td>\n",
              "      <td>0.0</td>\n",
              "      <td>0.0</td>\n",
              "      <td>-2</td>\n",
              "      <td>loss</td>\n",
              "    </tr>\n",
              "  </tbody>\n",
              "</table>\n",
              "</div>"
            ],
            "text/plain": [
              "   Unnamed: 0      date_x  ... result results\n",
              "0           0  1994-01-02  ...      0    draw\n",
              "1           1  1994-01-02  ...      0    draw\n",
              "2           2  1994-01-02  ...      1     win\n",
              "3           3  1994-01-05  ...      0    draw\n",
              "4           4  1994-01-09  ...     -2    loss\n",
              "\n",
              "[5 rows x 39 columns]"
            ]
          },
          "metadata": {
            "tags": []
          },
          "execution_count": 203
        }
      ]
    },
    {
      "cell_type": "code",
      "metadata": {
        "id": "FSzGyr7PutI7"
      },
      "source": [
        "clean_df.drop(['date_x'],axis=1, inplace= True)"
      ],
      "execution_count": 204,
      "outputs": []
    },
    {
      "cell_type": "markdown",
      "metadata": {
        "id": "LntDTSbVHUut"
      },
      "source": [
        " We split the dataset into training(90%) and test (10%) sets. I use the test dataset only for the final prediction."
      ]
    },
    {
      "cell_type": "code",
      "metadata": {
        "id": "aImsWOjDdjFV",
        "colab": {
          "base_uri": "https://localhost:8080/",
          "height": 200
        },
        "outputId": "8e72e022-a2ca-4bcc-e4f4-0b89cd28ea0e"
      },
      "source": [
        "# Selecting the relevant features for the logistic regression model\n",
        "#\n",
        "data = clean_df[['home_team', 'away_team', 'home_score', 'away_score', 'tournament', 'year', 'rank_home', 'rank_away', 'result']]\n",
        "\n",
        "# Previewing the first five rows of the data\n",
        "#\n",
        "data.head()"
      ],
      "execution_count": 205,
      "outputs": [
        {
          "output_type": "execute_result",
          "data": {
            "text/html": [
              "<div>\n",
              "<style scoped>\n",
              "    .dataframe tbody tr th:only-of-type {\n",
              "        vertical-align: middle;\n",
              "    }\n",
              "\n",
              "    .dataframe tbody tr th {\n",
              "        vertical-align: top;\n",
              "    }\n",
              "\n",
              "    .dataframe thead th {\n",
              "        text-align: right;\n",
              "    }\n",
              "</style>\n",
              "<table border=\"1\" class=\"dataframe\">\n",
              "  <thead>\n",
              "    <tr style=\"text-align: right;\">\n",
              "      <th></th>\n",
              "      <th>home_team</th>\n",
              "      <th>away_team</th>\n",
              "      <th>home_score</th>\n",
              "      <th>away_score</th>\n",
              "      <th>tournament</th>\n",
              "      <th>year</th>\n",
              "      <th>rank_home</th>\n",
              "      <th>rank_away</th>\n",
              "      <th>result</th>\n",
              "    </tr>\n",
              "  </thead>\n",
              "  <tbody>\n",
              "    <tr>\n",
              "      <th>0</th>\n",
              "      <td>Barbados</td>\n",
              "      <td>Grenada</td>\n",
              "      <td>0</td>\n",
              "      <td>0</td>\n",
              "      <td>Friendly</td>\n",
              "      <td>1994</td>\n",
              "      <td>99.0</td>\n",
              "      <td>131.0</td>\n",
              "      <td>0</td>\n",
              "    </tr>\n",
              "    <tr>\n",
              "      <th>1</th>\n",
              "      <td>Barbados</td>\n",
              "      <td>Grenada</td>\n",
              "      <td>0</td>\n",
              "      <td>0</td>\n",
              "      <td>Friendly</td>\n",
              "      <td>1994</td>\n",
              "      <td>99.0</td>\n",
              "      <td>131.0</td>\n",
              "      <td>0</td>\n",
              "    </tr>\n",
              "    <tr>\n",
              "      <th>2</th>\n",
              "      <td>Ghana</td>\n",
              "      <td>Egypt</td>\n",
              "      <td>2</td>\n",
              "      <td>1</td>\n",
              "      <td>Friendly</td>\n",
              "      <td>1994</td>\n",
              "      <td>29.0</td>\n",
              "      <td>24.0</td>\n",
              "      <td>1</td>\n",
              "    </tr>\n",
              "    <tr>\n",
              "      <th>3</th>\n",
              "      <td>Mali</td>\n",
              "      <td>Burkina Faso</td>\n",
              "      <td>1</td>\n",
              "      <td>1</td>\n",
              "      <td>Friendly</td>\n",
              "      <td>1994</td>\n",
              "      <td>48.0</td>\n",
              "      <td>101.0</td>\n",
              "      <td>0</td>\n",
              "    </tr>\n",
              "    <tr>\n",
              "      <th>4</th>\n",
              "      <td>Mauritania</td>\n",
              "      <td>Mali</td>\n",
              "      <td>1</td>\n",
              "      <td>3</td>\n",
              "      <td>Friendly</td>\n",
              "      <td>1994</td>\n",
              "      <td>147.0</td>\n",
              "      <td>48.0</td>\n",
              "      <td>-2</td>\n",
              "    </tr>\n",
              "  </tbody>\n",
              "</table>\n",
              "</div>"
            ],
            "text/plain": [
              "    home_team     away_team  home_score  ...  rank_home rank_away  result\n",
              "0    Barbados       Grenada           0  ...       99.0     131.0       0\n",
              "1    Barbados       Grenada           0  ...       99.0     131.0       0\n",
              "2       Ghana         Egypt           2  ...       29.0      24.0       1\n",
              "3        Mali  Burkina Faso           1  ...       48.0     101.0       0\n",
              "4  Mauritania          Mali           1  ...      147.0      48.0      -2\n",
              "\n",
              "[5 rows x 9 columns]"
            ]
          },
          "metadata": {
            "tags": []
          },
          "execution_count": 205
        }
      ]
    },
    {
      "cell_type": "code",
      "metadata": {
        "id": "cV5Y29B7wNlv",
        "colab": {
          "base_uri": "https://localhost:8080/",
          "height": 404
        },
        "outputId": "d457dd20-9a98-49d3-b55f-762f56d71061"
      },
      "source": [
        "# Checking whether the data is well balanced between all the results; win draw or lose\n",
        "#\n",
        "plt.figure(figsize = (10, 6))\n",
        "ax = sns.countplot(data.result)\n",
        "plt.ylabel('Frequency')\n",
        "plt.xlabel('Result')\n",
        "plt.title('Results Frequency Distribution')\n",
        "plt.show()"
      ],
      "execution_count": 206,
      "outputs": [
        {
          "output_type": "display_data",
          "data": {
            "image/png": "[encoded data removed]",
            "text/plain": [
              "<Figure size 720x432 with 1 Axes>"
            ]
          },
          "metadata": {
            "tags": [],
            "needs_background": "light"
          }
        }
      ]
    },
    {
      "cell_type": "code",
      "metadata": {
        "id": "QJIqW2IewcNY",
        "colab": {
          "base_uri": "https://localhost:8080/",
          "height": 500
        },
        "outputId": "29fec80c-fc9b-4392-e267-1388708fa7c1"
      },
      "source": [
        "#Checking for correlations between features\n",
        "#\n",
        "plt.figure(figsize = (10, 8))\n",
        "sns.heatmap(data.corr(), annot = True, linewidths=0.1) \n",
        "plt.title('Heatmap showing correlation between variables')\n",
        "plt.show()"
      ],
      "execution_count": 207,
      "outputs": [
        {
          "output_type": "display_data",
          "data": {
            "image/png": "[encoded data removed]",
            "text/plain": [
              "<Figure size 720x576 with 2 Axes>"
            ]
          },
          "metadata": {
            "tags": [],
            "needs_background": "light"
          }
        }
      ]
    },
    {
      "cell_type": "markdown",
      "metadata": {
        "id": "4QitjEn2AFDS"
      },
      "source": [
        "### Pair plots"
      ]
    },
    {
      "cell_type": "code",
      "metadata": {
        "colab": {
          "base_uri": "https://localhost:8080/",
          "height": 1000
        },
        "id": "uQ1NyPjh_gYe",
        "outputId": "524a05af-1e28-4742-866e-21ae31c3c0d3"
      },
      "source": [
        "sns.pairplot(data)\n",
        "plt.show()"
      ],
      "execution_count": 223,
      "outputs": [
        {
          "output_type": "display_data",
          "data": {
            "image/png": "[encoded data removed]",
            "text/plain": [
              "<Figure size 1080x1080 with 42 Axes>"
            ]
          },
          "metadata": {
            "tags": [],
            "needs_background": "light"
          }
        }
      ]
    },
    {
      "cell_type": "markdown",
      "metadata": {
        "id": "7wih8Zla_0Hz"
      },
      "source": [
        "### Homescore has a positive correlation whereas away score has a negative corelation with the result."
      ]
    },
    {
      "cell_type": "code",
      "metadata": {
        "id": "XQjAi-Eaz1Tk"
      },
      "source": [
        "\n",
        "data['results']=data.result.apply(lambda x: result(x))"
      ],
      "execution_count": 208,
      "outputs": []
    },
    {
      "cell_type": "code",
      "metadata": {
        "id": "OW6NCbaAwc7L"
      },
      "source": [
        "#Spliting the data into features and the target variable\n",
        "#\n",
        "X = data.drop(columns=['result', 'results', 'home_score', 'away_score', 'home_team',\t'away_team'])\n",
        "y = data.results"
      ],
      "execution_count": 209,
      "outputs": []
    },
    {
      "cell_type": "code",
      "metadata": {
        "id": "JgtWaZO3ziX7",
        "colab": {
          "base_uri": "https://localhost:8080/",
          "height": 200
        },
        "outputId": "1daa7717-7257-45fa-fdd5-6afff5bc334a"
      },
      "source": [
        "data.head()"
      ],
      "execution_count": 210,
      "outputs": [
        {
          "output_type": "execute_result",
          "data": {
            "text/html": [
              "<div>\n",
              "<style scoped>\n",
              "    .dataframe tbody tr th:only-of-type {\n",
              "        vertical-align: middle;\n",
              "    }\n",
              "\n",
              "    .dataframe tbody tr th {\n",
              "        vertical-align: top;\n",
              "    }\n",
              "\n",
              "    .dataframe thead th {\n",
              "        text-align: right;\n",
              "    }\n",
              "</style>\n",
              "<table border=\"1\" class=\"dataframe\">\n",
              "  <thead>\n",
              "    <tr style=\"text-align: right;\">\n",
              "      <th></th>\n",
              "      <th>home_team</th>\n",
              "      <th>away_team</th>\n",
              "      <th>home_score</th>\n",
              "      <th>away_score</th>\n",
              "      <th>tournament</th>\n",
              "      <th>year</th>\n",
              "      <th>rank_home</th>\n",
              "      <th>rank_away</th>\n",
              "      <th>result</th>\n",
              "      <th>results</th>\n",
              "    </tr>\n",
              "  </thead>\n",
              "  <tbody>\n",
              "    <tr>\n",
              "      <th>0</th>\n",
              "      <td>Barbados</td>\n",
              "      <td>Grenada</td>\n",
              "      <td>0</td>\n",
              "      <td>0</td>\n",
              "      <td>Friendly</td>\n",
              "      <td>1994</td>\n",
              "      <td>99.0</td>\n",
              "      <td>131.0</td>\n",
              "      <td>0</td>\n",
              "      <td>draw</td>\n",
              "    </tr>\n",
              "    <tr>\n",
              "      <th>1</th>\n",
              "      <td>Barbados</td>\n",
              "      <td>Grenada</td>\n",
              "      <td>0</td>\n",
              "      <td>0</td>\n",
              "      <td>Friendly</td>\n",
              "      <td>1994</td>\n",
              "      <td>99.0</td>\n",
              "      <td>131.0</td>\n",
              "      <td>0</td>\n",
              "      <td>draw</td>\n",
              "    </tr>\n",
              "    <tr>\n",
              "      <th>2</th>\n",
              "      <td>Ghana</td>\n",
              "      <td>Egypt</td>\n",
              "      <td>2</td>\n",
              "      <td>1</td>\n",
              "      <td>Friendly</td>\n",
              "      <td>1994</td>\n",
              "      <td>29.0</td>\n",
              "      <td>24.0</td>\n",
              "      <td>1</td>\n",
              "      <td>win</td>\n",
              "    </tr>\n",
              "    <tr>\n",
              "      <th>3</th>\n",
              "      <td>Mali</td>\n",
              "      <td>Burkina Faso</td>\n",
              "      <td>1</td>\n",
              "      <td>1</td>\n",
              "      <td>Friendly</td>\n",
              "      <td>1994</td>\n",
              "      <td>48.0</td>\n",
              "      <td>101.0</td>\n",
              "      <td>0</td>\n",
              "      <td>draw</td>\n",
              "    </tr>\n",
              "    <tr>\n",
              "      <th>4</th>\n",
              "      <td>Mauritania</td>\n",
              "      <td>Mali</td>\n",
              "      <td>1</td>\n",
              "      <td>3</td>\n",
              "      <td>Friendly</td>\n",
              "      <td>1994</td>\n",
              "      <td>147.0</td>\n",
              "      <td>48.0</td>\n",
              "      <td>-2</td>\n",
              "      <td>loss</td>\n",
              "    </tr>\n",
              "  </tbody>\n",
              "</table>\n",
              "</div>"
            ],
            "text/plain": [
              "    home_team     away_team  home_score  ...  rank_away result  results\n",
              "0    Barbados       Grenada           0  ...      131.0      0     draw\n",
              "1    Barbados       Grenada           0  ...      131.0      0     draw\n",
              "2       Ghana         Egypt           2  ...       24.0      1      win\n",
              "3        Mali  Burkina Faso           1  ...      101.0      0     draw\n",
              "4  Mauritania          Mali           1  ...       48.0     -2     loss\n",
              "\n",
              "[5 rows x 10 columns]"
            ]
          },
          "metadata": {
            "tags": []
          },
          "execution_count": 210
        }
      ]
    },
    {
      "cell_type": "code",
      "metadata": {
        "id": "_ECrIVpxxHR8",
        "colab": {
          "base_uri": "https://localhost:8080/",
          "height": 271
        },
        "outputId": "8da4f92c-868e-412f-b534-b0d756d5775c"
      },
      "source": [
        " #Encoding the categorical features\n",
        "#\n",
        "X = pd.get_dummies(X, drop_first=True)\n",
        "X.head()"
      ],
      "execution_count": 211,
      "outputs": [
        {
          "output_type": "execute_result",
          "data": {
            "text/html": [
              "<div>\n",
              "<style scoped>\n",
              "    .dataframe tbody tr th:only-of-type {\n",
              "        vertical-align: middle;\n",
              "    }\n",
              "\n",
              "    .dataframe tbody tr th {\n",
              "        vertical-align: top;\n",
              "    }\n",
              "\n",
              "    .dataframe thead th {\n",
              "        text-align: right;\n",
              "    }\n",
              "</style>\n",
              "<table border=\"1\" class=\"dataframe\">\n",
              "  <thead>\n",
              "    <tr style=\"text-align: right;\">\n",
              "      <th></th>\n",
              "      <th>year</th>\n",
              "      <th>rank_home</th>\n",
              "      <th>rank_away</th>\n",
              "      <th>tournament_AFC Asian Cup</th>\n",
              "      <th>tournament_AFC Asian Cup qualification</th>\n",
              "      <th>tournament_AFC Challenge Cup</th>\n",
              "      <th>tournament_AFC Challenge Cup qualification</th>\n",
              "      <th>tournament_AFF Championship</th>\n",
              "      <th>tournament_African Cup of Nations</th>\n",
              "      <th>tournament_African Cup of Nations qualification</th>\n",
              "      <th>tournament_African Nations Championship</th>\n",
              "      <th>tournament_Amílcar Cabral Cup</th>\n",
              "      <th>tournament_Baltic Cup</th>\n",
              "      <th>tournament_CECAFA Cup</th>\n",
              "      <th>tournament_CFU Caribbean Cup</th>\n",
              "      <th>tournament_CFU Caribbean Cup qualification</th>\n",
              "      <th>tournament_COSAFA Cup</th>\n",
              "      <th>tournament_Confederations Cup</th>\n",
              "      <th>tournament_Copa América</th>\n",
              "      <th>tournament_Copa América qualification</th>\n",
              "      <th>tournament_Copa Paz del Chaco</th>\n",
              "      <th>tournament_Copa del Pacífico</th>\n",
              "      <th>tournament_Cyprus International Tournament</th>\n",
              "      <th>tournament_Dragon Cup</th>\n",
              "      <th>tournament_Dunhill Cup</th>\n",
              "      <th>tournament_Dynasty Cup</th>\n",
              "      <th>tournament_EAFF Championship</th>\n",
              "      <th>tournament_FIFA World Cup</th>\n",
              "      <th>tournament_FIFA World Cup qualification</th>\n",
              "      <th>tournament_Friendly</th>\n",
              "      <th>tournament_Gold Cup</th>\n",
              "      <th>tournament_Gold Cup qualification</th>\n",
              "      <th>tournament_Gulf Cup</th>\n",
              "      <th>tournament_Intercontinental Cup</th>\n",
              "      <th>tournament_King Hassan II Tournament</th>\n",
              "      <th>tournament_King's Cup</th>\n",
              "      <th>tournament_Kirin Cup</th>\n",
              "      <th>tournament_Korea Cup</th>\n",
              "      <th>tournament_Lunar New Year Cup</th>\n",
              "      <th>tournament_Malta International Tournament</th>\n",
              "      <th>tournament_Merdeka Tournament</th>\n",
              "      <th>tournament_Millennium Cup</th>\n",
              "      <th>tournament_Nations Cup</th>\n",
              "      <th>tournament_Nehru Cup</th>\n",
              "      <th>tournament_Nile Basin Tournament</th>\n",
              "      <th>tournament_Nordic Championship</th>\n",
              "      <th>tournament_OSN Cup</th>\n",
              "      <th>tournament_Oceania Nations Cup</th>\n",
              "      <th>tournament_Oceania Nations Cup qualification</th>\n",
              "      <th>tournament_Pacific Games</th>\n",
              "      <th>tournament_Prime Minister's Cup</th>\n",
              "      <th>tournament_SAFF Cup</th>\n",
              "      <th>tournament_SKN Football Festival</th>\n",
              "      <th>tournament_Simba Tournament</th>\n",
              "      <th>tournament_South Pacific Games</th>\n",
              "      <th>tournament_Tournoi de France</th>\n",
              "      <th>tournament_UAFA Cup</th>\n",
              "      <th>tournament_UAFA Cup qualification</th>\n",
              "      <th>tournament_UEFA Euro</th>\n",
              "      <th>tournament_UEFA Euro qualification</th>\n",
              "      <th>tournament_UEFA Nations League</th>\n",
              "      <th>tournament_UNCAF Cup</th>\n",
              "      <th>tournament_UNIFFAC Cup</th>\n",
              "      <th>tournament_USA Cup</th>\n",
              "      <th>tournament_United Arab Emirates Friendship Tournament</th>\n",
              "      <th>tournament_VFF Cup</th>\n",
              "      <th>tournament_WAFF Championship</th>\n",
              "      <th>tournament_Windward Islands Tournament</th>\n",
              "    </tr>\n",
              "  </thead>\n",
              "  <tbody>\n",
              "    <tr>\n",
              "      <th>0</th>\n",
              "      <td>1994</td>\n",
              "      <td>99.0</td>\n",
              "      <td>131.0</td>\n",
              "      <td>0</td>\n",
              "      <td>0</td>\n",
              "      <td>0</td>\n",
              "      <td>0</td>\n",
              "      <td>0</td>\n",
              "      <td>0</td>\n",
              "      <td>0</td>\n",
              "      <td>0</td>\n",
              "      <td>0</td>\n",
              "      <td>0</td>\n",
              "      <td>0</td>\n",
              "      <td>0</td>\n",
              "      <td>0</td>\n",
              "      <td>0</td>\n",
              "      <td>0</td>\n",
              "      <td>0</td>\n",
              "      <td>0</td>\n",
              "      <td>0</td>\n",
              "      <td>0</td>\n",
              "      <td>0</td>\n",
              "      <td>0</td>\n",
              "      <td>0</td>\n",
              "      <td>0</td>\n",
              "      <td>0</td>\n",
              "      <td>0</td>\n",
              "      <td>0</td>\n",
              "      <td>1</td>\n",
              "      <td>0</td>\n",
              "      <td>0</td>\n",
              "      <td>0</td>\n",
              "      <td>0</td>\n",
              "      <td>0</td>\n",
              "      <td>0</td>\n",
              "      <td>0</td>\n",
              "      <td>0</td>\n",
              "      <td>0</td>\n",
              "      <td>0</td>\n",
              "      <td>0</td>\n",
              "      <td>0</td>\n",
              "      <td>0</td>\n",
              "      <td>0</td>\n",
              "      <td>0</td>\n",
              "      <td>0</td>\n",
              "      <td>0</td>\n",
              "      <td>0</td>\n",
              "      <td>0</td>\n",
              "      <td>0</td>\n",
              "      <td>0</td>\n",
              "      <td>0</td>\n",
              "      <td>0</td>\n",
              "      <td>0</td>\n",
              "      <td>0</td>\n",
              "      <td>0</td>\n",
              "      <td>0</td>\n",
              "      <td>0</td>\n",
              "      <td>0</td>\n",
              "      <td>0</td>\n",
              "      <td>0</td>\n",
              "      <td>0</td>\n",
              "      <td>0</td>\n",
              "      <td>0</td>\n",
              "      <td>0</td>\n",
              "      <td>0</td>\n",
              "      <td>0</td>\n",
              "      <td>0</td>\n",
              "    </tr>\n",
              "    <tr>\n",
              "      <th>1</th>\n",
              "      <td>1994</td>\n",
              "      <td>99.0</td>\n",
              "      <td>131.0</td>\n",
              "      <td>0</td>\n",
              "      <td>0</td>\n",
              "      <td>0</td>\n",
              "      <td>0</td>\n",
              "      <td>0</td>\n",
              "      <td>0</td>\n",
              "      <td>0</td>\n",
              "      <td>0</td>\n",
              "      <td>0</td>\n",
              "      <td>0</td>\n",
              "      <td>0</td>\n",
              "      <td>0</td>\n",
              "      <td>0</td>\n",
              "      <td>0</td>\n",
              "      <td>0</td>\n",
              "      <td>0</td>\n",
              "      <td>0</td>\n",
              "      <td>0</td>\n",
              "      <td>0</td>\n",
              "      <td>0</td>\n",
              "      <td>0</td>\n",
              "      <td>0</td>\n",
              "      <td>0</td>\n",
              "      <td>0</td>\n",
              "      <td>0</td>\n",
              "      <td>0</td>\n",
              "      <td>1</td>\n",
              "      <td>0</td>\n",
              "      <td>0</td>\n",
              "      <td>0</td>\n",
              "      <td>0</td>\n",
              "      <td>0</td>\n",
              "      <td>0</td>\n",
              "      <td>0</td>\n",
              "      <td>0</td>\n",
              "      <td>0</td>\n",
              "      <td>0</td>\n",
              "      <td>0</td>\n",
              "      <td>0</td>\n",
              "      <td>0</td>\n",
              "      <td>0</td>\n",
              "      <td>0</td>\n",
              "      <td>0</td>\n",
              "      <td>0</td>\n",
              "      <td>0</td>\n",
              "      <td>0</td>\n",
              "      <td>0</td>\n",
              "      <td>0</td>\n",
              "      <td>0</td>\n",
              "      <td>0</td>\n",
              "      <td>0</td>\n",
              "      <td>0</td>\n",
              "      <td>0</td>\n",
              "      <td>0</td>\n",
              "      <td>0</td>\n",
              "      <td>0</td>\n",
              "      <td>0</td>\n",
              "      <td>0</td>\n",
              "      <td>0</td>\n",
              "      <td>0</td>\n",
              "      <td>0</td>\n",
              "      <td>0</td>\n",
              "      <td>0</td>\n",
              "      <td>0</td>\n",
              "      <td>0</td>\n",
              "    </tr>\n",
              "    <tr>\n",
              "      <th>2</th>\n",
              "      <td>1994</td>\n",
              "      <td>29.0</td>\n",
              "      <td>24.0</td>\n",
              "      <td>0</td>\n",
              "      <td>0</td>\n",
              "      <td>0</td>\n",
              "      <td>0</td>\n",
              "      <td>0</td>\n",
              "      <td>0</td>\n",
              "      <td>0</td>\n",
              "      <td>0</td>\n",
              "      <td>0</td>\n",
              "      <td>0</td>\n",
              "      <td>0</td>\n",
              "      <td>0</td>\n",
              "      <td>0</td>\n",
              "      <td>0</td>\n",
              "      <td>0</td>\n",
              "      <td>0</td>\n",
              "      <td>0</td>\n",
              "      <td>0</td>\n",
              "      <td>0</td>\n",
              "      <td>0</td>\n",
              "      <td>0</td>\n",
              "      <td>0</td>\n",
              "      <td>0</td>\n",
              "      <td>0</td>\n",
              "      <td>0</td>\n",
              "      <td>0</td>\n",
              "      <td>1</td>\n",
              "      <td>0</td>\n",
              "      <td>0</td>\n",
              "      <td>0</td>\n",
              "      <td>0</td>\n",
              "      <td>0</td>\n",
              "      <td>0</td>\n",
              "      <td>0</td>\n",
              "      <td>0</td>\n",
              "      <td>0</td>\n",
              "      <td>0</td>\n",
              "      <td>0</td>\n",
              "      <td>0</td>\n",
              "      <td>0</td>\n",
              "      <td>0</td>\n",
              "      <td>0</td>\n",
              "      <td>0</td>\n",
              "      <td>0</td>\n",
              "      <td>0</td>\n",
              "      <td>0</td>\n",
              "      <td>0</td>\n",
              "      <td>0</td>\n",
              "      <td>0</td>\n",
              "      <td>0</td>\n",
              "      <td>0</td>\n",
              "      <td>0</td>\n",
              "      <td>0</td>\n",
              "      <td>0</td>\n",
              "      <td>0</td>\n",
              "      <td>0</td>\n",
              "      <td>0</td>\n",
              "      <td>0</td>\n",
              "      <td>0</td>\n",
              "      <td>0</td>\n",
              "      <td>0</td>\n",
              "      <td>0</td>\n",
              "      <td>0</td>\n",
              "      <td>0</td>\n",
              "      <td>0</td>\n",
              "    </tr>\n",
              "    <tr>\n",
              "      <th>3</th>\n",
              "      <td>1994</td>\n",
              "      <td>48.0</td>\n",
              "      <td>101.0</td>\n",
              "      <td>0</td>\n",
              "      <td>0</td>\n",
              "      <td>0</td>\n",
              "      <td>0</td>\n",
              "      <td>0</td>\n",
              "      <td>0</td>\n",
              "      <td>0</td>\n",
              "      <td>0</td>\n",
              "      <td>0</td>\n",
              "      <td>0</td>\n",
              "      <td>0</td>\n",
              "      <td>0</td>\n",
              "      <td>0</td>\n",
              "      <td>0</td>\n",
              "      <td>0</td>\n",
              "      <td>0</td>\n",
              "      <td>0</td>\n",
              "      <td>0</td>\n",
              "      <td>0</td>\n",
              "      <td>0</td>\n",
              "      <td>0</td>\n",
              "      <td>0</td>\n",
              "      <td>0</td>\n",
              "      <td>0</td>\n",
              "      <td>0</td>\n",
              "      <td>0</td>\n",
              "      <td>1</td>\n",
              "      <td>0</td>\n",
              "      <td>0</td>\n",
              "      <td>0</td>\n",
              "      <td>0</td>\n",
              "      <td>0</td>\n",
              "      <td>0</td>\n",
              "      <td>0</td>\n",
              "      <td>0</td>\n",
              "      <td>0</td>\n",
              "      <td>0</td>\n",
              "      <td>0</td>\n",
              "      <td>0</td>\n",
              "      <td>0</td>\n",
              "      <td>0</td>\n",
              "      <td>0</td>\n",
              "      <td>0</td>\n",
              "      <td>0</td>\n",
              "      <td>0</td>\n",
              "      <td>0</td>\n",
              "      <td>0</td>\n",
              "      <td>0</td>\n",
              "      <td>0</td>\n",
              "      <td>0</td>\n",
              "      <td>0</td>\n",
              "      <td>0</td>\n",
              "      <td>0</td>\n",
              "      <td>0</td>\n",
              "      <td>0</td>\n",
              "      <td>0</td>\n",
              "      <td>0</td>\n",
              "      <td>0</td>\n",
              "      <td>0</td>\n",
              "      <td>0</td>\n",
              "      <td>0</td>\n",
              "      <td>0</td>\n",
              "      <td>0</td>\n",
              "      <td>0</td>\n",
              "      <td>0</td>\n",
              "    </tr>\n",
              "    <tr>\n",
              "      <th>4</th>\n",
              "      <td>1994</td>\n",
              "      <td>147.0</td>\n",
              "      <td>48.0</td>\n",
              "      <td>0</td>\n",
              "      <td>0</td>\n",
              "      <td>0</td>\n",
              "      <td>0</td>\n",
              "      <td>0</td>\n",
              "      <td>0</td>\n",
              "      <td>0</td>\n",
              "      <td>0</td>\n",
              "      <td>0</td>\n",
              "      <td>0</td>\n",
              "      <td>0</td>\n",
              "      <td>0</td>\n",
              "      <td>0</td>\n",
              "      <td>0</td>\n",
              "      <td>0</td>\n",
              "      <td>0</td>\n",
              "      <td>0</td>\n",
              "      <td>0</td>\n",
              "      <td>0</td>\n",
              "      <td>0</td>\n",
              "      <td>0</td>\n",
              "      <td>0</td>\n",
              "      <td>0</td>\n",
              "      <td>0</td>\n",
              "      <td>0</td>\n",
              "      <td>0</td>\n",
              "      <td>1</td>\n",
              "      <td>0</td>\n",
              "      <td>0</td>\n",
              "      <td>0</td>\n",
              "      <td>0</td>\n",
              "      <td>0</td>\n",
              "      <td>0</td>\n",
              "      <td>0</td>\n",
              "      <td>0</td>\n",
              "      <td>0</td>\n",
              "      <td>0</td>\n",
              "      <td>0</td>\n",
              "      <td>0</td>\n",
              "      <td>0</td>\n",
              "      <td>0</td>\n",
              "      <td>0</td>\n",
              "      <td>0</td>\n",
              "      <td>0</td>\n",
              "      <td>0</td>\n",
              "      <td>0</td>\n",
              "      <td>0</td>\n",
              "      <td>0</td>\n",
              "      <td>0</td>\n",
              "      <td>0</td>\n",
              "      <td>0</td>\n",
              "      <td>0</td>\n",
              "      <td>0</td>\n",
              "      <td>0</td>\n",
              "      <td>0</td>\n",
              "      <td>0</td>\n",
              "      <td>0</td>\n",
              "      <td>0</td>\n",
              "      <td>0</td>\n",
              "      <td>0</td>\n",
              "      <td>0</td>\n",
              "      <td>0</td>\n",
              "      <td>0</td>\n",
              "      <td>0</td>\n",
              "      <td>0</td>\n",
              "    </tr>\n",
              "  </tbody>\n",
              "</table>\n",
              "</div>"
            ],
            "text/plain": [
              "   year  ...  tournament_Windward Islands Tournament\n",
              "0  1994  ...                                       0\n",
              "1  1994  ...                                       0\n",
              "2  1994  ...                                       0\n",
              "3  1994  ...                                       0\n",
              "4  1994  ...                                       0\n",
              "\n",
              "[5 rows x 68 columns]"
            ]
          },
          "metadata": {
            "tags": []
          },
          "execution_count": 211
        }
      ]
    },
    {
      "cell_type": "code",
      "metadata": {
        "id": "sxLCXkKiNfro"
      },
      "source": [
        "# split X and y into training and testing sets\n",
        "\n",
        "from sklearn.model_selection import train_test_split\n",
        "\n",
        "X_train, X_test, y_train, y_test =train_test_split(X,y,test_size=0.25, random_state=0)                                           "
      ],
      "execution_count": 212,
      "outputs": []
    },
    {
      "cell_type": "code",
      "metadata": {
        "colab": {
          "base_uri": "https://localhost:8080/"
        },
        "id": "0qO_cQ6vAgEb",
        "outputId": "76462c99-d7dd-4049-c9ed-99ac4261f29c"
      },
      "source": [
        "y"
      ],
      "execution_count": 225,
      "outputs": [
        {
          "output_type": "execute_result",
          "data": {
            "text/plain": [
              "0        draw\n",
              "1        draw\n",
              "2         win\n",
              "3        draw\n",
              "4        loss\n",
              "         ... \n",
              "18762     win\n",
              "18763    loss\n",
              "18764    loss\n",
              "18765    draw\n",
              "18766    draw\n",
              "Name: results, Length: 18767, dtype: object"
            ]
          },
          "metadata": {
            "tags": []
          },
          "execution_count": 225
        }
      ]
    },
    {
      "cell_type": "code",
      "metadata": {
        "id": "IU57pBpJSWfu"
      },
      "source": [
        "#import the class\n",
        "\n",
        "from sklearn.linear_model import LogisticRegression\n",
        "\n",
        "# define the logistic regression model\n",
        "logreg= LogisticRegression()\n"
      ],
      "execution_count": 233,
      "outputs": []
    },
    {
      "cell_type": "code",
      "metadata": {
        "id": "W31DooAFSyea"
      },
      "source": [
        "#Fit the model with data\n",
        "\n",
        "logreg.fit(X_train,y_train)\n",
        "\n",
        "#\n",
        "y_pred= logreg.predict(X_test)"
      ],
      "execution_count": 234,
      "outputs": []
    },
    {
      "cell_type": "code",
      "metadata": {
        "colab": {
          "base_uri": "https://localhost:8080/"
        },
        "id": "LeFoM4iV-RZv",
        "outputId": "2c38bd50-6d48-4b4f-d26f-958ccac2d4b4"
      },
      "source": [
        "score = logreg.score(X_train, y_train)\n",
        "score2 = logreg.score(X_test, y_test)\n",
        "print('Score: ',score)\n",
        "print('Score2: ', score2)"
      ],
      "execution_count": 222,
      "outputs": [
        {
          "output_type": "stream",
          "text": [
            "Score:  0.5709413854351687\n",
            "Score2:  0.5758738277919864\n"
          ],
          "name": "stdout"
        }
      ]
    },
    {
      "cell_type": "markdown",
      "metadata": {
        "id": "y9Nneuoq-l8C"
      },
      "source": [
        "The logistic regression has a score of about 57%"
      ]
    },
    {
      "cell_type": "markdown",
      "metadata": {
        "id": "2wy59jS9TJmi"
      },
      "source": [
        "## 5. Confusion Matrix\n",
        "\n",
        "This is used to evaluate the performance of our model"
      ]
    },
    {
      "cell_type": "code",
      "metadata": {
        "id": "k1poO6HQTlcE",
        "colab": {
          "base_uri": "https://localhost:8080/"
        },
        "outputId": "17f2e4e8-b9c2-4498-d389-57ab8d792888"
      },
      "source": [
        "#import the metrics class\n",
        "from sklearn import metrics\n",
        "\n",
        "cnf_matrix= metrics.confusion_matrix(y_test,y_pred)\n",
        "cnf_matrix"
      ],
      "execution_count": 215,
      "outputs": [
        {
          "output_type": "execute_result",
          "data": {
            "text/plain": [
              "array([[   0,  353,  780],\n",
              "       [   0,  723,  560],\n",
              "       [   0,  297, 1979]])"
            ]
          },
          "metadata": {
            "tags": []
          },
          "execution_count": 215
        }
      ]
    },
    {
      "cell_type": "markdown",
      "metadata": {
        "id": "9ZgVOYrLUux4"
      },
      "source": [
        "### Confusion matrix using heatmap"
      ]
    },
    {
      "cell_type": "code",
      "metadata": {
        "id": "pSDFcoPmU4iT",
        "colab": {
          "base_uri": "https://localhost:8080/",
          "height": 344
        },
        "outputId": "22f0980f-54fe-4373-9d25-b0efe21192aa"
      },
      "source": [
        "\n",
        "#Create Heatmap\n",
        "\n",
        "#plt.figure(dpi=700,figsize=(10,10))\n",
        "sns.heatmap(pd.DataFrame(cnf_matrix), annot=True, fmt='g')\n",
        "ax.xaxis.set_label_position('top')\n",
        "plt.tight_layout()\n",
        "plt.title('Confusion Matrix', y=1.1)\n",
        "plt.ylabel('Actual label')\n",
        "plt.xlabel('Predicted Label')\n"
      ],
      "execution_count": 217,
      "outputs": [
        {
          "output_type": "execute_result",
          "data": {
            "text/plain": [
              "Text(0.5, 15.0, 'Predicted Label')"
            ]
          },
          "metadata": {
            "tags": []
          },
          "execution_count": 217
        },
        {
          "output_type": "display_data",
          "data": {
            "image/png": "[encoded data removed]",
            "text/plain": [
              "<Figure size 432x288 with 2 Axes>"
            ]
          },
          "metadata": {
            "tags": [],
            "needs_background": "light"
          }
        }
      ]
    },
    {
      "cell_type": "markdown",
      "metadata": {
        "id": "8g0txHRhXZ7O"
      },
      "source": [
        "# Confusion Matrix Evaluation Metrics"
      ]
    },
    {
      "cell_type": "markdown",
      "metadata": {
        "id": "yB7JjgKxXkaP"
      },
      "source": [
        "Lets evaluate the model using accuracy, precision and recall"
      ]
    },
    {
      "cell_type": "code",
      "metadata": {
        "id": "rBJspC1qXY9Q",
        "colab": {
          "base_uri": "https://localhost:8080/"
        },
        "outputId": "7c54773e-a4f3-4b55-b172-3e31ba23e4e5"
      },
      "source": [
        "print(\"Accuracy\", metrics.accuracy_score(y_test,y_pred))\n",
        "print(\"Precision\", metrics.accuracy_score(y_test,y_pred))\n",
        "print(\"Recall\", metrics.accuracy_score(y_test,y_pred))"
      ],
      "execution_count": 218,
      "outputs": [
        {
          "output_type": "stream",
          "text": [
            "Accuracy 0.5758738277919864\n",
            "Precision 0.5758738277919864\n",
            "Recall 0.5758738277919864\n"
          ],
          "name": "stdout"
        }
      ]
    },
    {
      "cell_type": "markdown",
      "metadata": {
        "id": "VF3YGiZGYEUe"
      },
      "source": [
        "Precision is about being precise, how accurate your mode is in other word when your model makes a prediction how accurate is it"
      ]
    },
    {
      "cell_type": "markdown",
      "metadata": {
        "id": "_XKk1lK3LFOJ"
      },
      "source": [
        "## 6. Conclusion\n",
        "With a classification of 57%, the basic logistic regression model didn't achieve the 85% accuracy target."
      ]
    },
    {
      "cell_type": "markdown",
      "metadata": {
        "id": "OPuJMhr1Eo_H"
      },
      "source": [
        "## 7. Further investigation.\n",
        "Further work need to be done by tweaking the logistic regression model further and try other models as well."
      ]
    },
    {
      "cell_type": "code",
      "metadata": {
        "id": "sYzsZuVKEu1S"
      },
      "source": [
        ""
      ],
      "execution_count": null,
      "outputs": []
    }
  ]
}